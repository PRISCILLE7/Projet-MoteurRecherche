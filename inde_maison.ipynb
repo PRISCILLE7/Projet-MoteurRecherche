{
 "cells": [
  {
   "cell_type": "markdown",
   "id": "1141c73c",
   "metadata": {},
   "source": [
    "# Exercice 1 : Construire l’index simple"
   ]
  },
  {
   "cell_type": "code",
   "execution_count": 2,
   "id": "6b70b02e",
   "metadata": {},
   "outputs": [
    {
     "name": "stderr",
     "output_type": "stream",
     "text": [
      "[nltk_data] Downloading package punkt to /home/priscille/nltk_data...\n",
      "[nltk_data]   Unzipping tokenizers/punkt.zip.\n"
     ]
    },
    {
     "data": {
      "text/plain": [
       "True"
      ]
     },
     "execution_count": 2,
     "metadata": {},
     "output_type": "execute_result"
    }
   ],
   "source": [
    "import os\n",
    "import glob\n",
    "import json\n",
    "import nltk\n",
    "nltk.download('punkt')\n"
   ]
  },
  {
   "cell_type": "markdown",
   "id": "4c103965",
   "metadata": {},
   "source": [
    "Importation de Dossier de corpus"
   ]
  },
  {
   "cell_type": "code",
   "execution_count": 3,
   "id": "3c5cc31e",
   "metadata": {},
   "outputs": [],
   "source": [
    "corpus_path = \"./europarl/fr/\""
   ]
  },
  {
   "cell_type": "code",
   "execution_count": null,
   "id": "339ebee4",
   "metadata": {},
   "outputs": [
    {
     "name": "stdout",
     "output_type": "stream",
     "text": [
      "Taille du vocabulaire : 23493\n",
      "Quelques mots indexés : ['reprise', 'de', 'la', 'session', 'je', 'déclare', 'du', 'parlement', 'européen', 'qui', 'avait', 'été', 'interrompue', 'le', 'jeudi', '30', 'mai', '2002.', 'comme', 'vous', 'savez,', 'chers', 'collègues,', 'principe', 'transparence', 'est', 'consacré', 'dans', \"l'article\", 'premier', 'traité', 'sur', \"l'union\", 'européenne.', 'son', 'entrée', 'en', 'vigueur', 'a', 'annoncé', 'une', 'nouvelle', 'ère', 'laquelle', 'les', 'décisions', 'doivent', 'se', 'prendre', 'un']\n"
     ]
    }
   ],
   "source": [
    "def lire_fichier(path):\n",
    "    with open(path, \"r\", encoding=\"utf-8\", errors=\"ignore\") as f:\n",
    "        return f.read()\n",
    "\n",
    "def decouper_mots(texte):\n",
    "    return texte.lower().split()\n",
    "\n",
    "index = {}\n",
    "\n",
    "fichiers = glob.glob(os.path.join(corpus_path, \"*\"))[:5]\n",
    "\n",
    "for chemin in fichiers:\n",
    "    contenu = lire_fichier(chemin)\n",
    "    mots = decouper_mots(contenu)\n",
    "    for mot in mots:\n",
    "        if mot not in index:\n",
    "            index[mot] = set()\n",
    "        index[mot].add(chemin)\n",
    "\n",
    "print(\"Taille du vocabulaire :\", len(index))\n",
    "print(\"Quelques mots indexés :\", list(index.keys())[:50])"
   ]
  },
  {
   "cell_type": "markdown",
   "id": "6ba410a7",
   "metadata": {},
   "source": [
    " Exemple : documents contenant le mot \"indique\""
   ]
  },
  {
   "cell_type": "code",
   "execution_count": null,
   "id": "1adca8a8",
   "metadata": {},
   "outputs": [
    {
     "name": "stdout",
     "output_type": "stream",
     "text": [
      "Documents contenant 'indique' : {'./europarl/fr/ep-03-06-18-fr.txt', './europarl/fr/ep-03-03-12-fr.txt'}\n",
      "Index sauvegardé dans 'index.json'.\n"
     ]
    }
   ],
   "source": [
    "mot_exemple = \"indique\"\n",
    "if mot_exemple in index:\n",
    "    print(f\"Documents contenant '{mot_exemple}' :\", index[mot_exemple])\n",
    "else:\n",
    "    print(f\"Mot '{mot_exemple}' non trouvé dans l'index.\")\n",
    "\n",
    "index_serializable = {mot: list(fichiers) for mot, fichiers in index.items()}\n",
    "with open(\"index.json\", \"w\", encoding=\"utf-8\") as f:\n",
    "    json.dump(index_serializable, f)\n",
    "\n",
    "print(\"Index sauvegardé dans 'index.json'.\")"
   ]
  },
  {
   "cell_type": "markdown",
   "id": "65128415",
   "metadata": {},
   "source": [
    "exemple 2 : affichage de nombre de textes contenant certains mots"
   ]
  },
  {
   "cell_type": "code",
   "execution_count": null,
   "id": "e3bdd9d3",
   "metadata": {},
   "outputs": [
    {
     "name": "stdout",
     "output_type": "stream",
     "text": [
      "Le mot 'indique' apparaît dans 2 document(s).\n",
      "Le mot 'européenne' apparaît dans 5 document(s).\n",
      "Le mot 'toto' apparaît dans 0 document(s).\n",
      "Index sauvegardé dans 'index.json'.\n"
     ]
    }
   ],
   "source": [
    "def compter_documents(mot, index):\n",
    "    mot = mot.lower()\n",
    "    if mot in index:\n",
    "        return len(index[mot])\n",
    "    else:\n",
    "        return 0\n",
    "\n",
    "mots_a_verifier = [\"indique\", \"européenne\", \"toto\"]\n",
    "\n",
    "for mot in mots_a_verifier:\n",
    "    nombre_textes = compter_documents(mot, index)\n",
    "    print(f\"Le mot '{mot}' apparaît dans {nombre_textes} document(s).\")\n",
    "\n",
    "index_serializable = {mot: list(paths) for mot, paths in index.items()}\n",
    "with open(\"index.json\", \"w\", encoding=\"utf-8\") as f:\n",
    "    json.dump(index_serializable, f)\n",
    "\n",
    "print(\"Index sauvegardé dans 'index.json'.\")"
   ]
  },
  {
   "cell_type": "markdown",
   "id": "64e52c7c",
   "metadata": {},
   "source": [
    " # Exercice 2 : Requêter le corpus\n",
    " Objectif :\n",
    "\n",
    "    - Charger l’index sauvegardé (index.json)\n",
    "    - Découper une requête en mots\n",
    "    - Trouver tous les documents qui contiennent au moins un des mots\n",
    "    - Améliorer : éviter doublons, limiter à 10 documents, trier selon le nombre de mots présents\n",
    "\n"
   ]
  },
  {
   "cell_type": "markdown",
   "id": "1b0ebb11",
   "metadata": {},
   "source": [
    "Charger l'index sauvegardé"
   ]
  },
  {
   "cell_type": "code",
   "execution_count": 12,
   "id": "c92019ae",
   "metadata": {},
   "outputs": [
    {
     "name": "stderr",
     "output_type": "stream",
     "text": [
      "[nltk_data] Downloading package punkt to /home/priscille/nltk_data...\n",
      "[nltk_data]   Package punkt is already up-to-date!\n",
      "[nltk_data] Downloading package perluniprops to\n",
      "[nltk_data]     /home/priscille/nltk_data...\n",
      "[nltk_data]   Unzipping misc/perluniprops.zip.\n",
      "[nltk_data] Downloading package nonbreaking_prefixes to\n",
      "[nltk_data]     /home/priscille/nltk_data...\n",
      "[nltk_data]   Unzipping corpora/nonbreaking_prefixes.zip.\n"
     ]
    },
    {
     "data": {
      "text/plain": [
       "True"
      ]
     },
     "execution_count": 12,
     "metadata": {},
     "output_type": "execute_result"
    }
   ],
   "source": [
    "import nltk\n",
    "nltk.download('punkt')\n",
    "nltk.download('perluniprops')\n",
    "nltk.download('nonbreaking_prefixes')\n"
   ]
  },
  {
   "cell_type": "code",
   "execution_count": 13,
   "id": "82fa2b2e",
   "metadata": {},
   "outputs": [
    {
     "name": "stdout",
     "output_type": "stream",
     "text": [
      "Index chargé avec succès.\n"
     ]
    }
   ],
   "source": [
    "\n",
    "with open(\"index.json\", \"r\", encoding=\"utf-8\") as f:\n",
    "    index = json.load(f)\n",
    "print(\"Index chargé avec succès.\")"
   ]
  },
  {
   "cell_type": "code",
   "execution_count": null,
   "id": "6addd46d",
   "metadata": {},
   "outputs": [],
   "source": [
    "from nltk.tokenize import wordpunct_tokenize\n",
    "\n",
    "def decouper_requete(requete):\n",
    "    return wordpunct_tokenize(requete.lower())\n",
    "\n",
    "def chercher_documents(requete, index):\n",
    "    mots_requete = decouper_requete(requete)\n",
    "    documents_trouves = {}\n",
    "\n",
    "    for mot in mots_requete:\n",
    "        if mot in index:\n",
    "            for doc in index[mot]:\n",
    "                if doc not in documents_trouves:\n",
    "                    documents_trouves[doc] = 0\n",
    "                documents_trouves[doc] += 1 \n",
    "    return documents_trouves\n",
    "\n",
    "def afficher_documents(documents_trouves):\n",
    "    if not documents_trouves:\n",
    "        print(\"Aucun mot de la requête n'a été trouvé dans les documents.\")\n",
    "        return\n",
    "    liste_triee = sorted(documents_trouves.items(), key=lambda x: x[1], reverse=True)\n",
    "\n",
    "    print(f\"Top {min(10, len(liste_triee))} documents les plus pertinents :\")\n",
    "    for doc, score in liste_triee[:10]:  \n",
    "        print(f\"Document : {doc.split('/')[-1]} | Score (mots trouvés) : {score}\")"
   ]
  },
  {
   "cell_type": "markdown",
   "id": "fb455364",
   "metadata": {},
   "source": [
    "#Exemple d'utilisation"
   ]
  },
  {
   "cell_type": "code",
   "execution_count": 21,
   "id": "2f086f82",
   "metadata": {},
   "outputs": [
    {
     "name": "stdout",
     "output_type": "stream",
     "text": [
      "Top 5 documents les plus pertinents :\n",
      "Document : ep-02-06-10-fr.txt | Score (mots trouvés) : 2\n",
      "Document : ep-03-03-12-fr.txt | Score (mots trouvés) : 2\n",
      "Document : ep-03-06-18-fr.txt | Score (mots trouvés) : 2\n",
      "Document : ep-02-12-04-fr.txt | Score (mots trouvés) : 2\n",
      "Document : ep-00-02-18-fr.txt | Score (mots trouvés) : 2\n"
     ]
    }
   ],
   "source": [
    "requete = \"Commission Européenne\"\n",
    "documents_trouves = chercher_documents(requete, index)\n",
    "afficher_documents(documents_trouves)"
   ]
  },
  {
   "cell_type": "markdown",
   "id": "debf8492",
   "metadata": {},
   "source": [
    " # Exercice 3 : Afficher les contextes\n",
    " Quand on trouve un mot dans un document, on veut afficher le contexte autour du mot (avant/après), pas seulement le nom du fichier."
   ]
  },
  {
   "cell_type": "markdown",
   "id": "af105e5a",
   "metadata": {},
   "source": [
    "\n",
    "#Charger l'index sauvegardé"
   ]
  },
  {
   "cell_type": "code",
   "execution_count": null,
   "id": "7dac197f",
   "metadata": {},
   "outputs": [],
   "source": [
    "import re\n",
    "\n",
    "def afficher_contextes(texte, mot_recherche, taille_contexte=30):\n",
    "    match = re.search(mot_recherche, texte, re.IGNORECASE) \n",
    "    contexts = []\n",
    "    while match is not None:\n",
    "        gauche = max(match.start() - taille_contexte, 0)\n",
    "        droite = match.end() + taille_contexte\n",
    "        contexts.append(texte[gauche:droite])\n",
    "        texte = texte[match.end():]\n",
    "        match = re.search(mot_recherche, texte, re.IGNORECASE)\n",
    "    \n",
    "    for c in contexts:\n",
    "        print(\"...\", c.strip(), \"...\")\n"
   ]
  },
  {
   "cell_type": "markdown",
   "id": "476b2cf7",
   "metadata": {},
   "source": [
    "Exemple d’utilisation : on a trouvé un document qui contient \"Commission\".\n",
    "On veut afficher le contexte autour du mot dans ce fichier."
   ]
  },
  {
   "cell_type": "code",
   "execution_count": null,
   "id": "55f69622",
   "metadata": {},
   "outputs": [
    {
     "name": "stdout",
     "output_type": "stream",
     "text": [
      "... uments du Parlement européen, du Conseil et de la Commission.\n",
      "        Le règlement exigeait des institutions q ...\n",
      "... nt du groupe ELDR pour que la communication de la Commission sur le Livre vert sur la protection des consommat ...\n",
      "... t une bonne chose.\n",
      "      \n",
      "      \n",
      "        Quand la Commission a-t-elle eu connaissance de cette affaire ? ...\n",
      "... s a-t-elle prises et quelle est la position de la Commission actuellement ?\n",
      "        L'Europe dispose par aille ...\n",
      "... ire de Dublin, placé sous la responsabilité de la Commission.\n",
      "        Cet organe contrôle la totalité de la pr ...\n",
      "... Europe.\n",
      "      \n",
      "      \n",
      "    \n",
      "    \n",
      "      \n",
      "        La Commission a fait savoir qu'elle serait heureuse d'aborder c ...\n",
      "... 'invasion.\n",
      "        Nous devons l'examiner avec la Commission et le Conseil, en nous rappelant que les quinze É ...\n",
      "... 'un examen et de déclarations du Conseil et de la Commission, lors de la prochaine séance plénière du mois de ...\n",
      "... édure de levée d'immunité se trouve au sein de la commission juridique et des droits des citoyens.\n",
      "        La ...\n",
      "... donc le maintien de cette procédure au sein de la commission juridique et des droits des citoyens.\n",
      "        Je ...\n",
      "... , je vous demande de contacter le président de la commission juridique et des droits des citoyens afin de port ...\n",
      "... leur défense au sein de cette Assemblée et de la commission compétente.\n",
      "        Voilà pourquoi, Monsieur le P ...\n",
      "... question de fond, il m'a semblé comprendre que la commission juridique et du marché intérieur a ou va demander ...\n",
      "... Je m'adresse à notre rapporteur pour la commission juridique, M. MacCormick.\n",
      "        S'il est en mes ...\n",
      "... océdure.\n",
      "        L'affaire a été portée devant la commission juridique et du marché intérieur dans le courant ...\n",
      "... nnée.\n",
      "        En dépit de mes recommandations, la commission juridique a estimé que des informations plus clai ...\n",
      "... aines lors de l'assemblée des coordinateurs de la commission juridique, et j'ai dit que j'espérais que l'on po ...\n",
      "... e adresserons-nous une note à nos collègues de la commission juridique et du marché intérieur les incitant à a ...\n",
      "... i derniers, les 3 et le 4 juin, aux travaux de la commission parlementaire mixte Union européenne / Bulgarie. ...\n",
      "... e M. Dell'Utri.\n",
      "        Je me souviens du vote en commission juridique.\n",
      "        La commission a voté la décisi ...\n",
      "... juridique.\n",
      "        La commission a voté la décision de demander à la magistrature ...\n",
      "... résent, ce n'est plus le Parlement européen ou la commission juridique qui se trouvent dans une position rétic ...\n",
      "... Ma suggestion serait que j'envoie une note à la commission juridique et du marché intérieur pour demander un ...\n",
      "... A5-0008/2002 de M. Corbett, au nom de la commission des affaires constitutionnelles, sur la révision ...\n",
      "... A5-0252/2000 de M. Corbett, au nom de la commission des affaires constitutionnelles, sur des modifica ...\n",
      "... A5-0306/2000 de M. Inglewood, au nom de la commission des affaires constitutionnelles, sur la modificat ...\n",
      "... Tout cela a été rassemblé dans le rapport de la commission et dans un ensemble d'environ 120 changements pré ...\n",
      "... eux qui récoltent une majorité de plus de 90 % en commission - devraient être considérés comme non controversé ...\n",
      "... sibilité d'apposer des notes sur le rapport de la commission en l'état et de le faire suivre auprès des autres ...\n",
      "... le président devrait être autorisé à renvoyer en commission des rapports qui ont récolté un grand nombre d'am ...\n",
      "... récolté un grand nombre d'amendements afin que la commission agisse comme une sorte de filtre et teste les ame ...\n",
      "... e soutien de moins d'un dixième des députés de la commission n'auraient pas besoin d'être mis aux voix en plén ...\n",
      "... partenant à aucun groupe politique.\n",
      "        Notre commission a fait l'inventaire de tous les points du règleme ...\n",
      "... gretterais qu'il doive de nouveau être renvoyé en commission.\n",
      "        Si nécessaire, je suis d'accord, mais il ...\n",
      "... udrais simplement exprimer ma gratitude envers la commission de la pêche, qui n'est en règle générale pas asso ...\n",
      "... meilleure.\n",
      "        Pour les droits de l'homme, la commission compétente - la commission des affaires étrangère ...\n",
      "... compétente - la commission des affaires étrangères, des droits de l'homme, d ...\n",
      "... importants dans cette Assemblée, c'est-à-dire en commission et d'une manière approfondie, plutôt que d'être r ...\n",
      "... ortance de cet ensemble.\n",
      "      \n",
      "      \n",
      "        La commission des budgets a déposé quinze amendements. ...\n",
      "... Il leur arrive de poser des questions à la Commission sur lesquelles il nous appartient de nous prononc ...\n",
      "... d'abord, et cela va de soi, dans le travail de la commission et ensuite dans la collaboration avec les autres ...\n",
      "... et ensuite dans la collaboration avec les autres commissions.\n",
      "        Bon nombre des amendements ont trait à ...\n",
      "... ents ont trait à la collaboration avec les autres commissions.\n",
      "        Ils ont pour but de permettre une colla ...\n",
      "... s ces rapports.\n",
      "        Je m'exprime au nom de la commission du contrôle budgétaire et je tiens à dire que 14 ...\n",
      "... ontrôle budgétaire et je tiens à dire que 14 sous-commissions ont présenté leur avis à ce sujet.\n",
      "        Monsi ...\n",
      "... ssion à bien.\n",
      "      \n",
      "      \n",
      "        Au sein de la commission du contrôle budgétaire, nous nous sommes penchés ...\n",
      "... en particulier la manière dont nous procédons en commission et en séance plénière pour la nomination des memb ...\n",
      "... Nous avions rendu à l'époque un avis de la commission du contrôle budgétaire pour la commission des aff ...\n",
      "... du contrôle budgétaire pour la commission des affaires constitutionnelles, qui est cependan ...\n",
      "... ment couvre aussi - finalement - la demande de la commission du contrôle budgétaire que vous n'avez pu prendre ...\n",
      "... Bien entendu, les amendements que la commission des citoyens a soumis à la commission responsable ...\n",
      "... des citoyens a soumis à la commission responsable n'ont pas reçu un soutien global. ...\n",
      "... d'amendements portant sur la responsabilité de la commission en relation avec le respect des droits fondamenta ...\n",
      "... e l'Assemblée.\n",
      "      \n",
      "      \n",
      "        Au nom de la commission économique et monétaire, j'accueille chaleureusem ...\n",
      "... xemple - des sujets finalement traités au sein de commissions spécialisées, puisqu'il est apparu sans équivoqu ...\n",
      "... à une situation où, au terme d'une discussion en commission, nous formerions lors du vote de prétendues major ...\n",
      "... airement ce que vous attendez du Parlement et des commissions en ce qui concerne les amendements 87 et 88, pui ...\n",
      "... de revenir sur trois points mis en exergue par la commission juridique, permettez-moi une remarque générale. ...\n",
      "... - doit également consolider la responsabilité des commissions.\n",
      "        Or, ceci n'est possible que si l'on rel ...\n",
      "... hauteur des obstacles qui séparent les débats en commission et en séance plénière.\n",
      "        Il s'agit d'un imp ...\n",
      "... Les propositions de Richard Corbett et de la commission vont dans la bonne direction.\n",
      "        Nous devron ...\n",
      "... Trois points étaient et sont essentiels pour la commission juridique : premièrement, les initiatives législa ...\n",
      "... uée au niveau de la Conférence des présidents des commissions.\n",
      "        Supprimons donc ces obstacles ! ...\n",
      "... u vote lors de la confirmation du président de la Commission et de la Commission en général.\n",
      "        Les procé ...\n",
      "... et de la Commission en général.\n",
      "        Les procédures appliquées dan ...\n",
      "... portants.\n",
      "      \n",
      "      \n",
      "        Dans l'avis de la commission de l'emploi et des affaires sociales, j'ai soulig ...\n",
      "... bilité au président de renvoyer une question à la commission compétente pour y répondre, ce qui aurait pour av ...\n",
      "... e je faisais dans mon avis visait à renvoyer à la commission compétente sur le fond la décision concernant le ...\n",
      "... noré - mais qui l'a été - et qui consiste pour la commission compétente sur le fond à pouvoir décider d'invite ...\n",
      "... pports et de rapports annuels du Conseil et de la Commission.\n",
      "        L'objectif consiste une fois de plus à r ...\n",
      "... ui font partie de la sphère des compétences de la commission de l'emploi et des affaires sociales, raison pour ...\n",
      "... gique de l'insérer parmi les compétences de cette commission parlementaire. ...\n",
      "... ue c'est là le noyau dur du rapport adopté par la commission des affaires constitutionnelles.\n",
      "        Le Parti ...\n",
      "... Nous devons exiger des explications de la Commission ou du Conseil pour pouvoir nous exprimer sur les ...\n",
      "... pertinemment de renforcer la responsabilité de la commission des budgets et de la commission juridique et du m ...\n",
      "... des budgets et de la commission juridique et du marché intérieur en ce qui concer ...\n",
      "... extes d'arriver en plénière sans être débattus en commission, afin que ces textes soient mieux préparés ; ladi ...\n",
      "... x délibérations menées au sein des groupes et des commissions.\n",
      "        Les exceptions à cette règle doivent co ...\n",
      "... Europe pour les obtenir.\n",
      "        Actuellement, la Commission européenne et le Conseil se montrent ici sous un ...\n",
      "... Le Parlement devrait peut-être se doter d'une commission d'enquête provisoire sur la fièvre aphteuse, comm ...\n",
      "... ouer les agneaux inoffensifs.\n",
      "        Chacune des commissions parlementaires dispose d'ores et déjà de la poss ...\n",
      "... comble de la vexation est même atteint lorsque la Commission et le Conseil prennent la parole jusqu'à trois fo ...\n",
      "... is.\n",
      "        Je voudrais dès maintenant appeler la Commission et le Conseil à s'imposer volontairement une limi ...\n",
      "... rimés sur les sujets les plus divers sans que les commissions spécialisées soient mises à contribution. ...\n",
      "... ox ainsi qu'à vous afin que nous établissions une commission parlementaire, dans l'esprit de la commission des ...\n",
      "... parlementaire, dans l'esprit de la commission des droits de la femme, et dans les délais les pl ...\n",
      "... européennes, notamment celle du Conseil et de la Commission.\n",
      "        Cette réforme est plus que nécessaire. ...\n",
      "... rtout aux dispositions relatives aux pouvoirs des commissions.\n",
      "        De ce point de vue, nous avons travaill ...\n",
      "... ésenté à la plénière, ce qui doit être renvoyé en commission sur la seule base de la quantité des amendements ...\n",
      "... lement le résultat de la mauvaise préparation des commissions.\n",
      "        Les commissions qui travaillent bien so ...\n",
      "... s.\n",
      "        Les commissions qui travaillent bien sont celles qui sont capabl ...\n",
      "... es qui n'en sont pas capables sont exactement les commissions qui nous font perdre du temps. ...\n",
      "... en ce qui concerne la possibilité de renvoyer en commission, de faire décider aux commissions, dans les cas p ...\n",
      "... , de faire décider aux commissions, dans les cas prévus par M. Corbett.\n",
      "        Nou ...\n",
      "... ous sommes inquiets pour la simple raison que les commissions parlementaires ne reflètent pas toujours la majo ...\n",
      "... engagement témoigné par notre collègue Corbett en commission et conjointement avec les collègues de cette Asse ...\n",
      "... es yeux.\n",
      "      \n",
      "      \n",
      "        J'avais demandé en commission que le règlement soit dépourvu de formulations se ...\n",
      "... 'ils n'ont pas recueilli plus de 10 % des voix en commission.\n",
      "        Et tout est à l'avenant.\n",
      "        On le v ...\n",
      "... t véritablement animées et spontanées au sein des commissions parlementaires, mais les citoyens ne peuvent s'e ...\n",
      "... quelques mots sur les amendements déposés par la commission de l'emploi et des affaires sociales.\n",
      "        Com ...\n",
      "... e que nous avons simplement proposé au sein de la commission de l'emploi et des affaires sociales, c'était de ...\n",
      "... st par conséquent profondément regrettable que la commission des affaires institutionnelles n'ait pas été sens ...\n",
      "... cycle, même s'il est fréquent que les réunions en commissions fassent l'objet d'une meilleure assiduité. ...\n",
      "... nde désormais du nombre de membres que compte une commission.\n",
      "        Cela n'a rien à voir avec les idées que ...\n",
      "... s ne reçoivent pas l'appui de 10 % des membres en commission ou de retirer à un groupe le droit déposer des am ...\n",
      "... isquent d'être bouleversées par chaque réunion de commission, en fonction, ainsi que le disaient les députés q ...\n",
      "... quilibre et de l'interaction entre le travail des commissions, le travail des groupes et le travail en séance ...\n",
      "... nous devons veiller à ce qu'une large majorité en commission n'ait pas un effet réducteur sur la discussion en ...\n",
      "... surer une réelle coopération entre le travail des commissions parlementaires, des groupes et de la plénière ! ...\n",
      "... l.\n",
      "      \n",
      "      \n",
      "        En tant que membre de la commission du contrôle budgétaire, j'estime que le droit pre ...\n",
      "... er de tout député est de poser des questions à la Commission et d'obtenir une réponse.\n",
      "        Ce droit, qui r ...\n",
      "... noncé quand nous avions commencé notre travail en commission il y a un an et demi.\n",
      "        De plus, elle m'a a ...\n",
      "... moins controversé ?\n",
      "        Nous avons dit qu'en commission, si nous avons une majorité de plus de 90 %, nous ...\n",
      "... de poids au travail précis effectué au sein de la commission, travail qui devrait produire des résultats encor ...\n",
      "... En ce qui concerne l'OLAF, la commission a délibérément décidé de ne pas s'en occuper, car ...\n",
      "... que cette affaire nécessite un examen détaillé en commission plutôt qu'un amendement de dernière minute en séa ...\n",
      "... En ce qui concerne le président de la Commission, l'élection de celui-ci et l'élection de la Commi ...\n",
      "... , l'élection de celui-ci et l'élection de la Commission tout entière, M. Rothley a soulevé un point valab ...\n",
      "... pour chaque point soulevé devant ce Parlement, la commission des budgets devait examiner les implications budg ...\n",
      "... Je souhaite signaler qu'aux yeux de la Commission Prodi - le président l'a toujours dit et il le ré ...\n",
      "... ué par rapport au passé.\n",
      "        Chaque année, la Commission répond à plus de trois mille questions du Parleme ...\n",
      "... A5-0195/2002 de M. Duff, au nom de la commission des affaires constitutionnelles, sur la réforme d ...\n",
      "... A5-0213/2002 de M. MacCormick, au nom de la commission juridique et du marché intérieur, sur l'immunité ...\n",
      "... es privilèges et immunités parlementaires pour la commission juridique et du marché intérieur.\n",
      "        Une des ...\n",
      "... En adoptant ce point de vue, la commission a examiné les cas.\n",
      "        Dans tous les cas, à l ...\n",
      "... affaires, l'article 9 était en cause.\n",
      "        La commission estimait que le cas de M. Dell'Utri était similai ...\n",
      "... ur laquelle mon opinion divergeait de celle de la commission était que, dans le cas de M. Dell'Utri, les décla ...\n",
      "... ue délibération par une majorité importante de la commission des affaires constitutionnelles, comportent plusi ...\n",
      "... rité nationale compétente et nous permettons à la commission juridique et du marché intérieur, non seulement d ...\n",
      "... ent sont mieux délimités par rapport à ceux de la commission juridique et du marché intérieur.\n",
      "        Quatriè ...\n",
      "... ieur.\n",
      "        Quatrièmement, les procédures de la commission et les critères qu'elle utilisera pour formuler s ...\n",
      "... discussion en cours dans ce Parlement et dans ses commissions depuis des semaines, voire des mois, c'est que l ...\n",
      "... ponsabilité visés à l'article 9 et qu'ensuite, la commission compétente du Parlement pourra juger si la demand ...\n",
      "... 9 et l'article 10 et, franchement, le fait que la commission compétente puisse éventuellement se prononcer ne ...\n",
      "... Le rapport MacCormick, ainsi que la commission juridique l'a adopté, prend d'ores et déjà positi ...\n",
      "... le et donc, qu'elle n'a jamais été transmise à la commission compétente, jamais examinée par le Parlement euro ...\n",
      "... er immédiatement au Parlement et de déferrer à la Commission toute demande de levée de l'immunité émanant de n ...\n",
      "... tions spécifiques contenues dans le rapport de la commission juridique et selon laquelle les opinions exprimée ...\n",
      "... rt (A5-0158/2002) de Mme Figueiredo, au nom de la commission de l'emploi et des affaires sociales, sur la comm ...\n",
      "... des affaires sociales, sur la communication de la Commission au Conseil, au Parlement européen, au Comité écon ...\n",
      "... ujourd'hui résulte non seulement du travail de la commission de l'emploi et des affaires sociales, mais aussi ...\n",
      "... si des importantes contributions apportées par la commission de la culture, de la jeunesse, de l'éducation, de ...\n",
      "... re collègue Konstantinos Alyssandrakis, et par la commission des droits de la femme et de l'égalité des chance ...\n",
      "... se de ce rapport on trouve la communication de la Commission concernant les quinze premiers plans nationaux po ...\n",
      "... fférents États membres, le rapport conjoint de la Commission et du Conseil, approuvé sous la présidence belge, ...\n",
      "... naire.\n",
      "        Je voudrais également remercier la commission de l'emploi qui a adopté la quasi-totalité des pr ...\n",
      "... a adopté la quasi-totalité des propositions de la commission de la culture.\n",
      "      \n",
      "      \n",
      "        Notre commis ...\n",
      "... de la culture.\n",
      "      \n",
      "      \n",
      "        Notre commission souligne que l'éducation, la culture et le sport ...\n",
      "... ins points d'une grande importance.\n",
      "        Notre commission juge indispensable de garantir le caractère publi ...\n",
      "... pte tenu du grand nombre de jeunes au chômage, la commission de la culture demande que soit renforcée l'instit ...\n",
      "... ers collègues, le débat qui a eu lieu au sein des commissions parlementaires et qui se conclut aujourd'hui en ...\n",
      "... n'est pas suffisant.\n",
      "        Comme le souligne la commission de la culture, la lutte contre l'exclusion social ...\n",
      "... rtants.\n",
      "      \n",
      "      \n",
      "    \n",
      "    \n",
      "      \n",
      "        La Commission européenne- et Mme la commissaire avant tout - mé ...\n",
      "... é.\n",
      "        C'est donc de toutes ses forces que la commission des droits de la femme soutient l'analyse selon l ...\n",
      "... i sont à leur charge.\n",
      "      \n",
      "      \n",
      "        Si la Commission et les États membres sont disposés à nous suivre ...\n",
      "... r maintes divergences.\n",
      "        Nous savons que la Commission a introduit la notion d'exclusion sociale parce q ...\n",
      "... oivent être envisagés par les États membres et la Commission avec le même sérieux que le sont le pacte de stab ...\n",
      "... projet conservera sa valeur dans la mesure où la Commission pourra nous communiquer dans un proche avenir des ...\n",
      "... teurs précis de progrès.\n",
      "        Sur ce point, la Commission assume des responsabilités particulières. ...\n",
      "... j'estime qu'il est important, avant tout, que la commission de l'emploi soutienne le rapport Figueiredo. ...\n",
      "... ait reçu un accueil plutôt chahuté au sein de la commission et qu'un nombre important de députés l'ait rejeté ...\n",
      "... iter tout spécialement Mme Figueiredo et les deux commissions de la culture et des droits de la femme qui ont ...\n",
      "... tants.\n",
      "        Enfin, comme il a été demandé à la Commission de se mobiliser, après et à partir de ce rapport, ...\n",
      "... mois d'octobre dernier où la communication de la Commission a été soumise au Parlement, nous avons eu l'adopt ...\n",
      "... ons qui ont eu lieu à maintes reprises avec votre commission au sujet du rôle important que jouent les indicat ...\n",
      "... port (A5-0186/2002) de M. Stockmann, au nom de la commission de la politique régionale, des transports et du t ...\n",
      "... que le marché gris.\n",
      "        La proposition de la Commission visant à réviser le règlement relatif à l'attribu ...\n",
      "... on efficace et ciblée dont ils ont fait preuve en commission.\n",
      "        Malgré quelques divergences d'opinions, ...\n",
      "... Nos améliorations de la proposition de la Commission visent à préciser le texte de la Commission, à ét ...\n",
      "... visent à préciser le texte de la Commission, à établir des critères uniformes à l'échelle eur ...\n",
      "... ni des aéroports, mais un bien public.\n",
      "        La commission a en outre précisé que les infrastructures aéropo ...\n",
      "... lis.\n",
      "        Contrairement à la proposition de la Commission, nous pensons qu'ils doivent garder la possibilit ...\n",
      "... ptembre et nous avons retiré la proposition de la Commission visant à lier un \"droit du grand-père\" à la taill ...\n",
      "... a définition de \"nouvel arrivant\" proposée par la Commission n'a certes pas plu à un grand nombre de transport ...\n",
      "... ma conclusion.\n",
      "        De nombreux membres de la commission ont émis le souhait de voir un nouveau règlement ...\n",
      "... x modèles d'attribution des créneaux horaires, la Commission a accéléré ce processus de recherche d'un consens ...\n",
      "... e majorité aussi importante que celle atteinte en commission.\n",
      "      \n",
      "      \n",
      "    \n",
      "    \n",
      "      \n",
      "        Monsieur ...\n",
      "... La suppression de ces droits, comme le propose la Commission, serait très préjudiciable au système et le ferai ...\n",
      "... point de vue général, il est bon de rappeler à la Commission que la définition et l'utilisation d'un créneau h ...\n",
      "... r de créer un chaos.\n",
      "        La proposition de la Commission n'y fait allusion nulle part. ...\n",
      "... débat, je trouve naïf de dire que la vision de la Commission selon laquelle les créneaux horaires appartiennen ...\n",
      "... t à confirmer les propositions essentielles de la Commission : coordinateur indépendant, priorité accordée aux ...\n",
      "... ement 56 a pour objet de clarifier le texte de la Commission concernant l'attribution de créneaux horaires aux ...\n",
      "... s.\n",
      "        Et, de fait, je voudrais demander à la Commission quelle est sa position à ce sujet. ...\n",
      "... sa position à ce sujet.\n",
      "      \n",
      "      \n",
      "        La Commission a entrepris une série de mesures pour lutter cont ...\n",
      "... ement 57, notre groupe veut faire en sorte que la Commission remette une proposition plus détaillée concernant ...\n",
      "... s principales priorités.\n",
      "        Aujourd'hui - la Commission se trouvant à mi-parcours - cet engagement se vér ...\n",
      "... port Stockmann tel qu'il nous est présenté par la commission de la politique régionale, des transports et du t ...\n",
      "... ans notre groupe.\n",
      "        Comme c'était le cas en commission, la majorité de mon groupe soutient la propositio ...\n",
      "... orité de mon groupe soutient la proposition de la Commission qui entend préciser clairement la nature juridiqu ...\n",
      "... de notre collègue Foster car nous estimons que la Commission a tout à fait raison à ce propos. ...\n",
      "... ns certes déposé 52 propositions d'amendements en commission mais ces amendements sont au service de la précis ...\n",
      "... service de la précision.\n",
      "        J'espère que la Commission ne sera pas fidèle à elle-même et soutiendra la p ...\n",
      "... en matière de services.\n",
      "      \n",
      "      \n",
      "        La Commission nous livre maintenant une proposition légèrement ...\n",
      "... çon scandaleuse les Américains et j'attends de la Commission qu'elle agisse avec promptitude quand la Cour de ...\n",
      "... ente à ce débat en tant qu'ancien président de la commission sur la déréglementation des transports aériens eu ...\n",
      "... nion n'a pas été uniforme, loin de là.\n",
      "        La Commission a, dès lors, décidé, le 20 juin 2001, de revoir l ...\n",
      "... confèrent plus d'efficacité.\n",
      "        Partant, la Commission peut les accepter avec quelques modifications dan ...\n",
      "... ments n'ont, par ailleurs, pas été adoptés par la commission RETT et, par conséquent, la Commission les rejett ...\n",
      "... RETT et, par conséquent, la Commission les rejette.\n",
      "        En deuxième lieu, les amende ...\n",
      "... ne peut dès lors pas bénéficier du soutien de la Commission.\n",
      "      \n",
      "      \n",
      "        Nous pourrions, toutefois, ...\n",
      "... t également être rejeté.\n",
      "      \n",
      "      \n",
      "        La Commission estime que l'amendement 23 est trop général et ne ...\n",
      "... lai qu'il est impossible de respecter.\n",
      "        La Commission vient de lancer la procédure de sélection d'un ex ...\n",
      "... nous aurons, au plus tôt, en été 2003.\n",
      "        La Commission s'est engagée à consulter le secteur du transport ...\n",
      "... demain, vous soutiendrez cette proposition de la Commission de vos votes. ...\n",
      "... ort (A5-0187/2002) de M. Mastorakis, au nom de la commission de la politique régionale, des transports et du t ...\n",
      "... trois parties concernées - Parlement, Conseil et Commission - ont bien collaboré, avec pour objectif commun d ...\n",
      "... forcer l'indépendance de l'Agence à l'égard de la Commission, à renforcer les compétences du conseil d'adminis ...\n",
      "... dats à l'adhésion sans une demande expresse de la Commission, l'obligation pour l'Agence de communiquer les co ...\n",
      "... tuées auprès des États membres non seulement à la Commission mais aussi à l'État membre concerné, le rôle pure ...\n",
      "... mbre concerné, le rôle purement consultatif de la Commission lors de l'adoption du programme de travail de l'A ...\n",
      "... teur exécutif par le conseil d'administration, la Commission pouvant, quant à elle, proposer des candidats san ...\n",
      "... chaque État membre, de quatre représentants de la Commission et de quatre professionnels nommés par la Commiss ...\n",
      "... et de quatre professionnels nommés par la Commission.\n",
      "        De même, pour la disposition relative à ...\n",
      "... conseil d'administration après consultation de la Commission, et pas uniquement après approbation préalable pa ...\n",
      "... du programme de travail en cas de désaccord de la Commission, la représentation de tous les États membres au s ...\n",
      "... xclus et ce sont des professionnels nommés par la Commission qui sont proposés, lesquels n'ont pas le droit de ...\n",
      "... de travail de l'Agence en cas de désaccord de la Commission est singulière : pour assurer l'équilibre entre l ...\n",
      "... bres, y compris toutefois les représentants de la Commission, soit l'unanimité des représentants des États mem ...\n",
      "... nsi est assuré l'équilibre entre le Conseil et la Commission, même si la procédure de prise de décision en dev ...\n",
      "... pu, en outre, obtenir un consensus au sein de la Commission, ce qui nous permet de débattre et d'approuver, a ...\n",
      "... it, en outre, d'un défi partagé et soutenu par la commission parlementaire.\n",
      "        Je crois, par ailleurs, qu ...\n",
      "... compter, dans son travail, sur la confiance de la commission parlementaire, une confiance qui s'est traduite - ...\n",
      "... nce l'une des multiples mesures présentées par la Commission, afin de répondre à une demande émanant de l'opin ...\n",
      "... donnée rapidement afin que tant les travaux de la Commission que ceux du Parlement montrent leur interconnexio ...\n",
      "... ue les amendements 2, 4 et 5 sont acceptés par la Commission, parce qu'ils améliorent sensiblement le texte qu ...\n",
      "... texte que nous avons reçu du Conseil.\n",
      "        La Commission n'est pas seule à les soutenir.\n",
      "        Ce matin, ...\n",
      "... lée et, plus particulièrement, aux services de la Commission, de la direction générale TREN, parce que c'est g ...\n"
     ]
    }
   ],
   "source": [
    "if documents_trouves:\n",
    "    premier_document = list(documents_trouves.keys())[0]\n",
    "    texte_du_document = lire_fichier(premier_document)\n",
    "    mot = \"Commission\"\n",
    "\n",
    "    afficher_contextes(texte_du_document, mot, taille_contexte=50)\n",
    "else:\n",
    "    print(\"Aucun document trouvé pour afficher le contexte.\")\n"
   ]
  },
  {
   "cell_type": "markdown",
   "id": "47f37f7d",
   "metadata": {},
   "source": [
    " On visualise l'affichage de plusieurs morceaux de texte autour du mot trouvé."
   ]
  },
  {
   "cell_type": "markdown",
   "id": "679f1b05",
   "metadata": {},
   "source": [
    "# Exercice 4 : Améliorer la tokenisation avec NLTK"
   ]
  },
  {
   "cell_type": "markdown",
   "id": "db73b3f6",
   "metadata": {},
   "source": [
    "Objectif :\n",
    "\n",
    "    - Remplacer le découpage simple (split) par une vraie tokenisation linguistique avec nltk.word_tokenize.\n",
    "    - Puis comparer la qualité (plus propre, meilleure séparation des mots, gestion de la ponctuation…)."
   ]
  },
  {
   "cell_type": "code",
   "execution_count": 29,
   "id": "8237ed31",
   "metadata": {},
   "outputs": [],
   "source": [
    "from nltk.tokenize import wordpunct_tokenize\n",
    "\n",
    "def decouper_mots(texte):\n",
    "    return wordpunct_tokenize(texte.lower())\n",
    "\n"
   ]
  },
  {
   "cell_type": "markdown",
   "id": "16ea1136",
   "metadata": {},
   "source": [
    "On refais l'index  avec le nouveau tokenizer NLTK"
   ]
  },
  {
   "cell_type": "code",
   "execution_count": null,
   "id": "24f85c07",
   "metadata": {},
   "outputs": [],
   "source": [
    "\n",
    "index = {}\n",
    "\n",
    "fichiers = glob.glob(os.path.join(corpus_path, \"*\"))\n",
    "\n",
    "for chemin in fichiers:\n",
    "    contenu = lire_fichier(chemin)\n",
    "    mots = decouper_mots(contenu)\n",
    "    for mot in mots:\n",
    "        if mot not in index:\n",
    "            index[mot] = set()\n",
    "        index[mot].add(chemin)\n",
    "index_serializable = {mot: list(paths) for mot, paths in index.items()}\n",
    "\n",
    "with open(\"index.json\", \"w\", encoding=\"utf-8\") as f:\n",
    "    json.dump(index_serializable, f)\n",
    "\n",
    "print(\"Index reconstruit et sauvegardé avec une meilleure tokenisation (nltk.wordpunct_tokenize).\")\n",
    "print(\"Nouveau vocabulaire :\", len(index_serializable), \"mots.\")\n"
   ]
  },
  {
   "cell_type": "markdown",
   "id": "473337b5",
   "metadata": {},
   "source": [
    "# Exercice 5 : Construire l’index et l’index inversé\n",
    "Objectif:\n",
    "  - Construire l’index inversé (document → liste de mots présents dans ce document)"
   ]
  },
  {
   "cell_type": "code",
   "execution_count": 33,
   "id": "f01895aa",
   "metadata": {},
   "outputs": [
    {
     "name": "stdout",
     "output_type": "stream",
     "text": [
      "Nombre de termes différents : 82144\n",
      "Nombre de documents : 363\n"
     ]
    }
   ],
   "source": [
    "def creer_index_inverse(index):\n",
    "    index_inverse = {}\n",
    "    for mot, documents in index.items():\n",
    "        for doc in documents:\n",
    "            if doc not in index_inverse:\n",
    "                index_inverse[doc] = set()\n",
    "            index_inverse[doc].add(mot)\n",
    "    return index_inverse\n",
    "\n",
    "index_inverse = creer_index_inverse(index)\n",
    "\n",
    "print(\"Nombre de termes différents :\", len(index.keys()))\n",
    "print(\"Nombre de documents :\", len(index_inverse.keys()))\n"
   ]
  },
  {
   "cell_type": "markdown",
   "id": "fd4b6314",
   "metadata": {},
   "source": [
    "La sortie, on a l'index normal (mot → docs) et l'index inversé (doc → mots)"
   ]
  },
  {
   "cell_type": "markdown",
   "id": "b4210b44",
   "metadata": {},
   "source": [
    "#  Exercice 6 : Calculer les TF et IDF\n",
    "bjectif :\n",
    "\n",
    "    - Calculer le TF (Term Frequency) de chaque mot dans chaque document.\n",
    "    - Calculer le IDF (Inverse Document Frequency) pour chaque mot du corpus.\n",
    "    - Les préparer pour utiliser plus tard dans la pondération TF-IDF et la similarité cosinus.\n",
    "\n",
    "TF(mot, doc) = nombre d'occurrences du mot dans le document / nombre total de mots dans le document\n",
    "IDF(mot) = log10 (nombre total de documents / nombre de documents contenant le mot)\n",
    "\n"
   ]
  },
  {
   "cell_type": "code",
   "execution_count": null,
   "id": "439c90fc",
   "metadata": {},
   "outputs": [
    {
     "name": "stdout",
     "output_type": "stream",
     "text": [
      "TF et IDF calculés avec succès.\n"
     ]
    }
   ],
   "source": [
    "import math\n",
    "\n",
    "# 1. Calculer les TF pour chaque document\n",
    "def calculer_tf(index_inverse, corpus_path):\n",
    "    all_docs_tf = {}\n",
    "    \n",
    "    for doc, mots in index_inverse.items():\n",
    "        texte = lire_fichier(doc)\n",
    "        mots_doc = decouper_mots(texte)\n",
    "        tf_doc = {}\n",
    "        total_mots = len(mots_doc)\n",
    "        for mot in mots_doc:\n",
    "            mot = mot.lower()\n",
    "            if mot not in tf_doc:\n",
    "                tf_doc[mot] = 0\n",
    "            tf_doc[mot] += 1\n",
    "        for mot in tf_doc:\n",
    "            tf_doc[mot] /= total_mots\n",
    "        all_docs_tf[doc] = tf_doc\n",
    "    \n",
    "    return all_docs_tf\n",
    "\n",
    "# 2. Calculer les IDF pour chaque mot\n",
    "def calculer_idf(index, total_documents):\n",
    "    idf = {}\n",
    "    for mot, docs in index.items():\n",
    "        idf[mot] = math.log10(total_documents / len(docs)) if len(docs) != 0 else 0\n",
    "    return idf\n",
    "all_docs_tf = calculer_tf(index_inverse, corpus_path)\n",
    "idf = calculer_idf(index, len(index_inverse))\n",
    "\n",
    "print(\"TF et IDF calculés avec succès.\")\n"
   ]
  },
  {
   "cell_type": "markdown",
   "id": "4056f52a",
   "metadata": {},
   "source": [
    "exemple "
   ]
  },
  {
   "cell_type": "code",
   "execution_count": 35,
   "id": "694d2031",
   "metadata": {},
   "outputs": [
    {
     "name": "stdout",
     "output_type": "stream",
     "text": [
      "TF d'un document : ('./europarl/fr/ep-02-06-10-fr.txt', {'reprise': 6.381077976772877e-05, 'de': 0.041881141787552645, 'la': 0.02537542008763347, 'session': 0.0003615944186837963, 'je': 0.008082698770578977, 'déclare': 6.381077976772877e-05, 'du': 0.008444293189262772, 'parlement': 0.003594673926915387, 'européen': 0.0014889181945803378, 'qui': 0.008359212149572469, 'avait': 0.00038286467860637255, 'été': 0.0021270259922576253, 'interrompue': 2.1270259922576255e-05, 'le': 0.019547368868847576, 'jeudi': 0.00010635129961288127, '30': 6.381077976772877e-05, 'mai': 4.254051984515251e-05, '2002': 0.00021270259922576254, '.': 0.03196920066363211, 'comme': 0.001850512613264134, 'vous': 0.0020632152124898965, 'savez': 8.508103969030502e-05, ',': 0.04409324881950057, 'chers': 0.0003190538988386438, 'collègues': 0.0008295401369804739, 'principe': 0.00029778363891606755, 'transparence': 0.00029778363891606755, 'est': 0.008827157867869145, 'consacré': 4.254051984515251e-05, 'dans': 0.007125537074063045, 'l': 0.018249883013570427, \"'\": 0.05028289445697026, 'article': 0.0006168375377547114, 'premier': 0.0004254051984515251, 'traité': 0.00038286467860637255, 'sur': 0.005041051601650572, 'union': 0.0009784319564385077, 'européenne': 0.001340026375122304, 'son': 0.0013825668949674565, 'entrée': 6.381077976772877e-05, 'en': 0.012485642574552262, 'vigueur': 0.00019143233930318628, 'a': 0.00584932147870847, 'annoncé': 8.508103969030502e-05, 'une': 0.008763347088101416, 'nouvelle': 0.0002765133789934913, 'ère': 2.1270259922576255e-05, 'laquelle': 0.0006381077976772876, 'les': 0.015612370783170971, 'décisions': 0.00025524311907091507, 'doivent': 0.0004892159782192538, 'se': 0.0024248096311736927, 'prendre': 0.0003190538988386438, 'un': 0.009699238524694771, 'climat': 2.1270259922576255e-05, 'd': 0.014059641808822904, 'ouverture': 0.00010635129961288127, 'aussi': 0.0015527289743480666, 'visibles': 2.1270259922576255e-05, 'et': 0.019653720168460457, 'proches': 8.508103969030502e-05, 'des': 0.015803803122474157, 'citoyens': 0.0005955672778321351, 'que': 0.014633938826732463, 'possible': 0.0004466754583741013, 'objectif': 0.0002339728591483388, 'assurer': 0.0003615944186837963, 'plus': 0.0045305653635087425, 'grande': 0.0004892159782192538, 'légitimité': 8.508103969030502e-05, 'responsabilité': 0.0003615944186837963, 'efficacité': 0.00025524311907091507, 'pouvoirs': 0.00010635129961288127, 'publics': 0.00014889181945803377, 'système': 0.0004466754583741013, 'démocratique': 0.0003190538988386438, '2001': 0.00010635129961288127, 'adopté': 0.00021270259922576254, 'par': 0.003913727825754031, 'codécision': 6.381077976772877e-05, 'règlement': 0.001850512613264134, '(': 0.0006381077976772876, 'ce': 0.007402050453056536, ')': 0.0004254051984515251, 'n': 0.003275620028076743, '°': 2.1270259922576255e-05, '1049': 2.1270259922576255e-05, '/': 0.0004679457182966776, 'accès': 0.0003615944186837963, 'public': 0.00025524311907091507, 'aux': 0.003190538988386438, 'documents': 0.00021270259922576254, 'conseil': 0.0010635129961288126, 'commission': 0.004360403284128132, 'exigeait': 2.1270259922576255e-05, 'institutions': 0.0002339728591483388, 'qu': 0.005445186540179521, 'elles': 0.0003403241587612201, 'ouvrent': 2.1270259922576255e-05, 'pour': 0.007402050453056536, '3': 0.00012762155953545753, 'juin': 0.00014889181945803377, 'au': 0.005019781341727996, 'tard': 8.508103969030502e-05, 'registre': 8.508103969030502e-05, 'avec': 0.0020419449525673206, 'électronique': 2.1270259922576255e-05, 'suis': 0.0007869996171353214, 'ravi': 2.1270259922576255e-05, 'pouvoir': 0.0004892159782192538, 'aujourd': 0.0005955672778321351, 'hui': 0.0005955672778321351, 'annoncer': 2.1270259922576255e-05, 'nom': 0.0005530267579869826, 'ouvert': 4.254051984515251e-05, 'notre': 0.002233377291870507, 'website': 2.1270259922576255e-05, 'accessible': 4.254051984515251e-05, 'via': 6.381077976772877e-05, 'adresse': 0.00012762155953545753, 'internet': 6.381077976772877e-05, 'habituelle': 4.254051984515251e-05, '\"': 0.0013825668949674565, 'europarl': 2.1270259922576255e-05, 'eu': 0.0003403241587612201, 'int': 2.1270259922576255e-05, 'register': 2.1270259922576255e-05, '\".': 0.0003615944186837963, '24': 0.00012762155953545753, '000': 4.254051984515251e-05, 'sont': 0.0029778363891606757, 'ores': 6.381077976772877e-05, 'déjà': 0.0004254051984515251, 'disponibles': 2.1270259922576255e-05, 'site': 2.1270259922576255e-05, 'chargement': 2.1270259922576255e-05, 'parlementaires': 0.00038286467860637255, 'continue': 6.381077976772877e-05, 'à': 0.01744161313651253, 'rythme': 2.1270259922576255e-05, 'soutenu': 4.254051984515251e-05, 'il': 0.008550644488875655, 's': 0.0027225932700897606, 'agit': 0.0005317564980644063, 'là': 0.0005530267579869826, 'instrument': 0.00010635129961288127, 'primordial': 2.1270259922576255e-05, 'renforcement': 4.254051984515251e-05, 'nos': 0.0010635129961288126, 'principes': 0.00012762155953545753, 'démocratiques': 4.254051984515251e-05, 'inscrit': 4.254051984515251e-05, 'bien': 0.0012974858552771515, 'cadre': 0.0005104862381418301, 'droits': 0.0016165397541157954, 'fondamentaux': 0.00010635129961288127, 'établis': 4.254051984515251e-05, '6': 0.00012762155953545753, 'charte': 0.00010635129961288127, 'bon': 0.0003190538988386438, 'assemblée': 0.001595269494193219, 'soit': 0.0011060535159739652, 'plan': 0.00010635129961288127, '-': 0.0075509422725145705, 'termes': 0.0002339728591483388, 'européens': 0.0005530267579869826, 'promotion': 8.508103969030502e-05, 'tel': 0.00025524311907091507, 'niveau': 0.0003615944186837963, 'monsieur': 0.002594971710554303, 'président': 0.0030629174288509804, 'semaine': 0.0003403241587612201, 'dernière': 0.00029778363891606755, 'certains': 0.0007231888373675926, 'entre': 0.0012762155953545751, 'nous': 0.011039264899817075, 'ont': 0.0024035393712511168, 'pu': 0.00017016207938061004, 'assister': 6.381077976772877e-05, 'démonstration': 2.1270259922576255e-05, 'manière': 0.0005317564980644063, 'dont': 0.0010209724762836603, 'désormais': 0.00014889181945803377, 'mis': 0.0002339728591483388, 'disposition': 0.00014889181945803377, 'tant': 0.0008933509167482026, 'ancien': 0.00014889181945803377, 'rapporteur': 0.0008295401369804739, 'm': 0.0029778363891606757, 'cashman': 2.1270259922576255e-05, 'dois': 0.00010635129961288127, 'dire': 0.0005742970179095589, 'grand': 0.00040413493852894884, 'compliment': 4.254051984515251e-05, 'impose': 6.381077976772877e-05, 'administration': 0.00021270259922576254, 'services': 0.0004466754583741013, 'car': 0.0005530267579869826, 'ils': 0.0015314587144254902, 'tout': 0.0024673501510188455, 'cela': 0.0011060535159739652, 'route': 6.381077976772877e-05, 'j': 0.002446079891096269, 'espère': 0.0005742970179095589, 'maladies': 8.508103969030502e-05, 'enfance': 4.254051984515251e-05, 'seront': 0.00021270259922576254, 'rapidement': 0.00038286467860637255, 'vaincues': 2.1270259922576255e-05, 'travail': 0.0019143233930318628, 'fourni': 6.381077976772877e-05, 'était': 0.0007231888373675926, 'cependant': 0.00038286467860637255, 'bonne': 0.00019143233930318628, 'qualité': 0.00025524311907091507, 'valait': 4.254051984515251e-05, 'peine': 0.00010635129961288127, 'être': 0.0027225932700897606, 'dit': 0.0007019185774450163, 'co': 4.254051984515251e-05, 'rapport': 0.003020376909005828, 'voudrais': 0.0011485940358191178, 'me': 0.0009146211766707789, 'faire': 0.0020632152124898965, 'écho': 6.381077976772877e-05, 'paroles': 4.254051984515251e-05, 'mme': 0.0005317564980644063, 'maij': 4.254051984515251e-05, 'weggen': 4.254051984515251e-05, 'connaissons': 2.1270259922576255e-05, 'débuts': 2.1270259922576255e-05, 'modestes': 2.1270259922576255e-05, 'mais': 0.003105457948696133, 'émettons': 2.1270259922576255e-05, 'néanmoins': 0.00010635129961288127, 'message': 2.1270259922576255e-05, ':': 0.0012762155953545751, 'seuls': 0.00010635129961288127, 'moyens': 8.508103969030502e-05, 'établir': 0.00012762155953545753, 'connexion': 2.1270259922576255e-05, 'citoyen': 2.1270259922576255e-05, 'projet': 0.00017016207938061004, 'tiens': 0.0004466754583741013, 'féliciter': 0.0004254051984515251, 'personnel': 0.00019143233930318628, 'activité': 0.00010635129961288127, 'travaillé': 0.00010635129961288127, 'sans': 0.0009146211766707789, 'relâche': 6.381077976772877e-05, 'ces': 0.0021270259922576253, 'personnes': 0.0007019185774450163, 'rappellent': 2.1270259922576255e-05, 'cette': 0.003934998085676607, 'engagement': 0.00019143233930318628, 'arriverions': 2.1270259922576255e-05, 'rien': 0.0003403241587612201, 'ordre': 0.0004892159782192538, 'jour': 0.0005530267579869826, 'appelle': 0.00025524311907091507, 'travaux': 0.0002765133789934913, 'ai': 0.0010635129961288126, 'reçu': 0.00019143233930318628, 'requête': 0.00014889181945803377, 'émanant': 0.00014889181945803377, '34': 4.254051984515251e-05, 'membres': 0.0015527289743480666, 'demandant': 4.254051984515251e-05, 'tous': 0.0014676479346577614, 'points': 0.0008933509167482026, 'soient': 0.0003615944186837963, 'reportés': 2.1270259922576255e-05, 'période': 0.00025524311907091507, 'juillet': 6.381077976772877e-05, 'savent': 6.381077976772877e-05, 'députés': 0.002020674692644744, 'effectuons': 2.1270259922576255e-05, 'risque': 0.00025524311907091507, 'santé': 0.0003615944186837963, 'travaillent': 8.508103969030502e-05, 'visiteurs': 0.00014889181945803377, 'analyses': 2.1270259922576255e-05, 'révélé': 4.254051984515251e-05, 'présence': 0.00019143233930318628, 'légionellose': 0.00012762155953545753, 'disent': 6.381077976772877e-05, 'fait': 0.001850512613264134, 'plusieurs': 0.0003615944186837963, 'tombés': 2.1270259922576255e-05, 'malades': 2.1270259922576255e-05, 'également': 0.001169864295741694, 'maladie': 0.00014889181945803377, 'conséquences': 0.00010635129961288127, 'sérieuses': 2.1270259922576255e-05, 'physique': 2.1270259922576255e-05, 'minimum': 4.254051984515251e-05, 'sens': 0.00038286467860637255, 'aurait': 0.00014889181945803377, 'voulu': 8.508103969030502e-05, 'tenions': 2.1270259922576255e-05, 'bruxelles': 0.00019143233930318628, 'toute': 0.0004466754583741013, 'tranquillité': 2.1270259922576255e-05, 'mon': 0.0011911345556642702, 'intervention': 0.00010635129961288127, 'porté': 2.1270259922576255e-05, 'uniquement': 0.00012762155953545753, 'conditions': 0.0003403241587612201, 'minimales': 2.1270259922576255e-05, 'sécurité': 0.0006806483175224402, 'malheureusement': 0.00017016207938061004, 'trouvons': 4.254051984515251e-05, 'même': 0.0017228910537286765, 'pas': 0.005806780958863317, 'libre': 0.00017016207938061004, 'décider': 0.00019143233930318628, 'sujet': 0.0008508103969030502, 'demande': 0.0008082698770578977, 'voter': 0.00017016207938061004, 'faveur': 0.0002765133789934913, 'proposition': 0.0010635129961288126, 'renvoi': 2.1270259922576255e-05, 'rapports': 0.0005317564980644063, 'prochaine': 0.0002339728591483388, 'avoir': 0.0008508103969030502, 'droit': 0.0009997022163610839, 'réunir': 6.381077976772877e-05, 'où': 0.0007019185774450163, 'entendons': 2.1270259922576255e-05, 'abord': 0.0004466754583741013, 'question': 0.0013612966350448803, 'hygiène': 6.381077976772877e-05, 'concerne': 0.0008933509167482026, 'ainsi': 0.0009358914365933552, 'toutes': 0.0005104862381418301, 'c': 0.0020419449525673206, 'ensuite': 0.00017016207938061004, 'problème': 0.0005742970179095589, 'trait': 8.508103969030502e-05, 'dignité': 0.00010635129961288127, 'donc': 0.0009358914365933552, 'vote': 0.0008295401369804739, 'allons': 8.508103969030502e-05, 'devoir': 0.00021270259922576254, 'affronter': 2.1270259922576255e-05, 'chaque': 0.0005317564980644063, 'député': 0.0005317564980644063, 'delà': 6.381077976772877e-05, 'indications': 2.1270259922576255e-05, 'disciplines': 2.1270259922576255e-05, 'vu': 0.00010635129961288127, 'état': 0.0004466754583741013, 'situation': 0.0005742970179095589, 'faits': 0.00010635129961288127, 'précaution': 2.1270259922576255e-05, 'évoquons': 2.1270259922576255e-05, 'si': 0.0019143233930318628, 'souvent': 0.00012762155953545753, 'environnement': 0.00010635129961288127, 'cætera': 2.1270259922576255e-05, 'respect': 0.00012762155953545753, 'non': 0.0010422427362062365, 'mêmes': 0.0003190538988386438, 'moins': 0.0007444590972901689, 'visitent': 2.1270259922576255e-05, ';': 0.0008720806568256265, 'répète': 6.381077976772877e-05, 'renvoyés': 2.1270259922576255e-05, 'pense': 0.0007869996171353214, 'ceux': 0.0006168375377547114, 'connaissent': 4.254051984515251e-05, 'ne': 0.0048070787425022335, 'genre': 0.00017016207938061004, 'histoires': 2.1270259922576255e-05, 'ici': 0.0007444590972901689, 'grave': 8.508103969030502e-05, 'publique': 0.00012762155953545753, 'veux': 0.00021270259922576254, 'exprimer': 0.00040413493852894884, 'basant': 2.1270259922576255e-05, 'expérience': 0.00010635129961288127, 'personnelle': 6.381077976772877e-05, 'automne': 2.1270259922576255e-05, 'dernier': 0.00025524311907091507, 'après': 0.0006381077976772876, 'première': 0.0003615944186837963, 'très': 0.0010635129961288126, 'malade': 6.381077976772877e-05, 'pendant': 0.0003615944186837963, 'quelque': 0.0002339728591483388, 'quatre': 0.00019143233930318628, 'semaines': 6.381077976772877e-05, 'bout': 4.254051984515251e-05, 'compte': 0.0005317564980644063, 'hôpital': 4.254051984515251e-05, 'soignée': 4.254051984515251e-05, 'déclaré': 6.381077976772877e-05, 'souffrais': 2.1270259922576255e-05, 'douté': 2.1270259922576255e-05, 'seul': 0.00017016207938061004, 'instant': 6.381077976772877e-05, 'avais': 0.00012762155953545753, 'attrapé': 2.1270259922576255e-05, 'revenant': 2.1270259922576255e-05, 'vacances': 2.1270259922576255e-05, 'autres': 0.0012762155953545751, 'avoué': 2.1270259922576255e-05, 'symptômes': 6.381077976772877e-05, 'comparables': 2.1270259922576255e-05, 'quoique': 2.1270259922576255e-05, 'graves': 8.508103969030502e-05, 'retournons': 2.1270259922576255e-05, 'consulter': 4.254051984515251e-05, 'médecin': 2.1270259922576255e-05, 'différentes': 0.00021270259922576254, 'villes': 4.254051984515251e-05, 'origine': 0.00017016207938061004, 'sorte': 0.0004466754583741013, 'relations': 0.00010635129961288127, 'existantes': 6.381077976772877e-05, 'perdent': 4.254051984515251e-05, 'peut': 0.0014463776747351853, 'devons': 0.0007444590972901689, 'ceci': 0.00019143233930318628, 'sérieux': 0.00021270259922576254, 'seulement': 0.0005317564980644063, 'celle': 0.00025524311907091507, 'nombreux': 0.0004254051984515251, 'menacée': 2.1270259922576255e-05, 'on': 0.0013825668949674565, 'aurons': 0.00019143233930318628, 'eau': 6.381077976772877e-05, 'chaude': 4.254051984515251e-05, 'avons': 0.0016590802739609477, 'comment': 0.00017016207938061004, 'repas': 2.1270259922576255e-05, 'peuvent': 0.00038286467860637255, 'préparés': 4.254051984515251e-05, '?': 0.0011911345556642702, 'longtemps': 0.00014889181945803377, 'demandé': 0.00019143233930318628, 'allais': 2.1270259922576255e-05, 'venir': 0.00019143233930318628, 'sûr': 0.0002339728591483388, 'décidé': 0.00014889181945803377, 'fallait': 4.254051984515251e-05, 'vienne': 4.254051984515251e-05, 'quelqu': 2.1270259922576255e-05, 'membre': 0.0004466754583741013, 'service': 0.00014889181945803377, 'ou': 0.0019143233930318628, 'visiteur': 2.1270259922576255e-05, 'ressent': 2.1270259922576255e-05, 'quittant': 2.1270259922576255e-05, 'alors': 0.0003615944186837963, 'dirigent': 2.1270259922576255e-05, 'coupables': 2.1270259922576255e-05, 'laissés': 2.1270259922576255e-05, 'porteront': 2.1270259922576255e-05, 'nationalité': 4.254051984515251e-05, 'ailleurs': 0.00038286467860637255, 'dirais': 6.381077976772877e-05, 'chose': 0.0003403241587612201, 'étions': 8.508103969030502e-05, 'pays': 0.0007444590972901689, 'développés': 2.1270259922576255e-05, 'problèmes': 0.00029778363891606755, 'mortalité': 2.1270259922576255e-05, 'cause': 0.00012762155953545753, 'principale': 2.1270259922576255e-05, 'qualifie': 2.1270259922576255e-05, 'iatrogènes': 2.1270259922576255e-05, 'celles': 0.00025524311907091507, 'contracte': 2.1270259922576255e-05, 'voie': 0.00012762155953545753, 'médicamenteuse': 2.1270259922576255e-05, 'effets': 4.254051984515251e-05, 'pervers': 2.1270259922576255e-05, 'société': 0.00014889181945803377, 'hyperdéveloppée': 2.1270259922576255e-05, 'elle': 0.0015739992342706428, 'donne': 0.00010635129961288127, 'guérir': 2.1270259922576255e-05, 'parfois': 0.00021270259922576254, 'rend': 6.381077976772877e-05, 'données': 2.1270259922576255e-05, 'connues': 2.1270259922576255e-05, 'va': 0.0003615944186837963, 'jeter': 4.254051984515251e-05, 'figure': 8.508103969030502e-05, 'vais': 0.00010635129961288127, 'passé': 0.00021270259922576254, 'jours': 0.00010635129961288127, 'berlin': 6.381077976772877e-05, 'contracté': 2.1270259922576255e-05, 'telle': 0.00017016207938061004, 'prouve': 2.1270259922576255e-05, 'attraper': 2.1270259922576255e-05, 'forme': 0.00017016207938061004, 'nosocomiale': 2.1270259922576255e-05, 'faut': 0.0005530267579869826, 'aller': 0.00010635129961288127, 'pose': 0.00012762155953545753, 'simplement': 0.00021270259922576254, 'parlez': 2.1270259922576255e-05, 'avertis': 2.1270259922576255e-05, 'viennent': 0.00010635129961288127, 'choisi': 8.508103969030502e-05, 'quand': 0.0003190538988386438, 'dites': 2.1270259922576255e-05, 'puisque': 0.00017016207938061004, 'madame': 0.0003615944186837963, 'avez': 0.0003403241587612201, 'y': 0.0018717828731867104, 'réponds': 2.1270259922576255e-05, 'partir': 4.254051984515251e-05, 'quelle': 0.00010635129961288127, 'image': 6.381077976772877e-05, 'donnerions': 2.1270259922576255e-05, 'point': 0.0010422427362062365, 'craintifs': 2.1270259922576255e-05, 'voulions': 4.254051984515251e-05, 'inventer': 2.1270259922576255e-05, 'zéro': 4.254051984515251e-05, 'encourager': 6.381077976772877e-05, 'paniques': 2.1270259922576255e-05, '!': 0.00019143233930318628, 'serait': 0.0005742970179095589, 'lamentable': 4.254051984515251e-05, 'indigne': 2.1270259922576255e-05, 'êtes': 4.254051984515251e-05, 'vouloir': 0.00010635129961288127, 'entendu': 0.00017016207938061004, 'intervenant': 6.381077976772877e-05, 'contre': 0.0010209724762836603, 'dès': 0.0004892159782192538, 'soupçonné': 2.1270259922576255e-05, 'moindre': 2.1270259922576255e-05, 'doute': 0.00010635129961288127, 'collège': 2.1270259922576255e-05, 'questeurs': 2.1270259922576255e-05, 'immédiatement': 4.254051984515251e-05, 'intermédiaire': 0.00014889181945803377, 'poos': 2.1270259922576255e-05, 'informé': 4.254051984515251e-05, 'collègue': 0.0003403241587612201, 'débattue': 2.1270259922576255e-05, 'lors': 0.0010209724762836603, 'conférence': 0.00012762155953545753, 'présidents': 0.00014889181945803377, 'cours': 0.0003615944186837963, 'mesure': 0.0005530267579869826, 'assuraient': 2.1270259922576255e-05, 'garantissaient': 2.1270259922576255e-05, 'pouvions': 8.508103969030502e-05, 'suggérer': 2.1270259922576255e-05, 'mener': 0.00012762155953545753, 'décision': 0.00040413493852894884, 'responsable': 0.00019143233930318628, 'outre': 0.00019143233930318628, 'particulièrement': 0.00029778363891606755, 'wallis': 4.254051984515251e-05, 'devrions': 0.00021270259922576254, 'prends': 0.00014889181945803377, 'insisté': 2.1270259922576255e-05, 'autorités': 0.00021270259922576254, 'compétentes': 8.508103969030502e-05, 'lieu': 0.0005530267579869826, '-,': 0.00014889181945803377, 'sers': 2.1270259922576255e-05, 'maire': 6.381077976772877e-05, 'strasbourg': 0.00021270259922576254, 'sanitaires': 2.1270259922576255e-05, 'fournir': 6.381077976772877e-05, 'attestation': 2.1270259922576255e-05, 'écrite': 4.254051984515251e-05, 'clairement': 0.00025524311907091507, 'ressort': 8.508103969030502e-05, 'propriétaires': 2.1270259922576255e-05, 'culpabilité': 2.1270259922576255e-05, 'innocence': 2.1270259922576255e-05, 'soulevée': 6.381077976772877e-05, 'intervenants': 2.1270259922576255e-05, 'affaire': 0.0005742970179095589, 'tribunaux': 0.00012762155953545753, 'veuillez': 2.1270259922576255e-05, 'interrompre': 6.381077976772877e-05, 'moi': 0.0005317564980644063, 'écoutés': 2.1270259922576255e-05, 'attends': 4.254051984515251e-05, 'courtoisie': 2.1270259922576255e-05, 'applaudissements': 4.254051984515251e-05, 'cet': 0.0005317564980644063, 'midi': 0.00010635129961288127, 'informations': 0.0002765133789934913, 'provenant': 8.508103969030502e-05, 'préfecture': 2.1270259922576255e-05, 'bas': 0.00014889181945803377, 'rhin': 2.1270259922576255e-05, 'détient': 4.254051984515251e-05, 'part': 0.0004679457182966776, 'matière': 0.0004254051984515251, 'ville': 4.254051984515251e-05, 'autre': 0.0005742970179095589, 'limites': 2.1270259922576255e-05, 'décrites': 2.1270259922576255e-05, 'permettez': 0.0002339728591483388, 'citer': 4.254051984515251e-05, 'extrait': 2.1270259922576255e-05, 'lettre': 0.00010635129961288127, 'parole': 0.00038286467860637255, 'raison': 0.0004892159782192538, 'demander': 0.00040413493852894884, 'excuser': 2.1270259922576255e-05, 'interrompu': 6.381077976772877e-05, 'essayais': 2.1270259922576255e-05, 'pourquoi': 0.0006806483175224402, 'sommes': 0.0006168375377547114, 'réunis': 6.381077976772877e-05, 'évident': 0.00010635129961288127, 'rendons': 2.1270259922576255e-05, 'consiste': 0.00019143233930318628, 'renvoyer': 0.00010635129961288127, 'sévère': 2.1270259922576255e-05, 'difficile': 0.00021270259922576254, 'croit': 6.381077976772877e-05, 'seule': 0.00021270259922576254, 'possibilité': 0.0004892159782192538, 'reste': 0.00021270259922576254, 'scandaleux': 4.254051984515251e-05, 'risquée': 2.1270259922576255e-05, 'dangereuse': 2.1270259922576255e-05, 'puisse': 0.00021270259922576254, 'endroit': 2.1270259922576255e-05, 'doit': 0.0007869996171353214, 'semble': 0.00029778363891606755, 'traiter': 0.00017016207938061004, 'deux': 0.0010635129961288126, 'éclaircir': 6.381077976772877e-05, 'suite': 0.00012762155953545753, 'concernant': 0.00040413493852894884, 'garanties': 0.00010635129961288127, 'avis': 0.0006168375377547114, 'procéder': 0.00019143233930318628, 'habitude': 2.1270259922576255e-05, 'monde': 0.0003615944186837963, 'systèmes': 6.381077976772877e-05, 'dûment': 2.1270259922576255e-05, 'traités': 0.00019143233930318628, 'réagissent': 2.1270259922576255e-05, 'ingénieurs': 2.1270259922576255e-05, 'scientifiques': 2.1270259922576255e-05, 'devraient': 0.00021270259922576254, 'certain': 0.0003190538988386438, 'reçoive': 4.254051984515251e-05, 'copie': 4.254051984515251e-05, 'attestations': 2.1270259922576255e-05, 'afférentes': 2.1270259922576255e-05, 'ouvrirons': 2.1270259922576255e-05, 'ligne': 8.508103969030502e-05, 'disponible': 2.1270259922576255e-05, 'heures': 0.00021270259922576254, 'afin': 0.0009997022163610839, 'puissent': 0.00019143233930318628, 'apaiser': 2.1270259922576255e-05, 'inquiétudes': 0.00014889181945803377, 'auraient': 0.00010635129961288127, 'encore': 0.0009358914365933552, 'venez': 2.1270259922576255e-05, 'procure': 2.1270259922576255e-05, 'sentiment': 2.1270259922576255e-05, 'réconfort': 2.1270259922576255e-05, 'vos': 0.00012762155953545753, 'propos': 0.0003403241587612201, 'laissent': 2.1270259922576255e-05, 'entendre': 0.00010635129961288127, 'concernaient': 2.1270259922576255e-05, 'choix': 0.00021270259922576254, 'offre': 0.00014889181945803377, 'travaille': 2.1270259922576255e-05, 'peu': 0.0004254051984515251, 'différent': 4.254051984515251e-05, 'souhait': 6.381077976772877e-05, 'puissiez': 2.1270259922576255e-05, 'garantie': 0.00012762155953545753, 'étend': 2.1270259922576255e-05, 'chacun': 0.00021270259922576254, 'compris': 0.0002765133789934913, 'vouliez': 2.1270259922576255e-05, 'différents': 0.0003403241587612201, 'trop': 0.00029778363891606755, 'groupe': 0.001850512613264134, 'quant': 0.00019143233930318628, 'savoir': 0.0005317564980644063, 'syndicats': 0.00014889181945803377, 'représentants': 0.00017016207938061004, 'travaillant': 4.254051984515251e-05, 'consultés': 6.381077976772877e-05, 'informés': 2.1270259922576255e-05, 'important': 0.0006381077976772876, 'processus': 0.00017016207938061004, 'concernés': 8.508103969030502e-05, 'siègent': 4.254051984515251e-05, 'comité': 0.00014889181945803377, 'parlementaire': 0.0005530267579869826, 'marqué': 2.1270259922576255e-05, 'accord': 0.0004892159782192538, 'mesures': 0.0005317564980644063, 'prises': 0.00012762155953545753, 'tenter': 4.254051984515251e-05, 'éradiquer': 2.1270259922576255e-05, 'votre': 0.0003190538988386438, 'remarque': 0.00010635129961288127, 'pertinente': 2.1270259922576255e-05, 'attendue': 2.1270259922576255e-05, 'nécessaires': 0.00019143233930318628, 'propositions': 0.0007869996171353214, 'modification': 0.00017016207938061004, 'aucune': 0.00038286467860637255, 'lundi': 6.381077976772877e-05, 'mardi': 6.381077976772877e-05, 'eldr': 6.381077976772877e-05, 'communication': 0.00017016207938061004, 'livre': 6.381077976772877e-05, 'vert': 4.254051984515251e-05, 'protection': 0.0002765133789934913, 'consommateurs': 8.508103969030502e-05, 'devrait': 0.00017016207938061004, 'faite': 4.254051984515251e-05, '17h30': 2.1270259922576255e-05, 'remplacée': 2.1270259922576255e-05, 'contamination': 2.1270259922576255e-05, 'aliments': 2.1270259922576255e-05, 'nitrofène': 2.1270259922576255e-05, 't': 0.00014889181945803377, 'favorable': 0.00012762155953545753, 'série': 0.0002339728591483388, 'scandales': 2.1270259922576255e-05, 'alimentaires': 2.1270259922576255e-05, 'éclaté': 2.1270259922576255e-05, 'dernières': 0.00012762155953545753, 'années': 0.0003190538988386438, 'europe': 0.0003190538988386438, 'nitrophénol': 2.1270259922576255e-05, 'allemagne': 6.381077976772877e-05, 'ajoutée': 8.508103969030502e-05, 'liste': 0.00014889181945803377, 'débattre': 8.508103969030502e-05, 'séance': 0.0005955672778321351, 'plénière': 0.0009997022163610839, 'estime': 0.00029778363891606755, 'connaissance': 8.508103969030502e-05, 'quelles': 4.254051984515251e-05, 'position': 0.0005104862381418301, 'actuellement': 0.0003190538988386438, 'dispose': 0.00010635129961288127, 'office': 6.381077976772877e-05, 'alimentaire': 2.1270259922576255e-05, 'vétérinaire': 2.1270259922576255e-05, 'dublin': 2.1270259922576255e-05, 'placé': 8.508103969030502e-05, 'sous': 0.00040413493852894884, 'organe': 0.00010635129961288127, 'contrôle': 0.00029778363891606755, 'totalité': 4.254051984515251e-05, 'production': 6.381077976772877e-05, 'biologique': 2.1270259922576255e-05, 'allemande': 2.1270259922576255e-05, 'ses': 0.0007869996171353214, 'découvertes': 2.1270259922576255e-05, 'aimerais': 4.254051984515251e-05, 'discuter': 6.381077976772877e-05, 'parce': 0.0004679457182966776, 'urgence': 0.00019143233930318628, 'préoccupe': 6.381077976772877e-05, 'haut': 6.381077976772877e-05, 'populations': 2.1270259922576255e-05, 'partout': 4.254051984515251e-05, 'heureuse': 6.381077976772877e-05, 'aborder': 0.00014889181945803377, 'voudrions': 8.508103969030502e-05, 'évoquer': 6.381077976772877e-05, 'pourrait': 0.00029778363891606755, 'sus': 2.1270259922576255e-05, 'consentirait': 2.1270259922576255e-05, 'marque': 4.254051984515251e-05, 'sera': 0.00040413493852894884, 'modifié': 4.254051984515251e-05, 'fonction': 0.00029778363891606755, 'mercredi': 6.381077976772877e-05, 'actualité': 0.00021270259922576254, 'urgents': 6.381077976772877e-05, 'importance': 0.0004892159782192538, 'majeure': 8.508103969030502e-05, 'domaine': 0.0002339728591483388, 'homme': 0.0005530267579869826, 'libéral': 4.254051984515251e-05, 'propose': 0.00025524311907091507, 'remplacer': 2.1270259922576255e-05, 'malaisie': 2.1270259922576255e-05, 'nouveau': 0.0003190538988386438, 'condamnations': 2.1270259922576255e-05, 'grèce': 2.1270259922576255e-05, 'espionnage': 2.1270259922576255e-05, 'appel': 8.508103969030502e-05, 'nominal': 6.381077976772877e-05, 'rejette': 4.254051984515251e-05, 'toujours': 0.0004679457182966776, 'verts': 8.508103969030502e-05, 'alliance': 4.254051984515251e-05, 'visant': 0.00038286467860637255, 'ajouter': 0.00010635129961288127, 'section': 2.1270259922576255e-05, 'cinquième': 6.381077976772877e-05, 'intitulé': 2.1270259922576255e-05, 'abolition': 2.1270259922576255e-05, 'mort': 4.254051984515251e-05, 'japon': 2.1270259922576255e-05, 'corée': 2.1270259922576255e-05, 'sud': 6.381077976772877e-05, 'taïwan': 2.1270259922576255e-05, 'approuve': 2.1270259922576255e-05, 'régulièrement': 0.00010635129961288127, 'urgences': 0.0002339728591483388, 'prononçons': 2.1270259922576255e-05, 'inscription': 2.1270259922576255e-05, 'écrit': 8.508103969030502e-05, 'début': 0.00021270259922576254, 'mandat': 6.381077976772877e-05, 'nicole': 2.1270259922576255e-05, 'fontaine': 2.1270259922576255e-05, 'proposer': 0.00014889181945803377, 'adoptions': 2.1270259922576255e-05, 'terminologie': 2.1270259922576255e-05, 'parlions': 4.254051984515251e-05, 'personne': 0.0002339728591483388, 'sais': 0.0002339728591483388, 'vocabulaire': 2.1270259922576255e-05, 'uvre': 0.00029778363891606755, 'nations': 0.00010635129961288127, 'unies': 0.00010635129961288127, 'donnons': 8.508103969030502e-05, 'exemple': 0.00040413493852894884, 'parlons': 0.00010635129961288127, '\",': 0.00021270259922576254, 'versions': 2.1270259922576255e-05, 'linguistiques': 2.1270259922576255e-05, 'tiennent': 2.1270259922576255e-05, 'expression': 0.00010635129961288127, 'anglais': 2.1270259922576255e-05, 'connotation': 2.1270259922576255e-05, 'sexospécifique': 2.1270259922576255e-05, 'français': 2.1270259922576255e-05, 'établi': 6.381077976772877e-05, 'sénat': 6.381077976772877e-05, 'américain': 8.508103969030502e-05, 'approuvé': 8.508103969030502e-05, 'destinée': 2.1270259922576255e-05, 'permettre': 0.00017016207938061004, 'invasion': 4.254051984515251e-05, 'militaire': 2.1270259922576255e-05, 'institution': 0.00014889181945803377, 'tribunal': 0.00019143233930318628, 'pénal': 0.00010635129961288127, 'international': 0.00017016207938061004, 'sol': 4.254051984515251e-05, 'chercher': 2.1270259922576255e-05, 'raisons': 0.00012762155953545753, 'provocation': 4.254051984515251e-05, 'croyable': 2.1270259922576255e-05, 'usa': 6.381077976772877e-05, 'disposés': 4.254051984515251e-05, 'usage': 0.00010635129961288127, 'violence': 8.508103969030502e-05, 'emmener': 2.1270259922576255e-05, 'prévenus': 2.1270259922576255e-05, 'américains': 8.508103969030502e-05, 'temps': 0.0009358914365933552, 'montré': 2.1270259922576255e-05, 'chaud': 2.1270259922576255e-05, 'partisan': 2.1270259922576255e-05, 'tentent': 8.508103969030502e-05, 'bloquer': 4.254051984515251e-05, 'réussite': 8.508103969030502e-05, 'moyen': 0.00025524311907091507, 'draconiennes': 2.1270259922576255e-05, 'importe': 0.00012762155953545753, 'défense': 0.00017016207938061004, 'improbable': 2.1270259922576255e-05, 'occupent': 2.1270259922576255e-05, 'militairement': 2.1270259922576255e-05, 'leur': 0.0015527289743480666, 'allié': 2.1270259922576255e-05, 'otan': 4.254051984515251e-05, 'prise': 0.00021270259922576254, 'sénateurs': 2.1270259922576255e-05, 'implacable': 2.1270259922576255e-05, 'réaction': 2.1270259922576255e-05, 'rapide': 4.254051984515251e-05, 'nette': 2.1270259922576255e-05, 'conséquent': 0.0002339728591483388, 'introduire': 0.00021270259922576254, 'agenda': 6.381077976772877e-05, 'transatlantique': 4.254051984515251e-05, 'ait': 0.0002339728591483388, 'représentant': 0.00012762155953545753, 'solana': 2.1270259922576255e-05, 'proposera': 2.1270259922576255e-05, 'orale': 2.1270259922576255e-05, 'débat': 0.0011911345556642702, 'légère': 2.1270259922576255e-05, 'existe': 0.0003190538988386438, 'menace': 0.00010635129961288127, 'examiner': 8.508103969030502e-05, 'rappelant': 2.1270259922576255e-05, 'quinze': 6.381077976772877e-05, 'états': 0.0010635129961288126, 'ratifié': 6.381077976772877e-05, 'cour': 0.00021270259922576254, 'pénale': 4.254051984515251e-05, 'internationale': 8.508103969030502e-05, 'mérite': 8.508103969030502e-05, 'attention': 0.00040413493852894884, 'particulière': 8.508103969030502e-05, 'lui': 0.0005104862381418301, 'fasse': 0.00014889181945803377, 'objet': 0.0003403241587612201, 'examen': 0.00019143233930318628, 'déclarations': 0.00010635129961288127, 'mois': 0.00017016207938061004, 'parfaitement': 8.508103969030502e-05, 'justifié': 2.1270259922576255e-05, 'extraordinaire': 8.508103969030502e-05, 'regrettable': 0.00010635129961288127, 'sérieuse': 4.254051984515251e-05, 'autant': 0.00040413493852894884, 'causée': 4.254051984515251e-05, 'nation': 2.1270259922576255e-05, 'amie': 2.1270259922576255e-05, 'alliée': 2.1270259922576255e-05, 'suggestion': 6.381077976772877e-05, 'simple': 0.00014889181945803377, 'puisqu': 6.381077976772877e-05, 'votée': 2.1270259922576255e-05, 'réellement': 0.00019143233930318628, 'militaires': 4.254051984515251e-05, 'entrer': 8.508103969030502e-05, 'territoire': 8.508103969030502e-05, 'libérer': 2.1270259922576255e-05, 'traduites': 2.1270259922576255e-05, 'devant': 0.0002765133789934913, 'constitue': 0.00014889181945803377, 'précédent': 6.381077976772877e-05, 'partenaire': 2.1270259922576255e-05, 'absolument': 0.00012762155953545753, 'nécessaire': 0.00029778363891606755, 'examinions': 2.1270259922576255e-05, 'discutions': 2.1270259922576255e-05, 'émis': 4.254051984515251e-05, 'protestations': 2.1270259922576255e-05, 'envoient': 2.1270259922576255e-05, 'missive': 2.1270259922576255e-05, 'unis': 0.00012762155953545753, 'expliquant': 2.1270259922576255e-05, 'type': 4.254051984515251e-05, 'permis': 8.508103969030502e-05, 'dépasser': 2.1270259922576255e-05, 'régler': 4.254051984515251e-05, 'amis': 4.254051984515251e-05, 'éviter': 0.00017016207938061004, 'ton': 4.254051984515251e-05, 'guerre': 2.1270259922576255e-05, 'merci': 0.00021270259922576254, 'répéterai': 2.1270259922576255e-05, 'mes': 0.0005742970179095589, 'van': 6.381077976772877e-05, 'der': 2.1270259922576255e-05, 'laan': 2.1270259922576255e-05, 'attende': 2.1270259922576255e-05, 'réagir': 6.381077976772877e-05, 'résolution': 0.00010635129961288127, 'sommet': 0.00014889181945803377, 'séville': 4.254051984515251e-05, 'vraiment': 0.00019143233930318628, 'essentiel': 0.00012762155953545753, 'discutée': 2.1270259922576255e-05, 'occasion': 0.00019143233930318628, 'condamnée': 2.1270259922576255e-05, 'prennent': 6.381077976772877e-05, 'rédaction': 4.254051984515251e-05, 'incorporer': 4.254051984515251e-05, 'texte': 0.0002765133789934913, 'façon': 0.0007231888373675926, 'consacrer': 4.254051984515251e-05, 'régulier': 4.254051984515251e-05, 'crois': 0.00040413493852894884, 'interventions': 8.508103969030502e-05, 'chef': 2.1270259922576255e-05, 'socialiste': 4.254051984515251e-05, 'indiquent': 4.254051984515251e-05, 'consensus': 0.00017016207938061004, 'persuadé': 2.1270259922576255e-05, 'pourrons': 0.00012762155953545753, 'agir': 0.00012762155953545753, 'courant': 4.254051984515251e-05, 'arrestation': 2.1270259922576255e-05, 'suspect': 2.1270259922576255e-05, 'présumé': 2.1270259922576255e-05, 'complot': 2.1270259922576255e-05, 'exploser': 2.1270259922576255e-05, 'bombe': 2.1270259922576255e-05, 'sale': 2.1270259922576255e-05, 'radioactive': 2.1270259922576255e-05, 'train': 0.00017016207938061004, 'votées': 2.1270259922576255e-05, 'avant': 0.0005955672778321351, 'juste': 0.00025524311907091507, 'noël': 2.1270259922576255e-05, 'réagisse': 2.1270259922576255e-05, 'efficacement': 6.381077976772877e-05, 'terrorisme': 6.381077976772877e-05, 'code': 6.381077976772877e-05, 'dépit': 0.00014889181945803377, 'efforts': 8.508103969030502e-05, 'insister': 6.381077976772877e-05, 'auprès': 8.508103969030502e-05, 'ministres': 4.254051984515251e-05, 'justice': 0.00025524311907091507, 'affaires': 0.0005530267579869826, 'intérieures': 2.1270259922576255e-05, 'réuniront': 2.1270259922576255e-05, 'fassent': 8.508103969030502e-05, 'inclus': 2.1270259922576255e-05, 'brefs': 6.381077976772877e-05, 'délais': 4.254051984515251e-05, 'envers': 0.00010635129961288127, 'garantir': 0.0004679457182966776, 'précautions': 2.1270259922576255e-05, 'meilleures': 4.254051984515251e-05, 'possibles': 4.254051984515251e-05, 'étant': 0.00014889181945803377, 'donné': 0.00019143233930318628, 'indubitablement': 4.254051984515251e-05, 'confrontés': 6.381077976772877e-05, 'celui': 0.0002339728591483388, 'zimbabwe': 0.00014889181945803377, 'présenter': 0.0003190538988386438, 'condoléances': 2.1270259922576255e-05, 'peuple': 6.381077976772877e-05, 'affecté': 2.1270259922576255e-05, 'terrible': 2.1270259922576255e-05, 'accident': 2.1270259922576255e-05, 'bus': 2.1270259922576255e-05, 'produit': 0.00010635129961288127, 'nuit': 2.1270259922576255e-05, 'près': 4.254051984515251e-05, 'masvingo': 2.1270259922576255e-05, 'professeurs': 2.1270259922576255e-05, 'stagiaires': 2.1270259922576255e-05, 'trouvé': 8.508103969030502e-05, 'inquiétude': 0.00012762155953545753, 'plutôt': 0.0002339728591483388, 'hypocrite': 4.254051984515251e-05, 'probable': 4.254051984515251e-05, 'mugabe': 6.381077976772877e-05, 'rome': 4.254051984515251e-05, 'mondial': 6.381077976772877e-05, 'alimentation': 2.1270259922576255e-05, 'dis': 4.254051984515251e-05, 'millions': 0.00012762155953545753, 'gens': 0.00010635129961288127, 'souffrent': 2.1270259922576255e-05, 'disette': 2.1270259922576255e-05, 'famine': 2.1270259922576255e-05, 'principalement': 6.381077976772877e-05, 'dues': 2.1270259922576255e-05, 'politiques': 0.0011273237758965414, 'foncières': 2.1270259922576255e-05, 'erronées': 2.1270259922576255e-05, 'sa': 0.0004892159782192538, 'censés': 2.1270259922576255e-05, 'imposé': 2.1270259922576255e-05, 'interdiction': 4.254051984515251e-05, 'voyager': 4.254051984515251e-05, 'associés': 4.254051984515251e-05, 'sanctions': 0.00012762155953545753, 'censées': 2.1270259922576255e-05, 'imposées': 2.1270259922576255e-05, 'rendre': 0.0004679457182966776, 'conférences': 2.1270259922576255e-05, 'ci': 0.0002765133789934913, 'tourne': 2.1270259922576255e-05, 'dérision': 2.1270259922576255e-05, 'new': 2.1270259922576255e-05, 'york': 2.1270259922576255e-05, 'enfants': 0.00010635129961288127, 'aucun': 0.00025524311907091507, 'troïka': 4.254051984515251e-05, 'ue': 0.00010635129961288127, 'rendue': 2.1270259922576255e-05, 'afrique': 2.1270259922576255e-05, 'milieu': 8.508103969030502e-05, 'expressément': 0.00012762155953545753, 'nombre': 0.0005742970179095589, 'lumière': 0.00010635129961288127, 'soulevés': 2.1270259922576255e-05, 'puis': 0.00017016207938061004, 'déclaration': 4.254051984515251e-05, 'complète': 6.381077976772877e-05, 'action': 0.0004254051984515251, 'entreprendre': 4.254051984515251e-05, 'orden': 2.1270259922576255e-05, 'aurez': 4.254051984515251e-05, 'loisir': 2.1270259922576255e-05, 'attirer': 0.00012762155953545753, 'piqué': 2.1270259922576255e-05, 'i': 8.508103969030502e-05, 'camp': 4.254051984515251e-05, 'adressera': 2.1270259922576255e-05, 'curieux': 4.254051984515251e-05, 'paraître': 2.1270259922576255e-05, 'conforme': 4.254051984515251e-05, 'motion': 0.00012762155953545753, 'procédure': 0.0013187561151997277, 'respecterai': 4.254051984515251e-05, 'bâtiment': 0.00017016207938061004, 'remarques': 8.508103969030502e-05, 'suppose': 8.508103969030502e-05, 'bactérie': 6.381077976772877e-05, 'détectée': 4.254051984515251e-05, 'deuxième': 0.00038286467860637255, 'fois': 0.0005955672778321351, 'promis': 2.1270259922576255e-05, 'contrôles': 2.1270259922576255e-05, 'réguliers': 4.254051984515251e-05, 'inutilisé': 2.1270259922576255e-05, 'deviendra': 2.1270259922576255e-05, 'inévitablement': 2.1270259922576255e-05, 'contrôlé': 2.1270259922576255e-05, 'revenir': 0.0002339728591483388, 'relativement': 8.508103969030502e-05, 'cas': 0.0013612966350448803, 'isolés': 6.381077976772877e-05, 'chez': 4.254051984515251e-05, 'particulier': 0.00029778363891606755, 'périodes': 2.1270259922576255e-05, 'utile': 0.00010635129961288127, 'envisagent': 2.1270259922576255e-05, 'rapporter': 2.1270259922576255e-05, 'médicaux': 6.381077976772877e-05, 'inhabituelle': 2.1270259922576255e-05, 'contractée': 2.1270259922576255e-05, 'eux': 0.00025524311907091507, 'applique': 6.381077976772877e-05, 'assistants': 2.1270259922576255e-05, 'etc': 6.381077976772877e-05, 'découvrir': 4.254051984515251e-05, 'questeur': 2.1270259922576255e-05, 'cède': 2.1270259922576255e-05, 'ludford': 2.1270259922576255e-05, 'auparavant': 6.381077976772877e-05, 'similaire': 6.381077976772877e-05, 'discutons': 4.254051984515251e-05, 'semblé': 4.254051984515251e-05, 'comprendre': 0.00025524311907091507, 'précédemment': 2.1270259922576255e-05, 'présente': 0.00010635129961288127, 'distinction': 6.381077976772877e-05, 'taille': 0.00012762155953545753, 'expertise': 2.1270259922576255e-05, 'pourrions': 0.00014889181945803377, 'obtenir': 0.00029778363891606755, 'renseignements': 2.1270259922576255e-05, 'législation': 0.00012762155953545753, 'française': 2.1270259922576255e-05, 'occupation': 2.1270259922576255e-05, 'bâtiments': 6.381077976772877e-05, 'passerait': 2.1270259922576255e-05, 'trouvait': 2.1270259922576255e-05, 'permettrait': 6.381077976772877e-05, 'voir': 0.00021270259922576254, 'seraient': 0.00014889181945803377, 'france': 8.508103969030502e-05, 'comparer': 4.254051984515251e-05, 'mentionné': 2.1270259922576255e-05, 'ouverte': 0.00025524311907091507, 'note': 8.508103969030502e-05, 'questions': 0.0008082698770578977, 'encourage': 2.1270259922576255e-05, 'poser': 0.00012762155953545753, 'leurs': 0.0004466754583741013, 'transmettre': 8.508103969030502e-05, 'commentaires': 8.508103969030502e-05, 'donner': 0.0005317564980644063, 'maximum': 0.00010635129961288127, 'tenant': 4.254051984515251e-05, 'convient': 0.00019143233930318628, 'circonstances': 8.508103969030502e-05, 'dirai': 6.381077976772877e-05, 'certainement': 0.00012762155953545753, 'mot': 6.381077976772877e-05, 'légionelles': 2.1270259922576255e-05, 'guinness': 2.1270259922576255e-05, 'book': 2.1270259922576255e-05, 'records': 2.1270259922576255e-05, 'longue': 0.00010635129961288127, 'levée': 0.00025524311907091507, 'immunité': 0.0007869996171353214, 'précisément': 8.508103969030502e-05, 'relative': 0.00019143233930318628, 'marcello': 2.1270259922576255e-05, 'dell': 0.0002765133789934913, 'utri': 0.0002765133789934913, 'suprême': 2.1270259922576255e-05, 'espagnol': 4.254051984515251e-05, 'rejeté': 0.00010635129961288127, 'déposée': 2.1270259922576255e-05, 'avocats': 4.254051984515251e-05, 'mm': 0.00010635129961288127, 'berlusconi': 4.254051984515251e-05, 'autorisé': 4.254051984515251e-05, 'espagnole': 0.00017016207938061004, 'poursuivre': 6.381077976772877e-05, 'entamée': 2.1270259922576255e-05, 'individus': 6.381077976772877e-05, 'susmentionnés': 2.1270259922576255e-05, 'force': 8.508103969030502e-05, 'avouer': 2.1270259922576255e-05, 'contraventions': 2.1270259922576255e-05, 'infraction': 2.1270259922576255e-05, 'mauvais': 2.1270259922576255e-05, 'stationnement': 2.1270259922576255e-05, 'délits': 2.1270259922576255e-05, 'extrêmement': 0.00019143233930318628, 'escroquerie': 2.1270259922576255e-05, 'fraude': 6.381077976772877e-05, 'fiscale': 2.1270259922576255e-05, 'chiffrant': 2.1270259922576255e-05, 'soupçons': 2.1270259922576255e-05, 'appartenance': 2.1270259922576255e-05, 'association': 2.1270259922576255e-05, 'mafieuse': 2.1270259922576255e-05, 'depuis': 0.00029778363891606755, 'an': 0.00019143233930318628, 'demi': 0.00014889181945803377, 'trouve': 0.00014889181945803377, 'sein': 0.0007869996171353214, 'juridique': 0.0006168375377547114, 'éclairci': 2.1270259922576255e-05, 'interrogations': 2.1270259922576255e-05, 'visaient': 2.1270259922576255e-05, 'espagnols': 8.508103969030502e-05, 'justifie': 2.1270259922576255e-05, 'maintien': 6.381077976772877e-05, 'soumettre': 4.254051984515251e-05, 'requêtes': 4.254051984515251e-05, 'suivantes': 2.1270259922576255e-05, 'premièrement': 0.00012762155953545753, 'disposez': 6.381077976772877e-05, 'élément': 0.00014889181945803377, 'invitons': 2.1270259922576255e-05, 'deuxièmement': 0.00017016207938061004, 'contacter': 2.1270259922576255e-05, 'porter': 4.254051984515251e-05, 'souhaite': 0.00014889181945803377, 'procède': 4.254051984515251e-05, 'intolérable': 2.1270259922576255e-05, 'délai': 4.254051984515251e-05, 'long': 0.00010635129961288127, 'écoule': 2.1270259922576255e-05, 'abordée': 4.254051984515251e-05, 'gêne': 2.1270259922576255e-05, 'empêche': 8.508103969030502e-05, 'dépositions': 2.1270259922576255e-05, 'compétente': 0.0002765133789934913, 'voilà': 0.00014889181945803377, 'demandons': 8.508103969030502e-05, 'présent': 0.00017016207938061004, 'accélérer': 2.1270259922576255e-05, 'soupçon': 2.1270259922576255e-05, 'fâcheux': 2.1270259922576255e-05, 'pèse': 4.254051984515251e-05, 'différente': 4.254051984515251e-05, 'fond': 8.508103969030502e-05, 'marché': 0.0006168375377547114, 'intérieur': 0.00021270259922576254, 'complémentaires': 4.254051984515251e-05, 'espagnoles': 2.1270259922576255e-05, 'déduit': 2.1270259922576255e-05, 'maccormick': 0.00025524311907091507, 'éclairer': 2.1270259922576255e-05, 'serais': 4.254051984515251e-05, 'heureux': 4.254051984515251e-05, 'vue': 0.0004254051984515251, 'portée': 8.508103969030502e-05, 'année': 8.508103969030502e-05, 'recommandations': 6.381077976772877e-05, 'estimé': 2.1270259922576255e-05, 'claires': 0.00010635129961288127, 'précises': 4.254051984515251e-05, 'étaient': 0.00017016207938061004, 'envoyé': 4.254051984515251e-05, 'réclamant': 2.1270259922576255e-05, 'réponse': 0.00029778363891606755, 'fournie': 4.254051984515251e-05, 'cru': 2.1270259922576255e-05, 'soulevé': 6.381077976772877e-05, 'quelques': 0.00040413493852894884, 'coordinateurs': 8.508103969030502e-05, 'espérais': 4.254051984515251e-05, 'renseigner': 2.1270259922576255e-05, 'clarifier': 6.381077976772877e-05, 'choses': 0.00014889181945803377, 'raisonnablement': 4.254051984515251e-05, 'courrier': 2.1270259922576255e-05, 'ferme': 4.254051984515251e-05, 'air': 6.381077976772877e-05, 'protester': 2.1270259922576255e-05, 'voyage': 2.1270259922576255e-05, 'conciliante': 4.254051984515251e-05, 'assurant': 2.1270259922576255e-05, 'jamais': 0.00021270259922576254, 'fâcheuse': 2.1270259922576255e-05, 'représenterait': 2.1270259922576255e-05, 'vont': 8.508103969030502e-05, 'éprouver': 2.1270259922576255e-05, 'puissant': 2.1270259922576255e-05, 'élan': 6.381077976772877e-05, 'compassion': 2.1270259922576255e-05, 'égard': 0.00014889181945803377, 'arrivé': 8.508103969030502e-05, 'aéroport': 8.508103969030502e-05, 'edimbourg': 2.1270259922576255e-05, 'enregistrement': 2.1270259922576255e-05, 'vol': 0.00010635129961288127, 'destination': 4.254051984515251e-05, 'paris': 2.1270259922576255e-05, 'avion': 4.254051984515251e-05, 'consécutive': 2.1270259922576255e-05, 'surréservation': 2.1270259922576255e-05, 'devais': 2.1270259922576255e-05, 'passer': 0.00014889181945803377, 'arriver': 0.00014889181945803377, '17': 2.1270259922576255e-05, 'assez': 0.00012762155953545753, 'attirant': 6.381077976772877e-05, 'misérable': 2.1270259922576255e-05, 'recevra': 2.1270259922576255e-05, 'vôtre': 2.1270259922576255e-05, 'navré': 2.1270259922576255e-05, 'soulever': 6.381077976772877e-05, 'aurai': 2.1270259922576255e-05, 'demain': 0.0003403241587612201, 'matin': 4.254051984515251e-05, 'posée': 2.1270259922576255e-05, 'schulz': 6.381077976772877e-05, 'bonnes': 4.254051984515251e-05, 'mains': 4.254051984515251e-05, 'adresserons': 2.1270259922576255e-05, 'incitant': 2.1270259922576255e-05, 'accorder': 0.00014889181945803377, 'requise': 6.381077976772877e-05, 'suivi': 0.00012762155953545753, 'remercier': 0.0003615944186837963, 'banotti': 2.1270259922576255e-05, 'attiré': 2.1270259922576255e-05, 'bactérien': 2.1270259922576255e-05, 'ans': 0.00025524311907091507, 'certes': 0.00017016207938061004, 'vendredi': 2.1270259922576255e-05, 'séances': 0.00012762155953545753, 'plénières': 8.508103969030502e-05, 'supprimé': 2.1270259922576255e-05, 'thème': 0.00012762155953545753, 'intéressant': 6.381077976772877e-05, 'bactéries': 2.1270259922576255e-05, 'réapparaissent': 2.1270259922576255e-05, 'moment': 0.00014889181945803377, 'précis': 8.508103969030502e-05, 'conclure': 0.00010635129961288127, 'vérifications': 4.254051984515251e-05, 'rigoureuses': 2.1270259922576255e-05, 'réactions': 4.254051984515251e-05, 'émotionnelles': 2.1270259922576255e-05, 'enflammées': 2.1270259922576255e-05, 'réaliser': 0.00012762155953545753, 'étude': 6.381077976772877e-05, 'objective': 4.254051984515251e-05, 'mélanger': 2.1270259922576255e-05, 'sujets': 0.00019143233930318628, 'uns': 2.1270259922576255e-05, 'serions': 4.254051984515251e-05, 'contraints': 2.1270259922576255e-05, 'halte': 2.1270259922576255e-05, 'seigneur': 2.1270259922576255e-05, 'côté': 6.381077976772877e-05, 'fleuve': 2.1270259922576255e-05, 'palais': 2.1270259922576255e-05, 'trouver': 0.00014889181945803377, 'abri': 2.1270259922576255e-05, 'provisoire': 6.381077976772877e-05, 'insurger': 2.1270259922576255e-05, 'bourrage': 2.1270259922576255e-05, 'crâne': 2.1270259922576255e-05, 'hystérie': 2.1270259922576255e-05, 'manifestés': 2.1270259922576255e-05, 'autour': 6.381077976772877e-05, 'différence': 8.508103969030502e-05, 'distinctes': 2.1270259922576255e-05, 'veulent': 4.254051984515251e-05, 'preuve': 0.00021270259922576254, 'scientifique': 4.254051984515251e-05, 'politique': 0.0015314587144254902, 'existence': 4.254051984515251e-05, 'établie': 2.1270259922576255e-05, 'scientifiquement': 2.1270259922576255e-05, 'acte': 4.254051984515251e-05, 'soi': 0.00014889181945803377, 'mise': 0.0002339728591483388, 'garde': 4.254051984515251e-05, 'tandis': 4.254051984515251e-05, 'plupart': 0.00012762155953545753, 'femmes': 0.0003403241587612201, 'meurent': 2.1270259922576255e-05, 'faim': 4.254051984515251e-05, 'ouvre': 2.1270259922576255e-05, 'rappeler': 0.00014889181945803377, '%': 0.0003615944186837963, 'engagements': 4.254051984515251e-05, 'pris': 0.00019143233930318628, 'cinq': 0.00017016207938061004, 'respectés': 2.1270259922576255e-05, 'engagera': 2.1270259922576255e-05, 'profondeur': 2.1270259922576255e-05, 'responsables': 8.508103969030502e-05, 'énorme': 4.254051984515251e-05, 'face': 0.00017016207938061004, 'jusqu': 0.0002339728591483388, 'référence': 0.00017016207938061004, 'règlements': 8.508103969030502e-05, 'titre': 0.00021270259922576254, '137': 4.254051984515251e-05, 'paragraphe': 0.00017016207938061004, '1': 8.508103969030502e-05, 'relatif': 0.00017016207938061004, 'explications': 8.508103969030502e-05, 'explication': 8.508103969030502e-05, 'cappato': 2.1270259922576255e-05, 'suspension': 4.254051984515251e-05, 'laissé': 2.1270259922576255e-05, 'expliquer': 6.381077976772877e-05, 'duhamel': 2.1270259922576255e-05, 'exiger': 6.381077976772877e-05, 'stupide': 2.1270259922576255e-05, 'coûteux': 2.1270259922576255e-05, 'voté': 6.381077976772877e-05, 'expert': 8.508103969030502e-05, 'devez': 2.1270259922576255e-05, '2': 0.00012762155953545753, 'stipule': 4.254051984515251e-05, 'recevables': 2.1270259922576255e-05, 'votes': 0.00029778363891606755, 'saviez': 2.1270259922576255e-05, 'participer': 6.381077976772877e-05, 'derniers': 6.381077976772877e-05, '4': 6.381077976772877e-05, 'mixte': 6.381077976772877e-05, 'bulgarie': 0.00010635129961288127, 'énergétique': 2.1270259922576255e-05, 'fin': 0.0002765133789934913, 'date': 2.1270259922576255e-05, 'définitive': 4.254051984515251e-05, 'fermeture': 4.254051984515251e-05, 'unités': 4.254051984515251e-05, 'centrale': 4.254051984515251e-05, 'nucléaire': 2.1270259922576255e-05, 'kozloduy': 2.1270259922576255e-05, 'bulgare': 4.254051984515251e-05, 'majorité': 0.00040413493852894884, 'opposition': 6.381077976772877e-05, 'gouvernement': 0.00012762155953545753, 'accordés': 2.1270259922576255e-05, 'souligner': 0.00025524311907091507, 'portera': 2.1270259922576255e-05, 'porterait': 2.1270259922576255e-05, 'coup': 6.381077976772877e-05, 'économie': 4.254051984515251e-05, 'considèrent': 4.254051984515251e-05, 'négociations': 4.254051984515251e-05, 'encontre': 2.1270259922576255e-05, 'intérêts': 0.00021270259922576254, 'désir': 4.254051984515251e-05, 'adhérer': 2.1270259922576255e-05, 'tôt': 0.00012762155953545753, 'assisté': 2.1270259922576255e-05, 'voici': 2.1270259922576255e-05, 'scènes': 4.254051984515251e-05, 'agression': 2.1270259922576255e-05, 'brutale': 2.1270259922576255e-05, 'mer': 8.508103969030502e-05, 'port': 6.381077976772877e-05, 'pirée': 2.1270259922576255e-05, 'grec': 2.1270259922576255e-05, 'portuaire': 2.1270259922576255e-05, 'police': 4.254051984515251e-05, 'forces': 8.508103969030502e-05, 'spéciales': 4.254051984515251e-05, 'ruées': 2.1270259922576255e-05, 'rage': 2.1270259922576255e-05, 'grève': 2.1270259922576255e-05, 'réclamaient': 2.1270259922576255e-05, 'sociale': 0.0014676479346577614, 'humaines': 4.254051984515251e-05, 'appareiller': 2.1270259922576255e-05, 'ferry': 2.1270259922576255e-05, 'porte': 0.00012762155953545753, 'duquel': 4.254051984515251e-05, 'suspendu': 2.1270259922576255e-05, 'mécaniciens': 2.1270259922576255e-05, 'marine': 2.1270259922576255e-05, 'marchande': 2.1270259922576255e-05, 'armateur': 2.1270259922576255e-05, 'diriger': 2.1270259922576255e-05, 'attaque': 2.1270259922576255e-05, 'dizaines': 4.254051984515251e-05, 'blessés': 2.1270259922576255e-05, 'vulgaires': 2.1270259922576255e-05, 'criminels': 2.1270259922576255e-05, 'défendaient': 2.1270259922576255e-05, 'mènent': 4.254051984515251e-05, 'assimilation': 2.1270259922576255e-05, 'mouvement': 2.1270259922576255e-05, 'populaire': 8.508103969030502e-05, 'considération': 0.00010635129961288127, 'interveniez': 2.1270259922576255e-05, 'revoyions': 2.1270259922576255e-05, 'contrairement': 4.254051984515251e-05, 'proverbe': 2.1270259922576255e-05, 'meilleur': 0.00010635129961288127, 'vois': 0.00014889181945803377, 'contraint': 2.1270259922576255e-05, 'répondre': 0.00019143233930318628, 'disant': 2.1270259922576255e-05, 'plein': 6.381077976772877e-05, 'championnat': 2.1270259922576255e-05, 'football': 4.254051984515251e-05, 'vient': 0.00010635129961288127, 'marquer': 6.381077976772877e-05, 'but': 0.00012762155953545753, 'spectaculaire': 2.1270259922576255e-05, 'propre': 0.00017016207938061004, 'répondu': 2.1270259922576255e-05, 'souviens': 2.1270259922576255e-05, 'magistrature': 4.254051984515251e-05, 'amples': 4.254051984515251e-05, 'trouvent': 6.381077976772877e-05, 'réticente': 2.1270259922576255e-05, 'sachant': 6.381077976772877e-05, 'vraisemblablement': 2.1270259922576255e-05, 'quel': 8.508103969030502e-05, 'saint': 2.1270259922576255e-05, 'vouer': 2.1270259922576255e-05, 'quoi': 8.508103969030502e-05, 'essaie': 6.381077976772877e-05, 'gagner': 6.381077976772877e-05, 'ayant': 0.00012762155953545753, 'effectuées': 4.254051984515251e-05, 'approfondie': 8.508103969030502e-05, 'magistrat': 2.1270259922576255e-05, 'chargé': 4.254051984515251e-05, 'rendu': 0.00014889181945803377, 'voire': 6.381077976772877e-05, 'main': 2.1270259922576255e-05, 'tactique': 2.1270259922576255e-05, 'stratégie': 0.00010635129961288127, 'dilatoire': 2.1270259922576255e-05, 'compléter': 2.1270259922576255e-05, 'instruction': 2.1270259922576255e-05, 'sine': 2.1270259922576255e-05, 'die': 2.1270259922576255e-05, 'maintenir': 8.508103969030502e-05, 'apporter': 0.00017016207938061004, 'poussé': 2.1270259922576255e-05, 'retenue': 2.1270259922576255e-05, 'ma': 0.00014889181945803377, 'envoie': 2.1270259922576255e-05, 'assurance': 6.381077976772877e-05, 'espagne': 4.254051984515251e-05, 'suit': 2.1270259922576255e-05, 'selon': 0.0006168375377547114, 'pouvons': 0.0004466754583741013, 'mettre': 0.0003403241587612201, 'atteint': 8.508103969030502e-05, 'étape': 0.00012762155953545753, 'suivante': 8.508103969030502e-05, 'travailleurs': 8.508103969030502e-05, 'perdre': 6.381077976772877e-05, 'absents': 2.1270259922576255e-05, 'subi': 4.254051984515251e-05, 'pression': 2.1270259922576255e-05, 'sache': 4.254051984515251e-05, 'exprimez': 2.1270259922576255e-05, 'formulées': 4.254051984515251e-05, 'ressenti': 2.1270259922576255e-05, 'influence': 6.381077976772877e-05, 'coercitive': 2.1270259922576255e-05, 'interne': 6.381077976772877e-05, 'externe': 2.1270259922576255e-05, 'existait': 2.1270259922576255e-05, 'emploi': 0.0005317564980644063, 'valables': 2.1270259922576255e-05, 'reflétaient': 2.1270259922576255e-05, 'laisser': 8.508103969030502e-05, 'propres': 6.381077976772877e-05, 'discussion': 0.00017016207938061004, 'commune': 0.0003403241587612201, 'suivants': 6.381077976772877e-05, 'a5': 0.00017016207938061004, '0008': 2.1270259922576255e-05, 'corbett': 0.001340026375122304, 'constitutionnelles': 0.00014889181945803377, 'révision': 0.0003190538988386438, 'générale': 0.00025524311907091507, '2040': 2.1270259922576255e-05, 'reg': 6.381077976772877e-05, '))': 4.254051984515251e-05, '0252': 2.1270259922576255e-05, '2000': 0.00010635129961288127, 'modifications': 0.00014889181945803377, 'destinées': 6.381077976772877e-05, 'équilibre': 0.0003615944186837963, 'individuel': 0.00012762155953545753, 'groupes': 0.0012974858552771515, '1999': 4.254051984515251e-05, '2181': 2.1270259922576255e-05, '0306': 2.1270259922576255e-05, 'inglewood': 0.00012762155953545753, 'dispositions': 0.0002339728591483388, 'relatives': 0.00017016207938061004, 'justification': 8.508103969030502e-05, 'amendements': 0.0013187561151997277, '2195': 2.1270259922576255e-05, ')).': 2.1270259922576255e-05, 'aimables': 2.1270259922576255e-05, 'soutien': 0.0004679457182966776, 'rapportent': 2.1270259922576255e-05, 'dix': 8.508103969030502e-05, 'minutes': 0.00010635129961288127, 'intention': 4.254051984515251e-05, 'maintenant': 0.00021270259922576254, 'permettra': 0.00010635129961288127, 'autorise': 2.1270259922576255e-05, 'interromps': 2.1270259922576255e-05, 'satisfait': 4.254051984515251e-05, 'soyez': 2.1270259922576255e-05, 'utiliser': 6.381077976772877e-05, 'suggère': 4.254051984515251e-05, 'vivement': 2.1270259922576255e-05, 'pratique': 0.00025524311907091507, 'standard': 2.1270259922576255e-05, 'débats': 0.0005104862381418301, 'thorning': 2.1270259922576255e-05, 'schmidt': 2.1270259922576255e-05, 'créé': 2.1270259922576255e-05, 'plaisir': 4.254051984515251e-05, 'enfin': 0.00040413493852894884, 'attend': 4.254051984515251e-05, 'figurer': 2.1270259922576255e-05, 'commenter': 4.254051984515251e-05, 'forcent': 2.1270259922576255e-05, 'revoir': 8.508103969030502e-05, 'élargissement': 0.00010635129961288127, 'comptera': 2.1270259922576255e-05, 'bientôt': 2.1270259922576255e-05, '732': 2.1270259922576255e-05, 'rationaliser': 6.381077976772877e-05, 'procédures': 0.0005742970179095589, 'concentrer': 8.508103969030502e-05, 'davantage': 0.00021270259922576254, 'priorités': 0.00010635129961288127, 'voulons': 0.00019143233930318628, 'fonctionner': 4.254051984515251e-05, 'voix': 0.00014889181945803377, 'peuples': 2.1270259922576255e-05, 'nice': 0.00025524311907091507, 'implique': 8.508103969030502e-05, 'spécifiques': 8.508103969030502e-05, 'votons': 4.254051984515251e-05, 'entreront': 4.254051984515251e-05, 'équivalentes': 4.254051984515251e-05, 'entrent': 2.1270259922576255e-05, 'portons': 2.1270259922576255e-05, 'préjudice': 2.1270259922576255e-05, 'résultat': 8.508103969030502e-05, 'nationale': 0.00010635129961288127, 'ratification': 6.381077976772877e-05, 'troisièmement': 8.508103969030502e-05, 'bureau': 2.1270259922576255e-05, 'identifié': 2.1270259922576255e-05, 'provan': 4.254051984515251e-05, 'derrière': 6.381077976772877e-05, 'prêt': 4.254051984515251e-05, 'présider': 2.1270259922576255e-05, 'approprié': 4.254051984515251e-05, 'rassemblé': 2.1270259922576255e-05, 'ensemble': 0.00025524311907091507, 'environ': 8.508103969030502e-05, '120': 2.1270259922576255e-05, 'changements': 0.00017016207938061004, 'touchant': 6.381077976772877e-05, '80': 6.381077976772877e-05, 'controverse': 0.00014889181945803377, 'consacrerai': 2.1270259922576255e-05, 'partie': 0.00038286467860637255, 'décongestionner': 4.254051984515251e-05, 'heure': 0.00017016207938061004, 'général': 0.00021270259922576254, 'réformé': 2.1270259922576255e-05, 'réformes': 0.0002339728591483388, 'rencontrant': 2.1270259922576255e-05, 'avancé': 6.381077976772877e-05, 'suggestions': 2.1270259922576255e-05, 'lesquelles': 0.00019143233930318628, 'controversés': 8.508103969030502e-05, 'récoltent': 2.1270259922576255e-05, '90': 8.508103969030502e-05, 'considérés': 2.1270259922576255e-05, 'ni': 0.0002339728591483388, 'sauf': 6.381077976772877e-05, 'spécifique': 2.1270259922576255e-05, 'charge': 6.381077976772877e-05, 'irait': 2.1270259922576255e-05, 'partant': 0.00012762155953545753, 'initiative': 0.00019143233930318628, 'disposer': 0.00014889181945803377, 'apposer': 2.1270259922576255e-05, 'notes': 4.254051984515251e-05, 'suivre': 6.381077976772877e-05, 'essayer': 0.00012762155953545753, 'reformuler': 2.1270259922576255e-05, '600': 2.1270259922576255e-05, 'juge': 8.508103969030502e-05, 'récolté': 2.1270259922576255e-05, 'agisse': 6.381077976772877e-05, 'filtre': 2.1270259922576255e-05, 'teste': 2.1270259922576255e-05, 'bénéficient': 0.00014889181945803377, 'dixième': 2.1270259922576255e-05, 'besoin': 0.00038286467860637255, 'clair': 0.00010635129961288127, 'chance': 0.00012762155953545753, 'adoptés': 6.381077976772877e-05, 'resteront': 4.254051984515251e-05, 'papier': 6.381077976772877e-05, 'circuler': 2.1270259922576255e-05, 'auront': 8.508103969030502e-05, 'enregistrés': 2.1270259922576255e-05, 'inutile': 2.1270259922576255e-05, 'retiennent': 2.1270259922576255e-05, 'mineures': 2.1270259922576255e-05, 'aborderai': 2.1270259922576255e-05, 'faute': 4.254051984515251e-05, 'suggérons': 4.254051984515251e-05, 'supprimer': 0.00012762155953545753, 'évidemment': 0.00010635129961288127, 'nouvelles': 0.0002765133789934913, 'appropriées': 4.254051984515251e-05, 'changer': 0.00014889181945803377, 'menons': 2.1270259922576255e-05, 'passage': 2.1270259922576255e-05, 'catch': 0.00017016207938061004, 'the': 0.00017016207938061004, 'eye': 0.00017016207938061004, 'proposé': 0.00021270259922576254, 'fermement': 6.381077976772877e-05, 'opposés': 8.508103969030502e-05, 'compromis': 0.0002765133789934913, 'commençons': 2.1270259922576255e-05, 'orateur': 0.00010635129961288127, 'trois': 0.00029778363891606755, 'tours': 2.1270259922576255e-05, 'orateurs': 0.00010635129961288127, 'laissons': 2.1270259922576255e-05, 'terminer': 0.00010635129961288127, 'animerait': 2.1270259922576255e-05, 'pourraient': 0.00010635129961288127, 'restés': 6.381077976772877e-05, 'salle': 6.381077976772877e-05, 'sauront': 2.1270259922576255e-05, 'raisonnable': 0.00012762155953545753, 'réalisable': 2.1270259922576255e-05, 'comporte': 6.381077976772877e-05, 'essai': 6.381077976772877e-05, 'avère': 4.254051984515251e-05, 'concluant': 2.1270259922576255e-05, 'continuer': 8.508103969030502e-05, 'sinon': 2.1270259922576255e-05, 'abandonner': 2.1270259922576255e-05, 'conseillerais': 2.1270259922576255e-05, 'hésitent': 2.1270259922576255e-05, 'voyons': 2.1270259922576255e-05, 'ça': 2.1270259922576255e-05, 'marche': 2.1270259922576255e-05, 'animer': 2.1270259922576255e-05, 'parlé': 6.381077976772877e-05, 'sept': 0.00010635129961288127, 'souvenez': 2.1270259922576255e-05, 'conclusion': 0.00010635129961288127, 'brève': 2.1270259922576255e-05, 'couvrirai': 2.1270259922576255e-05, 'rédigé': 0.00014889181945803377, 'époque': 0.00012762155953545753, 'devions': 4.254051984515251e-05, 'accusations': 2.1270259922576255e-05, 'discriminatoire': 6.381077976772877e-05, 'appartenant': 2.1270259922576255e-05, 'inventaire': 2.1270259922576255e-05, 'discriminatoires': 4.254051984515251e-05, 'tels': 0.00017016207938061004, 'solutions': 0.00010635129961288127, 'présentées': 6.381077976772877e-05, 'considérera': 2.1270259922576255e-05, 'certaines': 0.0002339728591483388, 'inutiles': 2.1270259922576255e-05, 'zèle': 2.1270259922576255e-05, 'approuver': 6.381077976772877e-05, 'logique': 6.381077976772877e-05, 'examinent': 4.254051984515251e-05, 'étrange': 6.381077976772877e-05, 'envisagé': 6.381077976772877e-05, 'considéré': 6.381077976772877e-05, 'conjonction': 2.1270259922576255e-05, 'principal': 0.00010635129961288127, 'regretterais': 2.1270259922576255e-05, 'doive': 2.1270259922576255e-05, 'renvoyé': 4.254051984515251e-05, 'préférable': 2.1270259922576255e-05, 'reconnaître': 6.381077976772877e-05, 'niveaux': 0.00017016207938061004, 'arrête': 2.1270259922576255e-05, 'réserver': 2.1270259922576255e-05, 'réponses': 6.381077976772877e-05, 'tellement': 4.254051984515251e-05, 'attendu': 2.1270259922576255e-05, 'parler': 0.00010635129961288127, 'pouvez': 4.254051984515251e-05, 'profiter': 2.1270259922576255e-05, 'pleinement': 4.254051984515251e-05, '40': 2.1270259922576255e-05, 'secondes': 2.1270259922576255e-05, 'faisant': 0.00010635129961288127, 'tenir': 0.00014889181945803377, 'imagine': 4.254051984515251e-05, 'remarqué': 6.381077976772877e-05, 'tapis': 2.1270259922576255e-05, 'ombre': 4.254051984515251e-05, 'complet': 2.1270259922576255e-05, 'large': 0.00010635129961288127, 'second': 0.00014889181945803377, 'préparé': 4.254051984515251e-05, 'premières': 4.254051984515251e-05, 'incohérences': 2.1270259922576255e-05, 'internes': 2.1270259922576255e-05, 'pensait': 2.1270259922576255e-05, 'présenté': 0.00017016207938061004, 'amendé': 4.254051984515251e-05, 'vaste': 2.1270259922576255e-05, 'lequel': 0.00029778363891606755, 'engagés': 4.254051984515251e-05, 'disparu': 2.1270259922576255e-05, 'complètement': 2.1270259922576255e-05, 'gratitude': 4.254051984515251e-05, 'pêche': 4.254051984515251e-05, 'règle': 0.00012762155953545753, 'associée': 2.1270259922576255e-05, 'seules': 8.508103969030502e-05, 'dehors': 0.00010635129961288127, 'devait': 0.00012762155953545753, 'précurseur': 2.1270259922576255e-05, 'parallèle': 2.1270259922576255e-05, 'représente': 8.508103969030502e-05, 'paquet': 6.381077976772877e-05, 'simples': 6.381077976772877e-05, 'individuelle': 6.381077976772877e-05, 'unique': 8.508103969030502e-05, 'contexte': 8.508103969030502e-05, 'introduits': 4.254051984515251e-05, 'suggéré': 2.1270259922576255e-05, 'obligation': 0.00014889181945803377, 'stricte': 2.1270259922576255e-05, 'justifier': 2.1270259922576255e-05, 'reconnu': 6.381077976772877e-05, 'législatives': 0.00012762155953545753, 'finalement': 0.00014889181945803377, 'souci': 6.381077976772877e-05, 'clarté': 0.00010635129961288127, 'techniques': 0.00012762155953545753, 'justifications': 2.1270259922576255e-05, 'individuelles': 2.1270259922576255e-05, 'relever': 0.00010635129961288127, 'auteurs': 2.1270259922576255e-05, 'soumises': 4.254051984515251e-05, 'recommander': 4.254051984515251e-05, 'excellent': 0.00025524311907091507, 'ravie': 2.1270259922576255e-05, 'puissions': 6.381077976772877e-05, 'simplifier': 6.381077976772877e-05, 'vie': 0.00025524311907091507, 'raccourcissant': 2.1270259922576255e-05, 'surtout': 0.00014889181945803377, 'actes': 6.381077976772877e-05, 'posons': 2.1270259922576255e-05, 'compréhensibles': 4.254051984515251e-05, 'yeux': 0.00010635129961288127, 'extérieur': 4.254051984515251e-05, 'concentreront': 2.1270259922576255e-05, 'clés': 6.381077976772877e-05, 'ôter': 2.1270259922576255e-05, 'minorités': 0.00012762155953545753, 'proposés': 0.00014889181945803377, 'inquiets': 4.254051984515251e-05, 'actuelle': 0.00014889181945803377, 'abolie': 2.1270259922576255e-05, 'option': 2.1270259922576255e-05, 'meilleure': 0.00019143233930318628, 'étrangères': 4.254051984515251e-05, 'soumettrait': 4.254051984515251e-05, 'signifie': 4.254051984515251e-05, 'relatifs': 6.381077976772877e-05, 'exactement': 8.508103969030502e-05, 'importants': 0.0003403241587612201, 'passés': 2.1270259922576255e-05, 'revue': 4.254051984515251e-05, 'soutiendra': 6.381077976772877e-05, 'importante': 0.0002339728591483388, 'améliorera': 4.254051984515251e-05, 'plaintes': 6.381077976772877e-05, 'constantes': 2.1270259922576255e-05, 'savons': 0.00010635129961288127, 'centaines': 6.381077976772877e-05, 'changement': 8.508103969030502e-05, 'faisons': 0.00017016207938061004, 'aura': 0.00019143233930318628, 'resterons': 2.1270259922576255e-05, 'statu': 2.1270259922576255e-05, 'quo': 2.1270259922576255e-05, 'continueront': 4.254051984515251e-05, 'nl': 2.1270259922576255e-05, 'chaleureusement': 6.381077976772877e-05, 'hésiterai': 2.1270259922576255e-05, 'qualifier': 2.1270259922576255e-05, 'magnus': 2.1270259922576255e-05, 'opus': 2.1270259922576255e-05, 'contribution': 0.00017016207938061004, 'constituent': 0.00010635129961288127, 'véritablement': 8.508103969030502e-05, 'codification': 2.1270259922576255e-05, 'vécu': 2.1270259922576255e-05, 'pierre': 2.1270259922576255e-05, 'apportée': 4.254051984515251e-05, 'construction': 2.1270259922576255e-05, 'édifice': 2.1270259922576255e-05, 'constitutionnel': 2.1270259922576255e-05, 'conscients': 4.254051984515251e-05, 'aurions': 4.254051984515251e-05, 'tort': 2.1270259922576255e-05, 'estimer': 2.1270259922576255e-05, 'budgets': 6.381077976772877e-05, 'déposé': 8.508103969030502e-05, 'problématique': 0.00010635129961288127, 'compétence': 0.00014889181945803377, 'budgétaire': 0.00019143233930318628, 'autorité': 0.00025524311907091507, 'étonné': 2.1270259922576255e-05, 'oublier': 6.381077976772877e-05, 'arrive': 4.254051984515251e-05, 'appartient': 2.1270259922576255e-05, 'prononcer': 4.254051984515251e-05, 'certaine': 0.00017016207938061004, 'exprime': 6.381077976772877e-05, 'doublement': 2.1270259922576255e-05, 'collaboration': 0.00014889181945803377, 'commissions': 0.0004892159782192538, 'franche': 2.1270259922576255e-05, 'équilibrée': 4.254051984515251e-05, 'décidant': 2.1270259922576255e-05, 'mémorandum': 2.1270259922576255e-05, 'financier': 6.381077976772877e-05, 'appréciation': 2.1270259922576255e-05, 'financière': 4.254051984515251e-05, 'essentielle': 4.254051984515251e-05, 'prenne': 8.508103969030502e-05, 'concrète': 6.381077976772877e-05, 'espérons': 0.00014889181945803377, 'élargie': 4.254051984515251e-05, 'domaines': 0.00019143233930318628, 'application': 0.00014889181945803377, 'rapporteurs': 0.00014889181945803377, 'impliqués': 2.1270259922576255e-05, 'intéresse': 2.1270259922576255e-05, '14': 6.381077976772877e-05, 'analyse': 0.00025524311907091507, 'classification': 2.1270259922576255e-05, 'éléments': 0.00014889181945803377, 'représentaient': 2.1270259922576255e-05, 'tâche': 8.508103969030502e-05, 'considérable': 8.508103969030502e-05, 'sincères': 4.254051984515251e-05, 'félicitations': 8.508103969030502e-05, 'mené': 4.254051984515251e-05, 'mission': 6.381077976772877e-05, 'penchés': 2.1270259922576255e-05, 'thèmes': 0.00010635129961288127, 'comptes': 6.381077976772877e-05, 'procédons': 2.1270259922576255e-05, 'nomination': 8.508103969030502e-05, '1992': 2.1270259922576255e-05, '1995': 4.254051984515251e-05, 'élaborés': 2.1270259922576255e-05, 'lamassoure': 4.254051984515251e-05, 'bourlanges': 2.1270259922576255e-05, 'règles': 0.0003615944186837963, 'coucher': 2.1270259922576255e-05, 'olaf': 0.00012762155953545753, 'comporter': 2.1270259922576255e-05, 'personnellement': 0.00010635129961288127, 'vis': 0.00025524311907091507, 'effet': 0.00038286467860637255, 'controversé': 8.508103969030502e-05, 'avions': 6.381077976772877e-05, 'différemment': 4.254051984515251e-05, 'oublié': 2.1270259922576255e-05, 'arrivés': 2.1270259922576255e-05, 'venu': 2.1270259922576255e-05, 'cohérente': 4.254051984515251e-05, 'appropriée': 4.254051984515251e-05, 'jetés': 2.1270259922576255e-05, 'sac': 2.1270259922576255e-05, 'traitement': 0.00025524311907091507, 'parti': 0.00010635129961288127, 'amendement': 0.0007019185774450163, 'couvre': 2.1270259922576255e-05, 'recours': 4.254051984515251e-05, 'deviendraient': 2.1270259922576255e-05, 'superflus': 2.1270259922576255e-05, 'spécialement': 8.508103969030502e-05, 'assoupli': 2.1270259922576255e-05, 'initiales': 2.1270259922576255e-05, 'atteindre': 0.00012762155953545753, 'réforme': 0.0002765133789934913, 'portant': 6.381077976772877e-05, 'lesquels': 0.0002339728591483388, 'soumis': 6.381077976772877e-05, 'global': 8.508103969030502e-05, 'élaborer': 4.254051984515251e-05, '67': 2.1270259922576255e-05, 'développements': 2.1270259922576255e-05, 'faibles': 2.1270259922576255e-05, 'parallèlement': 4.254051984515251e-05, 'examinons': 2.1270259922576255e-05, 'catégorie': 2.1270259922576255e-05, 'relation': 6.381077976772877e-05, 'totalement': 0.00014889181945803377, 'accepté': 0.00010635129961288127, 'soutenir': 0.00012762155953545753, 'prudence': 4.254051984515251e-05, 'interinstitutionnel': 2.1270259922576255e-05, 'confidentielles': 2.1270259922576255e-05, 'sensibles': 4.254051984515251e-05, 'connu': 2.1270259922576255e-05, 'brok': 4.254051984515251e-05, 'négociation': 2.1270259922576255e-05, 'prier': 2.1270259922576255e-05, 'instamment': 6.381077976772877e-05, 'mûre': 2.1270259922576255e-05, 'réflexion': 6.381077976772877e-05, 'accepter': 0.00012762155953545753, 'désavantage': 2.1270259922576255e-05, 'considérablement': 6.381077976772877e-05, 'examinée': 6.381077976772877e-05, 'soigneusement': 2.1270259922576255e-05, 'retrouve': 2.1270259922576255e-05, 'déséquilibre': 2.1270259922576255e-05, 'initialiser': 2.1270259922576255e-05, 'confidentiels': 2.1270259922576255e-05, 'avertissements': 2.1270259922576255e-05, 'nul': 6.381077976772877e-05, 'dû': 0.00012762155953545753, 'défi': 0.00014889181945803377, 'lorsqu': 0.00014889181945803377, 'organiser': 0.00014889181945803377, 'travailler': 0.00012762155953545753, 'efficace': 0.00019143233930318628, 'transparente': 6.381077976772877e-05, 'contribuer': 6.381077976772877e-05, 'affirmer': 6.381077976772877e-05, 'caractère': 0.0002765133789934913, 'capital': 6.381077976772877e-05, 'tendance': 4.254051984515251e-05, 'susceptible': 2.1270259922576255e-05, 'entraîner': 2.1270259922576255e-05, 'bureaucratisation': 2.1270259922576255e-05, 'économique': 0.0002765133789934913, 'monétaire': 2.1270259922576255e-05, 'accueille': 4.254051984515251e-05, 'favorables': 4.254051984515251e-05, 'dialogue': 0.00010635129961288127, 'banque': 2.1270259922576255e-05, 'visent': 6.381077976772877e-05, 'lignes': 8.508103969030502e-05, 'directrices': 4.254051984515251e-05, 'applicables': 6.381077976772877e-05, 'interinstitutionnelles': 2.1270259922576255e-05, 'évoluent': 2.1270259922576255e-05, 'déterminée': 8.508103969030502e-05, 'remodeler': 2.1270259922576255e-05, 'insuffler': 6.381077976772877e-05, 'volonté': 0.00025524311907091507, 'marquera': 2.1270259922576255e-05, 'futures': 2.1270259922576255e-05, 'discussions': 0.00012762155953545753, 'devront': 0.00010635129961288127, 'rester': 8.508103969030502e-05, 'morte': 2.1270259922576255e-05, 'démontrer': 2.1270259922576255e-05, 'établissement': 2.1270259922576255e-05, 'améliorer': 0.00019143233930318628, 'condenser': 2.1270259922576255e-05, 'évidence': 0.00012762155953545753, 'essentiels': 0.00017016207938061004, 'renforcer': 0.0003615944186837963, 'profil': 2.1270259922576255e-05, 'opinion': 0.00021270259922576254, 'pencher': 2.1270259922576255e-05, '59': 6.381077976772877e-05, '110a': 2.1270259922576255e-05, 'discerne': 2.1270259922576255e-05, 'légitime': 4.254051984515251e-05, 'justes': 4.254051984515251e-05, 'déroulent': 4.254051984515251e-05, 'effectivement': 8.508103969030502e-05, 'extérieure': 2.1270259922576255e-05, 'pourtant': 0.00014889181945803377, 'définition': 0.00025524311907091507, 'supérieure': 2.1270259922576255e-05, 'spécialisées': 4.254051984515251e-05, 'apparu': 6.381077976772877e-05, 'équivoque': 2.1270259922576255e-05, 'écrasante': 2.1270259922576255e-05, 'permet': 0.00017016207938061004, 'préparer': 4.254051984515251e-05, 'lecture': 4.254051984515251e-05, 'succès': 2.1270259922576255e-05, 'terme': 0.00014889181945803377, 'formerions': 2.1270259922576255e-05, 'prétendues': 2.1270259922576255e-05, 'majorités': 4.254051984515251e-05, 'inexistantes': 2.1270259922576255e-05, 'satisfaire': 6.381077976772877e-05, 'demandes': 0.00017016207938061004, 'formelles': 2.1270259922576255e-05, 'sincèrement': 4.254051984515251e-05, 'bureaucratie': 2.1270259922576255e-05, 'évitée': 2.1270259922576255e-05, 'imagineront': 2.1270259922576255e-05, 'sélection': 4.254051984515251e-05, 'parvenir': 0.00010635129961288127, 'attendez': 2.1270259922576255e-05, '87': 2.1270259922576255e-05, '88': 2.1270259922576255e-05, 'exécutif': 0.00010635129961288127, 'comptabilise': 2.1270259922576255e-05, 'deniers': 2.1270259922576255e-05, 'centimes': 2.1270259922576255e-05, 'cents': 2.1270259922576255e-05, '...': 8.508103969030502e-05, 'retire': 0.00010635129961288127, 'oratrice': 4.254051984515251e-05, 'maastricht': 2.1270259922576255e-05, 'adaptation': 6.381077976772877e-05, 'indispensable': 0.0002339728591483388, 'combien': 6.381077976772877e-05, 'laborieux': 2.1270259922576255e-05, 'remerciements': 2.1270259922576255e-05, 'richard': 0.00012762155953545753, 'exergue': 4.254051984515251e-05, 'quiconque': 4.254051984515251e-05, 'aspire': 2.1270259922576255e-05, 'grands': 0.00021270259922576254, 'louable': 4.254051984515251e-05, 'consolider': 4.254051984515251e-05, 'or': 4.254051984515251e-05, 'relève': 6.381077976772877e-05, 'hauteur': 2.1270259922576255e-05, 'obstacles': 8.508103969030502e-05, 'séparent': 2.1270259922576255e-05, 'impératif': 2.1270259922576255e-05, 'absolu': 2.1270259922576255e-05, 'direction': 0.00010635129961288127, 'devrons': 8.508103969030502e-05, 'loin': 0.00010635129961288127, 'avenir': 0.00010635129961288127, 'initiatives': 6.381077976772877e-05, 'étranger': 0.00010635129961288127, 'réclamons': 2.1270259922576255e-05, 'jouissons': 2.1270259922576255e-05, 'limité': 4.254051984515251e-05, 'effrayant': 2.1270259922576255e-05, 'érige': 2.1270259922576255e-05, 'discrimination': 0.00010635129961288127, 'aide': 4.254051984515251e-05, 'judiciaire': 0.00012762155953545753, 'restée': 2.1270259922576255e-05, 'bloquée': 2.1270259922576255e-05, 'supprimons': 2.1270259922576255e-05, 'confirmation': 2.1270259922576255e-05, 'appliquées': 2.1270259922576255e-05, 'vécue': 4.254051984515251e-05, 'crucial': 4.254051984515251e-05, 'secret': 2.1270259922576255e-05, 'rallie': 2.1270259922576255e-05, 'exprimés': 0.00010635129961288127, 'accordera': 2.1270259922576255e-05, 'commencerais': 2.1270259922576255e-05, 'simplification': 2.1270259922576255e-05, 'concentration': 4.254051984515251e-05, 'actuels': 4.254051984515251e-05, 'sociales': 0.00019143233930318628, 'souligné': 6.381077976772877e-05, 'optimaliser': 2.1270259922576255e-05, 'dynamique': 2.1270259922576255e-05, 'agirait': 6.381077976772877e-05, 'avantage': 2.1270259922576255e-05, 'place': 0.00025524311907091507, 'méthode': 0.0002339728591483388, 'coordination': 0.0003403241587612201, 'exclure': 2.1270259922576255e-05, 'haute': 2.1270259922576255e-05, 'faisais': 2.1270259922576255e-05, 'visait': 2.1270259922576255e-05, 'élaboration': 0.00010635129961288127, 'aspect': 0.00010635129961288127, 'ignoré': 4.254051984515251e-05, 'inviter': 4.254051984515251e-05, 'réunions': 0.00010635129961288127, 'base': 0.0003615944186837963, 'annuels': 4.254051984515251e-05, 'rendant': 2.1270259922576255e-05, 'étroite': 2.1270259922576255e-05, 'apprentissage': 8.508103969030502e-05, 'matières': 2.1270259922576255e-05, 'font': 0.0002765133789934913, 'sphère': 2.1270259922576255e-05, 'compétences': 0.00025524311907091507, 'insérer': 2.1270259922576255e-05, 'parmi': 0.0002765133789934913, 'aurais': 6.381077976772877e-05, 'souhaité': 2.1270259922576255e-05, 'devenir': 8.508103969030502e-05, 'central': 2.1270259922576255e-05, 'ambition': 2.1270259922576255e-05, 'suffit': 6.381077976772877e-05, 'adapter': 2.1270259922576255e-05, 'modes': 2.1270259922576255e-05, 'fonctionnement': 0.00019143233930318628, 'conséquence': 4.254051984515251e-05, 'noyau': 2.1270259922576255e-05, 'dur': 2.1270259922576255e-05, 'poursuit': 4.254051984515251e-05, 'nombreuses': 0.00012762155953545753, 'idées': 8.508103969030502e-05, 'développées': 4.254051984515251e-05, 'permettront': 4.254051984515251e-05, 'progresser': 2.1270259922576255e-05, 'tenons': 8.508103969030502e-05, 'précision': 6.381077976772877e-05, 'remarquable': 4.254051984515251e-05, 'accompli': 8.508103969030502e-05, 'complexe': 8.508103969030502e-05, 'coopération': 0.00014889181945803377, 'exemplaire': 2.1270259922576255e-05, 'franchise': 6.381077976772877e-05, 'montre': 6.381077976772877e-05, 'consultative': 2.1270259922576255e-05, 'acquérir': 2.1270259922576255e-05, 'grâce': 0.00014889181945803377, 'introduction': 0.00010635129961288127, 'singulier': 2.1270259922576255e-05, 'faille': 2.1270259922576255e-05, 'user': 2.1270259922576255e-05, 'artifices': 2.1270259922576255e-05, 'instrumentaux': 2.1270259922576255e-05, 'amener': 2.1270259922576255e-05, 'brûlantes': 2.1270259922576255e-05, 'spectacle': 2.1270259922576255e-05, 'bénéficier': 8.508103969030502e-05, 'adoptées': 4.254051984515251e-05, 'rétablir': 2.1270259922576255e-05, 'modifier': 0.00017016207938061004, 'aspirons': 4.254051984515251e-05, 'concentrée': 2.1270259922576255e-05, 'renoncer': 4.254051984515251e-05, 'résolutions': 0.00014889181945803377, 'routine': 2.1270259922576255e-05, 'exigent': 4.254051984515251e-05, 'énormément': 6.381077976772877e-05, 'malgré': 0.0002339728591483388, 'attachement': 2.1270259922576255e-05, 'portent': 2.1270259922576255e-05, 'simplifiée': 4.254051984515251e-05, 'législatif': 8.508103969030502e-05, 'présentes': 2.1270259922576255e-05, 'nécessitent': 2.1270259922576255e-05, 'approbation': 0.00010635129961288127, 'consacrions': 2.1270259922576255e-05, 'moitié': 6.381077976772877e-05, 'tâches': 0.00010635129961288127, 'acquièrent': 2.1270259922576255e-05, 'loi': 4.254051984515251e-05, 'restent': 4.254051984515251e-05, 'exigences': 0.00012762155953545753, 'pertinemment': 2.1270259922576255e-05, 'compatibilité': 4.254051984515251e-05, 'insensé': 2.1270259922576255e-05, 'honorées': 2.1270259922576255e-05, 'préserver': 8.508103969030502e-05, 'langue': 0.00017016207938061004, 'maternelle': 6.381077976772877e-05, 'tenu': 0.00010635129961288127, 'prévenir': 4.254051984515251e-05, 'fractionnement': 2.1270259922576255e-05, 'constitution': 0.00010635129961288127, 'renforcées': 2.1270259922576255e-05, 'restreindre': 0.00010635129961288127, 'spéciale': 4.254051984515251e-05, 'textes': 4.254051984515251e-05, 'débattus': 2.1270259922576255e-05, 'mieux': 0.00019143233930318628, 'ladite': 4.254051984515251e-05, 'limitée': 2.1270259922576255e-05, 'situations': 2.1270259922576255e-05, 'vise': 8.508103969030502e-05, 'devenues': 2.1270259922576255e-05, 'réduit': 2.1270259922576255e-05, 'adopter': 0.00019143233930318628, 'partis': 6.381077976772877e-05, 'délibérations': 2.1270259922576255e-05, 'menées': 2.1270259922576255e-05, 'exceptions': 4.254051984515251e-05, 'concerner': 2.1270259922576255e-05, 'ppe': 0.00010635129961288127, 'soutient': 8.508103969030502e-05, 'proposées': 6.381077976772877e-05, 'mode': 4.254051984515251e-05, 'visibilité': 2.1270259922576255e-05, 'marqués': 2.1270259922576255e-05, 'nature': 6.381077976772877e-05, 'réjouis': 8.508103969030502e-05, 'soir': 0.00012762155953545753, 'opportunité': 2.1270259922576255e-05, 'passionnante': 2.1270259922576255e-05, 'presse': 2.1270259922576255e-05, 'suivraient': 2.1270259922576255e-05, 'volontiers': 2.1270259922576255e-05, 'vrai': 8.508103969030502e-05, 'continuent': 2.1270259922576255e-05, 'échapper': 2.1270259922576255e-05, 'immigration': 2.1270259922576255e-05, 'agriculture': 2.1270259922576255e-05, 'battons': 2.1270259922576255e-05, 'convention': 0.00021270259922576254, 'montrent': 4.254051984515251e-05, 'technocratique': 2.1270259922576255e-05, 'entraînent': 2.1270259922576255e-05, 'détails': 6.381077976772877e-05, 'dissimulant': 2.1270259922576255e-05, 'véritables': 2.1270259922576255e-05, 'apparaissent': 4.254051984515251e-05, 'manque': 0.00010635129961288127, 'amplifier': 2.1270259922576255e-05, 'désintérêt': 2.1270259922576255e-05, 'doter': 2.1270259922576255e-05, 'enquête': 6.381077976772877e-05, 'fièvre': 2.1270259922576255e-05, 'aphteuse': 2.1270259922576255e-05, 'esb': 2.1270259922576255e-05, 'susceptibles': 0.00010635129961288127, 'tigre': 2.1270259922576255e-05, 'jouer': 2.1270259922576255e-05, 'agneaux': 2.1270259922576255e-05, 'inoffensifs': 2.1270259922576255e-05, 'chacune': 2.1270259922576255e-05, 'déployer': 2.1270259922576255e-05, 'activités': 4.254051984515251e-05, 'puissance': 4.254051984515251e-05, 'inspirant': 2.1270259922576255e-05, 'congrès': 4.254051984515251e-05, 'attaquons': 2.1270259922576255e-05, 'morceau': 2.1270259922576255e-05, 'tradition': 4.254051984515251e-05, 'technocratie': 2.1270259922576255e-05, 'conservatisme': 2.1270259922576255e-05, 'empêchés': 2.1270259922576255e-05, 'contenu': 8.508103969030502e-05, 'intérêt': 0.00019143233930318628, 'subir': 2.1270259922576255e-05, 'énumérations': 2.1270259922576255e-05, 'minute': 4.254051984515251e-05, 'risée': 2.1270259922576255e-05, 'comble': 4.254051984515251e-05, 'vexation': 2.1270259922576255e-05, 'lorsque': 0.00029778363891606755, 'chefs': 2.1270259922576255e-05, 'appeler': 6.381077976772877e-05, 'imposer': 4.254051984515251e-05, 'volontairement': 2.1270259922576255e-05, 'limitation': 2.1270259922576255e-05, 'draconienne': 2.1270259922576255e-05, 'exprimant': 2.1270259922576255e-05, 'faudra': 0.00017016207938061004, 'vivant': 8.508103969030502e-05, 'utilisé': 2.1270259922576255e-05, 'riment': 2.1270259922576255e-05, 'honneur': 4.254051984515251e-05, 'coordonner': 4.254051984515251e-05, 'pse': 4.254051984515251e-05, 'éprouve': 2.1270259922576255e-05, 'honte': 2.1270259922576255e-05, 'préparation': 0.00010635129961288127, 'bâclée': 2.1270259922576255e-05, 'divers': 0.00014889181945803377, 'mises': 0.00010635129961288127, 'admettre': 6.381077976772877e-05, 'méritent': 6.381077976772877e-05, 'aient': 6.381077976772877e-05, 'négliger': 2.1270259922576255e-05, 'adoption': 0.0002339728591483388, 'acquise': 4.254051984515251e-05, 'idée': 0.0002339728591483388, 'communauté': 0.00010635129961288127, 'ong': 2.1270259922576255e-05, 'émet': 4.254051984515251e-05, 'pat': 2.1270259922576255e-05, 'cox': 2.1270259922576255e-05, 'établissions': 2.1270259922576255e-05, 'esprit': 8.508103969030502e-05, 'femme': 8.508103969030502e-05, 'pourront': 0.00010635129961288127, 'oubliettes': 2.1270259922576255e-05, 'jouirons': 2.1270259922576255e-05, 'perspective': 6.381077976772877e-05, 'beaucoup': 0.0006168375377547114, 'crédible': 2.1270259922576255e-05, 'impatient': 2.1270259922576255e-05, 'suscitera': 2.1270259922576255e-05, 'abattu': 4.254051984515251e-05, 'impressionnant': 2.1270259922576255e-05, 'conclu': 2.1270259922576255e-05, 'balaye': 2.1270259922576255e-05, '10': 0.00012762155953545753, '12': 0.00012762155953545753, 'nouveaux': 0.0005530267579869826, 'v': 6.381077976772877e-05, 'ux': 4.254051984515251e-05, 'européennes': 0.00021270259922576254, 'notamment': 0.0003403241587612201, 'craignons': 4.254051984515251e-05, 'imposent': 2.1270259922576255e-05, 'reconnaissons': 2.1270259922576255e-05, 'antérieures': 2.1270259922576255e-05, 'lacunaires': 2.1270259922576255e-05, 'montagne': 4.254051984515251e-05, 'accouché': 2.1270259922576255e-05, 'souris': 4.254051984515251e-05, 'bruit': 4.254051984515251e-05, 'individuels': 0.00010635129961288127, 'petits': 0.00025524311907091507, 'particuliers': 2.1270259922576255e-05, 'tatillons': 2.1270259922576255e-05, 'systématiquement': 2.1270259922576255e-05, 'échouer': 2.1270259922576255e-05, 'nécessité': 0.0003190538988386438, 'interminables': 4.254051984515251e-05, 'séparés': 2.1270259922576255e-05, 'vaillamment': 2.1270259922576255e-05, 'tenté': 2.1270259922576255e-05, 'avancer': 0.00010635129961288127, 'cherché': 2.1270259922576255e-05, 'menacent': 2.1270259922576255e-05, 'triompher': 2.1270259922576255e-05, 'chaos': 4.254051984515251e-05, 'globaux': 2.1270259922576255e-05, 'détourner': 2.1270259922576255e-05, 'montrons': 2.1270259922576255e-05, 'majoritaire': 2.1270259922576255e-05, 'capables': 6.381077976772877e-05, 'accouche': 2.1270259922576255e-05, 'imposant': 2.1270259922576255e-05, 'aidons': 2.1270259922576255e-05, 'courage': 2.1270259922576255e-05, 'débarrasser': 2.1270259922576255e-05, 'incomparables': 2.1270259922576255e-05, 'favorise': 6.381077976772877e-05, 'démocratie': 0.0002339728591483388, 'saine': 2.1270259922576255e-05, 'révolutionnaire': 2.1270259922576255e-05, 'sensé': 2.1270259922576255e-05, 'progressif': 2.1270259922576255e-05, 'mature': 2.1270259922576255e-05, 'transparent': 8.508103969030502e-05, 'conservateur': 2.1270259922576255e-05, 'affectera': 2.1270259922576255e-05, 'stade': 8.508103969030502e-05, 'avancée': 6.381077976772877e-05, 'vers': 0.00012762155953545753, 'faiblesse': 2.1270259922576255e-05, 'envoyer': 2.1270259922576255e-05, 'nuirait': 2.1270259922576255e-05, 'réputation': 2.1270259922576255e-05, 'délégation': 2.1270259922576255e-05, 'accorde': 0.00012762155953545753, 'vivantes': 2.1270259922576255e-05, 'proposons': 4.254051984515251e-05, 'obligatoire': 8.508103969030502e-05, 'volontaire': 2.1270259922576255e-05, 'consistant': 2.1270259922576255e-05, 'pénaliser': 2.1270259922576255e-05, 'échanges': 0.00010635129961288127, 'critiques': 0.00012762155953545753, 'privilèges': 0.0002765133789934913, 'duff': 0.0005317564980644063, 'socialistes': 4.254051984515251e-05, 'populaires': 2.1270259922576255e-05, 'fais': 2.1270259922576255e-05, 'conservateurs': 2.1270259922576255e-05, 'exprimé': 4.254051984515251e-05, 'doutes': 2.1270259922576255e-05, 'aille': 2.1270259922576255e-05, 'transformé': 2.1270259922576255e-05, 'reflète': 2.1270259922576255e-05, 'créativité': 4.254051984515251e-05, 'réelle': 0.00010635129961288127, 'introduites': 2.1270259922576255e-05, 'entrées': 2.1270259922576255e-05, 'réfère': 6.381077976772877e-05, 'activement': 2.1270259922576255e-05, 'empêcher': 2.1270259922576255e-05, 'principales': 8.508103969030502e-05, 'approuvées': 2.1270259922576255e-05, 'verrons': 2.1270259922576255e-05, 'défie': 2.1270259922576255e-05, 'arrivera': 2.1270259922576255e-05, 'justement': 0.00010635129961288127, 'larges': 2.1270259922576255e-05, 'unes': 2.1270259922576255e-05, 'fortement': 2.1270259922576255e-05, 'comportement': 4.254051984515251e-05, 'quantitatif': 2.1270259922576255e-05, 'qualitatif': 2.1270259922576255e-05, 'quantité': 4.254051984515251e-05, 'réalité': 0.00014889181945803377, 'apprend': 4.254051984515251e-05, 'pénibles': 2.1270259922576255e-05, 'essentiellement': 6.381077976772877e-05, 'mauvaise': 2.1270259922576255e-05, 'réussir': 2.1270259922576255e-05, 'sceptiques': 6.381077976772877e-05, 'prévus': 6.381077976772877e-05, 'reflètent': 2.1270259922576255e-05, 'contradictoires': 2.1270259922576255e-05, 'contradictoire': 2.1270259922576255e-05, 'quoiqu': 4.254051984515251e-05, 'remercie': 0.00019143233930318628, 'écouté': 2.1270259922576255e-05, 'réalisé': 0.00012762155953545753, 'attarder': 2.1270259922576255e-05, 'immense': 4.254051984515251e-05, 'témoigné': 2.1270259922576255e-05, 'conjointement': 4.254051984515251e-05, 'adaptations': 2.1270259922576255e-05, 'requises': 4.254051984515251e-05, '50': 0.00010635129961288127, 'supprimés': 2.1270259922576255e-05, 'remplacés': 2.1270259922576255e-05, 'événements': 8.508103969030502e-05, 'brûlante': 2.1270259922576255e-05, 'exceptionnels': 2.1270259922576255e-05, 'plaidant': 2.1270259922576255e-05, 'voudrait': 6.381077976772877e-05, 'maintenue': 2.1270259922576255e-05, 'argument': 8.508103969030502e-05, 'innovation': 6.381077976772877e-05, 'réside': 6.381077976772877e-05, 'inacceptable': 2.1270259922576255e-05, 'abordé': 8.508103969030502e-05, 'touchent': 6.381077976772877e-05, 'violations': 6.381077976772877e-05, 'débouchent': 2.1270259922576255e-05, 'intéressés': 4.254051984515251e-05, 'représentent': 2.1270259922576255e-05, 'encouragement': 2.1270259922576255e-05, 'majeur': 2.1270259922576255e-05, 'lutte': 0.0003190538988386438, 'refuse': 2.1270259922576255e-05, 'perdions': 2.1270259922576255e-05, 'motions': 4.254051984515251e-05, 'obligatoires': 2.1270259922576255e-05, 'commun': 0.00014889181945803377, 'compréhensible': 4.254051984515251e-05, 'loupe': 2.1270259922576255e-05, 'égalité': 0.00029778363891606755, 'possibilités': 0.00021270259922576254, 'appuyant': 2.1270259922576255e-05, 'rejeter': 4.254051984515251e-05, '110': 2.1270259922576255e-05, 'déposer': 0.00017016207938061004, 'émaner': 4.254051984515251e-05, '32': 4.254051984515251e-05, 'considérons': 2.1270259922576255e-05, 'offerte': 2.1270259922576255e-05, 'fins': 2.1270259922576255e-05, 'expriment': 6.381077976772877e-05, 'gêner': 2.1270259922576255e-05, 'den': 2.1270259922576255e-05, 'berg': 2.1270259922576255e-05, 'valable': 4.254051984515251e-05, 'dépourvu': 2.1270259922576255e-05, 'formulations': 2.1270259922576255e-05, 'sexistes': 2.1270259922576255e-05, 'promesse': 2.1270259922576255e-05, 'tenue': 2.1270259922576255e-05, 'diverses': 8.508103969030502e-05, 'veillera': 2.1270259922576255e-05, 'compétents': 2.1270259922576255e-05, 'équitable': 8.508103969030502e-05, 'siège': 6.381077976772877e-05, 'électeurs': 2.1270259922576255e-05, 'élus': 0.00012762155953545753, 'exercer': 2.1270259922576255e-05, 'pied': 6.381077976772877e-05, 'dispositif': 2.1270259922576255e-05, 'destiné': 2.1270259922576255e-05, 'offrir': 2.1270259922576255e-05, 'collaborer': 6.381077976772877e-05, 'animés': 4.254051984515251e-05, 'sentiments': 2.1270259922576255e-05, 'siégeant': 8.508103969030502e-05, 'égaux': 4.254051984515251e-05, 'égal': 4.254051984515251e-05, 'constater': 4.254051984515251e-05, 'attendus': 2.1270259922576255e-05, 'arrêt': 0.00017016207938061004, 'dissoudre': 2.1270259922576255e-05, 'technique': 0.00017016207938061004, 'pouvait': 2.1270259922576255e-05, 'oblige': 2.1270259922576255e-05, 'réexaminer': 2.1270259922576255e-05, 'indirectement': 2.1270259922576255e-05, 'total': 8.508103969030502e-05, 'renferme': 4.254051984515251e-05, 'pourra': 0.00014889181945803377, 'constitué': 0.00010635129961288127, '16': 2.1270259922576255e-05, 'essayé': 4.254051984515251e-05, 'sagesse': 2.1270259922576255e-05, 'légalité': 2.1270259922576255e-05, 'restriction': 2.1270259922576255e-05, 'résulter': 2.1270259922576255e-05, 'régionalistes': 4.254051984515251e-05, 'constituer': 6.381077976772877e-05, 'issue': 6.381077976772877e-05, 'prochaines': 4.254051984515251e-05, 'élections': 4.254051984515251e-05, 'programme': 0.0002339728591483388, 'transnationale': 2.1270259922576255e-05, 'suffisamment': 0.00010635129961288127, 'former': 8.508103969030502e-05, 'unité': 2.1270259922576255e-05, 'indépendante': 2.1270259922576255e-05, 'souhaitent': 6.381077976772877e-05, 'avaient': 0.00014889181945803377, 'entité': 2.1270259922576255e-05, 'passaient': 2.1270259922576255e-05, 'seuil': 0.00010635129961288127, 'représentation': 6.381077976772877e-05, 'antidémocratique': 2.1270259922576255e-05, '5': 8.508103969030502e-05, 'suffisant': 4.254051984515251e-05, 'prenez': 2.1270259922576255e-05, 'radicaux': 8.508103969030502e-05, 'italiens': 0.00014889181945803377, 'radical': 2.1270259922576255e-05, 'enregistré': 6.381077976772877e-05, 'belge': 4.254051984515251e-05, 'priver': 2.1270259922576255e-05, '7': 8.508103969030502e-05, 'groupements': 4.254051984515251e-05, 'proportionnalité': 2.1270259922576255e-05, 'indépendant': 8.508103969030502e-05, 'biais': 6.381077976772877e-05, 'pratiques': 0.00014889181945803377, 'concrètes': 6.381077976772877e-05, 'garantissant': 4.254051984515251e-05, 'octroyé': 2.1270259922576255e-05, 'alternance': 2.1270259922576255e-05, 'infini': 2.1270259922576255e-05, 'faudrait': 2.1270259922576255e-05, 'budget': 0.00010635129961288127, 'proportionnelle': 2.1270259922576255e-05, 'valeur': 0.00012762155953545753, 'traite': 2.1270259922576255e-05, 'posséder': 2.1270259922576255e-05, 'accorderions': 2.1270259922576255e-05, 'administrer': 2.1270259922576255e-05, 'répartition': 8.508103969030502e-05, 'respective': 2.1270259922576255e-05, 'attribués': 6.381077976772877e-05, 'souhaiterions': 2.1270259922576255e-05, 'pleins': 2.1270259922576255e-05, 'apporte': 8.508103969030502e-05, 'améliorations': 0.00010635129961288127, 'obéit': 2.1270259922576255e-05, 'orientations': 4.254051984515251e-05, 'générales': 4.254051984515251e-05, 'partageons': 2.1270259922576255e-05, '29': 2.1270259922576255e-05, '33': 4.254051984515251e-05, '45': 6.381077976772877e-05, '48': 4.254051984515251e-05, '49': 2.1270259922576255e-05, '52': 4.254051984515251e-05, '53': 4.254051984515251e-05, '56': 6.381077976772877e-05, 'voit': 4.254051984515251e-05, 'tue': 2.1270259922576255e-05, 'éventuelles': 4.254051984515251e-05, 'rappelé': 2.1270259922576255e-05, 'communautés': 6.381077976772877e-05, 'pleine': 6.381077976772877e-05, 'souveraineté': 2.1270259922576255e-05, 'possède': 2.1270259922576255e-05, 'attribution': 0.0002765133789934913, 'orientation': 4.254051984515251e-05, 'erronée': 2.1270259922576255e-05, 'supposent': 2.1270259922576255e-05, 'hypothétique': 2.1270259922576255e-05, '8': 8.508103969030502e-05, '9': 0.00019143233930318628, '41': 4.254051984515251e-05, '58': 2.1270259922576255e-05, 'direz': 2.1270259922576255e-05, 'ultérieurement': 4.254051984515251e-05, 'juridiques': 6.381077976772877e-05, 'anticipation': 2.1270259922576255e-05, 'témoignerait': 2.1270259922576255e-05, 'désinvolture': 2.1270259922576255e-05, 'irlandais': 2.1270259922576255e-05, 'troisième': 2.1270259922576255e-05, 'négative': 2.1270259922576255e-05, 'révèle': 2.1270259922576255e-05, 'propension': 4.254051984515251e-05, 'réduire': 6.381077976772877e-05, 'silence': 2.1270259922576255e-05, 'joliment': 2.1270259922576255e-05, 'appelé': 2.1270259922576255e-05, 'allégement': 2.1270259922576255e-05, 'apparaît': 2.1270259922576255e-05, '63': 2.1270259922576255e-05, '68': 4.254051984515251e-05, '74': 2.1270259922576255e-05, '85': 2.1270259922576255e-05, '101': 2.1270259922576255e-05, 'minoritaires': 2.1270259922576255e-05, 'recueilli': 2.1270259922576255e-05, 'avenant': 2.1270259922576255e-05, 'préciser': 6.381077976772877e-05, 'rapporterai': 2.1270259922576255e-05, 'remercierai': 2.1270259922576255e-05, 'associerai': 2.1270259922576255e-05, 'positions': 8.508103969030502e-05, 'coordinateur': 0.00010635129961288127, 'wuermeling': 2.1270259922576255e-05, 'exprimées': 0.00014889181945803377, 'brièveté': 2.1270259922576255e-05, 'imparti': 2.1270259922576255e-05, 'continuera': 6.381077976772877e-05, 'chambre': 4.254051984515251e-05, 'articule': 2.1270259922576255e-05, 'purement': 4.254051984515251e-05, 'fonctionnels': 2.1270259922576255e-05, 'composés': 2.1270259922576255e-05, 'affinité': 4.254051984515251e-05, 'claire': 4.254051984515251e-05, 'compose': 2.1270259922576255e-05, 'embryons': 2.1270259922576255e-05, 'moteur': 4.254051984515251e-05, 'prend': 4.254051984515251e-05, 'connaître': 4.254051984515251e-05, 'choisir': 2.1270259922576255e-05, 'détriment': 6.381077976772877e-05, 'regrouper': 2.1270259922576255e-05, 'affinités': 2.1270259922576255e-05, 'spéciaux': 2.1270259922576255e-05, 'auxquels': 0.00010635129961288127, 'appartiennent': 6.381077976772877e-05, 'existants': 2.1270259922576255e-05, 'définie': 6.381077976772877e-05, 'objectifs': 0.0003190538988386438, 'entend': 8.508103969030502e-05, 'décident': 2.1270259922576255e-05, 'considère': 8.508103969030502e-05, 'renient': 2.1270259922576255e-05, 'participation': 0.00014889181945803377, 'inscrits': 6.381077976772877e-05, 'préparatoires': 4.254051984515251e-05, 'renforcés': 2.1270259922576255e-05, 'artificiel': 2.1270259922576255e-05, 'exclusion': 0.0009358914365933552, 'injuste': 2.1270259922576255e-05, 'assumer': 4.254051984515251e-05, 'incombe': 4.254051984515251e-05, 'frassoni': 8.508103969030502e-05, 'médicament': 2.1270259922576255e-05, 'partage': 0.00017016207938061004, 'affecte': 4.254051984515251e-05, 'généralement': 4.254051984515251e-05, 'pronostiquer': 2.1270259922576255e-05, 'ennuyeuses': 2.1270259922576255e-05, 'succèdent': 4.254051984515251e-05, 'lisent': 2.1270259922576255e-05, 'vivants': 4.254051984515251e-05, 'dommage': 6.381077976772877e-05, 'animées': 2.1270259922576255e-05, 'spontanées': 2.1270259922576255e-05, 'tente': 4.254051984515251e-05, 'bases': 2.1270259922576255e-05, 'animée': 2.1270259922576255e-05, 'redire': 2.1270259922576255e-05, 'sûre': 2.1270259922576255e-05, 'essayons': 4.254051984515251e-05, 'passera': 2.1270259922576255e-05, 'routinière': 2.1270259922576255e-05, 'vivante': 6.381077976772877e-05, 'mots': 4.254051984515251e-05, 'déposés': 4.254051984515251e-05, 'amsterdam': 2.1270259922576255e-05, 'appliquée': 4.254051984515251e-05, 'définir': 6.381077976772877e-05, 'rôle': 0.00021270259922576254, 'accroître': 4.254051984515251e-05, 'profondément': 2.1270259922576255e-05, 'institutionnelles': 2.1270259922576255e-05, 'sensible': 4.254051984515251e-05, 'notion': 6.381077976772877e-05, 'concept': 2.1270259922576255e-05, 'conscience': 4.254051984515251e-05, 'parlements': 0.00010635129961288127, 'ouverts': 6.381077976772877e-05, 'existent': 8.508103969030502e-05, 'hémicycle': 0.00010635129961288127, 'fréquent': 2.1270259922576255e-05, 'assiduité': 2.1270259922576255e-05, 'suivis': 4.254051984515251e-05, 'milliers': 4.254051984515251e-05, 'pénètrent': 2.1270259922576255e-05, 'locaux': 4.254051984515251e-05, 'fonctionne': 6.381077976772877e-05, 'jeunes': 0.00012762155953545753, 'avance': 4.254051984515251e-05, 'écouteurs': 2.1270259922576255e-05, 'fascinés': 2.1270259922576255e-05, 'constatant': 2.1270259922576255e-05, 'langues': 0.00014889181945803377, 'attitude': 4.254051984515251e-05, 'élèves': 2.1270259922576255e-05, 'écoles': 4.254051984515251e-05, 'visite': 4.254051984515251e-05, 'fiers': 4.254051984515251e-05, 'toutefois': 0.00021270259922576254, 'perdu': 4.254051984515251e-05, 'fascination': 2.1270259922576255e-05, 'susciter': 2.1270259922576255e-05, 'facile': 6.381077976772877e-05, 'travaillons': 4.254051984515251e-05, 'vif': 2.1270259922576255e-05, 'répliques': 2.1270259922576255e-05, 'thèses': 2.1270259922576255e-05, 'opposées': 2.1270259922576255e-05, 'assiste': 8.508103969030502e-05, 'longs': 2.1270259922576255e-05, 'monologues': 2.1270259922576255e-05, 'lit': 2.1270259922576255e-05, 'presque': 6.381077976772877e-05, 'vide': 4.254051984515251e-05, 'intéressantes': 2.1270259922576255e-05, 'tient': 4.254051984515251e-05, 'réformer': 2.1270259922576255e-05, 'contribue': 4.254051984515251e-05, 'déposions': 2.1270259922576255e-05, 'progrès': 8.508103969030502e-05, 'libéraux': 2.1270259922576255e-05, 'soutiennent': 2.1270259922576255e-05, 'resserrer': 2.1270259922576255e-05, 'cibler': 2.1270259922576255e-05, 'tirer': 4.254051984515251e-05, 'alerte': 2.1270259922576255e-05, 'déploiement': 2.1270259922576255e-05, 'appliquer': 6.381077976772877e-05, 'tri': 2.1270259922576255e-05, 'sélectif': 2.1270259922576255e-05, 'arrivent': 2.1270259922576255e-05, 'table': 8.508103969030502e-05, 'créer': 0.00012762155953545753, 'ultérieur': 2.1270259922576255e-05, 'satisfaits': 4.254051984515251e-05, 'urgentes': 4.254051984515251e-05, 'indiqué': 4.254051984515251e-05, 'kaufmann': 4.254051984515251e-05, 'réalisons': 2.1270259922576255e-05, 'propage': 2.1270259922576255e-05, 'murs': 2.1270259922576255e-05, 'lendemain': 2.1270259922576255e-05, 'entière': 8.508103969030502e-05, 'probablement': 6.381077976772877e-05, 'hétérogènes': 2.1270259922576255e-05, 'dépendent': 2.1270259922576255e-05, 'desquelles': 2.1270259922576255e-05, 'actuel': 0.00010635129961288127, 'instaurer': 4.254051984515251e-05, 'curieuse': 2.1270259922576255e-05, 'déplacements': 2.1270259922576255e-05, 'solution': 0.00014889181945803377, 'nouvel': 6.381077976772877e-05, 'éloge': 2.1270259922576255e-05, 'dévouement': 6.381077976772877e-05, 'persévérance': 2.1270259922576255e-05, 'uvré': 2.1270259922576255e-05, 'modernisation': 4.254051984515251e-05, 'reprocherez': 2.1270259922576255e-05, 'signe': 2.1270259922576255e-05, 'distinctif': 2.1270259922576255e-05, 'déroule': 4.254051984515251e-05, 'âme': 2.1270259922576255e-05, 'horizons': 2.1270259922576255e-05, 'issues': 2.1270259922576255e-05, 'vident': 2.1270259922576255e-05, 'éventuels': 2.1270259922576255e-05, 'différends': 2.1270259922576255e-05, 'couper': 4.254051984515251e-05, 'herbe': 2.1270259922576255e-05, 'poids': 4.254051984515251e-05, 'éliminer': 4.254051984515251e-05, 'parlées': 4.254051984515251e-05, 'lien': 4.254051984515251e-05, 'aidera': 2.1270259922576255e-05, 'penser': 2.1270259922576255e-05, 'contraire': 6.381077976772877e-05, 'produira': 4.254051984515251e-05, 'pressens': 2.1270259922576255e-05, 'montée': 4.254051984515251e-05, 'imposants': 2.1270259922576255e-05, 'traversés': 2.1270259922576255e-05, 'fractures': 2.1270259922576255e-05, 'profondes': 2.1270259922576255e-05, 'regrette': 8.508103969030502e-05, 'atteinte': 4.254051984515251e-05, 'liberté': 0.00010635129961288127, 'moderniser': 2.1270259922576255e-05, 'évitant': 4.254051984515251e-05, 'recevabilité': 2.1270259922576255e-05, 'dépende': 2.1270259922576255e-05, 'tendances': 2.1270259922576255e-05, 'salvateurs': 2.1270259922576255e-05, 'pensée': 2.1270259922576255e-05, 'pire': 6.381077976772877e-05, 'aillent': 2.1270259922576255e-05, 'stipulait': 2.1270259922576255e-05, 'formation': 6.381077976772877e-05, 'impasse': 4.254051984515251e-05, 'fameuse': 2.1270259922576255e-05, 'rends': 2.1270259922576255e-05, 'candidats': 0.00012762155953545753, 'difficultés': 0.00017016207938061004, 'frayer': 2.1270259922576255e-05, 'linguistique': 0.00010635129961288127, 'parle': 0.00012762155953545753, 'tribune': 4.254051984515251e-05, 'positifs': 2.1270259922576255e-05, 'aboutit': 2.1270259922576255e-05, 'limiter': 0.00010635129961288127, 'assertions': 2.1270259922576255e-05, 'substance': 6.381077976772877e-05, 'tentative': 4.254051984515251e-05, 'museler': 2.1270259922576255e-05, 'opposent': 2.1270259922576255e-05, 'milieux': 2.1270259922576255e-05, 'dominants': 2.1270259922576255e-05, 'cherche': 2.1270259922576255e-05, 'modèle': 2.1270259922576255e-05, 'bipolaire': 2.1270259922576255e-05, 'marginaliser': 2.1270259922576255e-05, 'gênantes': 2.1270259922576255e-05, 'abolir': 2.1270259922576255e-05, 'défavorables': 2.1270259922576255e-05, 'étendre': 4.254051984515251e-05, 'retirer': 0.00012762155953545753, 'reçoivent': 4.254051984515251e-05, 'appui': 4.254051984515251e-05, 'inspiré': 2.1270259922576255e-05, 'juristes': 2.1270259922576255e-05, 'examiné': 4.254051984515251e-05, 'détail': 6.381077976772877e-05, 'lu': 2.1270259922576255e-05, 'animaux': 2.1270259922576255e-05, 'orwell': 4.254051984515251e-05, 'théâtre': 4.254051984515251e-05, 'ionesco': 2.1270259922576255e-05, 'absurde': 2.1270259922576255e-05, 'lisible': 2.1270259922576255e-05, 'veut': 4.254051984515251e-05, 'instruments': 4.254051984515251e-05, 'efficaces': 6.381077976772877e-05, 'introduit': 8.508103969030502e-05, 'casuistique': 2.1270259922576255e-05, 'digne': 2.1270259922576255e-05, 'sainte': 2.1270259922576255e-05, 'rote': 2.1270259922576255e-05, 'jésuite': 2.1270259922576255e-05, 'jésuites': 2.1270259922576255e-05, 'finir': 6.381077976772877e-05, 'prévues': 4.254051984515251e-05, 'risquent': 2.1270259922576255e-05, 'bouleversées': 2.1270259922576255e-05, 'réunion': 6.381077976772877e-05, 'disaient': 2.1270259922576255e-05, 'paraphrasant': 2.1270259922576255e-05, 'façons': 2.1270259922576255e-05, 'comptent': 4.254051984515251e-05, 'espèce': 2.1270259922576255e-05, 'permanent': 4.254051984515251e-05, 'rejetée': 2.1270259922576255e-05, 'attendons': 4.254051984515251e-05, 'réserve': 4.254051984515251e-05, 'bonino': 2.1270259922576255e-05, 'furent': 2.1270259922576255e-05, 'symboliquement': 2.1270259922576255e-05, 'remercions': 2.1270259922576255e-05, 'symboliques': 2.1270259922576255e-05, 'indépendants': 2.1270259922576255e-05, 'sort': 2.1270259922576255e-05, 'instance': 4.254051984515251e-05, 'dissout': 2.1270259922576255e-05, 'tdi': 2.1270259922576255e-05, 'estimons': 0.00014889181945803377, 'timide': 2.1270259922576255e-05, 'naturellement': 6.381077976772877e-05, 'instituer': 2.1270259922576255e-05, 'approuvera': 4.254051984515251e-05, 'exister': 2.1270259922576255e-05, 'équilibres': 2.1270259922576255e-05, 'nationaux': 0.00040413493852894884, 'inaperçu': 2.1270259922576255e-05, 'consacrés': 2.1270259922576255e-05, 'assurément': 6.381077976772877e-05, 'résulte': 4.254051984515251e-05, 'réorganiser': 2.1270259922576255e-05, 'rythmes': 2.1270259922576255e-05, 'nécessités': 2.1270259922576255e-05, 'différenciés': 2.1270259922576255e-05, 'confirme': 6.381077976772877e-05, 'intervenir': 0.00014889181945803377, 'dons': 2.1270259922576255e-05, 'éventail': 2.1270259922576255e-05, 'allant': 4.254051984515251e-05, 'voilées': 2.1270259922576255e-05, 'ouvertes': 4.254051984515251e-05, 'famille': 2.1270259922576255e-05, 'rencontre': 2.1270259922576255e-05, 'source': 6.381077976772877e-05, 'primaire': 2.1270259922576255e-05, 'secondaire': 4.254051984515251e-05, 'vivons': 4.254051984515251e-05, 'transformation': 2.1270259922576255e-05, 'architecture': 2.1270259922576255e-05, 'institutionnelle': 4.254051984515251e-05, 'disposons': 2.1270259922576255e-05, 'vérifier': 2.1270259922576255e-05, 'prenons': 2.1270259922576255e-05, 'modifiées': 2.1270259922576255e-05, 'sûrement': 2.1270259922576255e-05, 'réglementaire': 2.1270259922576255e-05, 'confiance': 0.00017016207938061004, 'expérimenter': 4.254051984515251e-05, 'voies': 2.1270259922576255e-05, 'commissaire': 0.0003615944186837963, 'tour': 6.381077976772877e-05, 'saluer': 4.254051984515251e-05, 'allier': 2.1270259922576255e-05, 'anticiper': 2.1270259922576255e-05, 'reproche': 2.1270259922576255e-05, 'réaliste': 2.1270259922576255e-05, 'fiori': 2.1270259922576255e-05, 'devra': 0.00017016207938061004, 'révisé': 4.254051984515251e-05, 'égards': 2.1270259922576255e-05, 'citerai': 6.381077976772877e-05, 'subsidiarité': 6.381077976772877e-05, 'comitologie': 2.1270259922576255e-05, 'manifestement': 6.381077976772877e-05, 'résultats': 0.00017016207938061004, 'intégrés': 4.254051984515251e-05, 'désigner': 4.254051984515251e-05, 'adaptabilité': 2.1270259922576255e-05, 'associer': 2.1270259922576255e-05, 'grandes': 0.00017016207938061004, 'économiques': 0.00019143233930318628, 'approuvons': 2.1270259922576255e-05, 'travers': 0.00021270259922576254, 'sylvia': 2.1270259922576255e-05, 'neutralité': 4.254051984515251e-05, 'intervenue': 2.1270259922576255e-05, 'répéter': 2.1270259922576255e-05, 'dorénavant': 2.1270259922576255e-05, 'feuilletant': 2.1270259922576255e-05, 'constate': 6.381077976772877e-05, 'vigilance': 2.1270259922576255e-05, 'mutuelle': 2.1270259922576255e-05, 'scories': 2.1270259922576255e-05, '51': 2.1270259922576255e-05, '104': 2.1270259922576255e-05, 'bis': 4.254051984515251e-05, 'recherché': 4.254051984515251e-05, 'rompre': 2.1270259922576255e-05, 'basque': 2.1270259922576255e-05, 'maintes': 8.508103969030502e-05, 'reprises': 8.508103969030502e-05, 'samedi': 2.1270259922576255e-05, 'défilé': 2.1270259922576255e-05, 'calmement': 2.1270259922576255e-05, 'rues': 2.1270259922576255e-05, 'bilbao': 2.1270259922576255e-05, 'dénoncer': 2.1270259922576255e-05, 'torture': 2.1270259922576255e-05, 'quartiers': 2.1270259922576255e-05, 'généraux': 2.1270259922576255e-05, 'vaincue': 2.1270259922576255e-05, 'peux': 6.381077976772877e-05, 'inscrire': 2.1270259922576255e-05, 'urgente': 2.1270259922576255e-05, 'gil': 4.254051984515251e-05, 'robles': 2.1270259922576255e-05, 'delgado': 2.1270259922576255e-05, 'judicieux': 4.254051984515251e-05, 'jeté': 2.1270259922576255e-05, 'bébé': 2.1270259922576255e-05, 'bain': 2.1270259922576255e-05, 'critique': 4.254051984515251e-05, 'occupé': 2.1270259922576255e-05, 'fiable': 2.1270259922576255e-05, 'aperçu': 2.1270259922576255e-05, 'participé': 2.1270259922576255e-05, 'exemples': 4.254051984515251e-05, 'concrets': 2.1270259922576255e-05, 'fier': 2.1270259922576255e-05, 'obtenu': 4.254051984515251e-05, 'libération': 2.1270259922576255e-05, 'victimes': 4.254051984515251e-05, 'emprisonnement': 2.1270259922576255e-05, 'injustifié': 2.1270259922576255e-05, 'contribué': 6.381077976772877e-05, 'espace': 0.00012762155953545753, 'pourrais': 2.1270259922576255e-05, 'témoins': 4.254051984515251e-05, 'confirmer': 6.381077976772877e-05, 'dires': 2.1270259922576255e-05, 'opposé': 4.254051984515251e-05, 'axer': 2.1270259922576255e-05, 'mensuelle': 2.1270259922576255e-05, 'composée': 2.1270259922576255e-05, '15': 4.254051984515251e-05, 'efforcer': 4.254051984515251e-05, 'préservée': 2.1270259922576255e-05, 'preuves': 4.254051984515251e-05, 'instants': 2.1270259922576255e-05, 'marquants': 2.1270259922576255e-05, 'hauts': 2.1270259922576255e-05, 'petit': 8.508103969030502e-05, 'bureaucratiser': 2.1270259922576255e-05, 'centraliser': 2.1270259922576255e-05, 'solidarité': 0.00010635129961288127, 'petite': 4.254051984515251e-05, 'protestent': 2.1270259922576255e-05, 'rédigée': 2.1270259922576255e-05, 'compterons': 2.1270259922576255e-05, 'douze': 4.254051984515251e-05, 'proteste': 2.1270259922576255e-05, 'posselt': 4.254051984515251e-05, 'retard': 4.254051984515251e-05, 'horaire': 0.00010635129961288127, 'prévu': 4.254051984515251e-05, 'masochistes': 6.381077976772877e-05, 'rangs': 2.1270259922576255e-05, 'réservés': 2.1270259922576255e-05, 'présents': 2.1270259922576255e-05, '20': 8.508103969030502e-05, 'passe': 2.1270259922576255e-05, 'appliqués': 2.1270259922576255e-05, 'résument': 2.1270259922576255e-05, 'plaît': 2.1270259922576255e-05, 'voulez': 4.254051984515251e-05, 'avançons': 2.1270259922576255e-05, 'armées': 2.1270259922576255e-05, 'industrielles': 2.1270259922576255e-05, 'leaders': 2.1270259922576255e-05, 'ouvriers': 4.254051984515251e-05, 'militants': 2.1270259922576255e-05, 'réseaux': 2.1270259922576255e-05, 'individu': 2.1270259922576255e-05, 'connaît': 2.1270259922576255e-05, 'connaissez': 2.1270259922576255e-05, 'ose': 2.1270259922576255e-05, 'oser': 2.1270259922576255e-05, 'sentons': 2.1270259922576255e-05, 'lancer': 6.381077976772877e-05, 'peur': 2.1270259922576255e-05, 'regard': 2.1270259922576255e-05, 'école': 2.1270259922576255e-05, 'signifierait': 2.1270259922576255e-05, 'hors': 2.1270259922576255e-05, 'jeu': 8.508103969030502e-05, 'match': 2.1270259922576255e-05, 'abstrait': 2.1270259922576255e-05, 'portes': 2.1270259922576255e-05, 'closes': 2.1270259922576255e-05, 'implications': 0.00010635129961288127, 'étendue': 4.254051984515251e-05, 'interroger': 2.1270259922576255e-05, 'jouit': 4.254051984515251e-05, 'poursuivons': 2.1270259922576255e-05, 'finit': 2.1270259922576255e-05, 'shakespeare': 2.1270259922576255e-05, '1601': 2.1270259922576255e-05, 'tourneront': 2.1270259922576255e-05, 'regards': 4.254051984515251e-05, '1610': 2.1270259922576255e-05, 'subsistera': 2.1270259922576255e-05, 'tempête': 2.1270259922576255e-05, 'mesdames': 0.00017016207938061004, 'messieurs': 0.00017016207938061004, 'limiterai': 2.1270259922576255e-05, 'prédécesseurs': 2.1270259922576255e-05, 'incarnent': 2.1270259922576255e-05, 'échange': 6.381077976772877e-05, 'vues': 8.508103969030502e-05, 'concours': 2.1270259922576255e-05, 'information': 6.381077976772877e-05, 'structurer': 2.1270259922576255e-05, 'incombent': 2.1270259922576255e-05, 'contenter': 2.1270259922576255e-05, 'réglementer': 2.1270259922576255e-05, 'entretenir': 2.1270259922576255e-05, 'permettent': 0.00010635129961288127, 'appuie': 4.254051984515251e-05, 'parlementarisme': 2.1270259922576255e-05, 'soucier': 2.1270259922576255e-05, 'interaction': 4.254051984515251e-05, 'statut': 0.00017016207938061004, 'incompatibilité': 2.1270259922576255e-05, 'ayons': 6.381077976772877e-05, 'communes': 8.508103969030502e-05, 'comportements': 4.254051984515251e-05, 'favorablement': 2.1270259922576255e-05, 'législative': 8.508103969030502e-05, 'dépens': 2.1270259922576255e-05, 'discours': 6.381077976772877e-05, 'entièrement': 2.1270259922576255e-05, 'randzio': 2.1270259922576255e-05, 'plath': 2.1270259922576255e-05, 'veiller': 0.00010635129961288127, 'réducteur': 2.1270259922576255e-05, 'empêcherions': 2.1270259922576255e-05, 'mènerions': 2.1270259922576255e-05, 'fictif': 8.508103969030502e-05, 'assainir': 2.1270259922576255e-05, 'sain': 2.1270259922576255e-05, 'utiles': 4.254051984515251e-05, 'maison': 4.254051984515251e-05, 'arrivée': 2.1270259922576255e-05, 'préconisé': 2.1270259922576255e-05, 'secouer': 2.1270259922576255e-05, 'habitudes': 4.254051984515251e-05, 'nier': 2.1270259922576255e-05, 'sclérosées': 2.1270259922576255e-05, 'décennies': 2.1270259922576255e-05, 'montrer': 2.1270259922576255e-05, 'fonctionnent': 2.1270259922576255e-05, 'auxquelles': 2.1270259922576255e-05, 'admis': 4.254051984515251e-05, 'expériences': 4.254051984515251e-05, 'ressortir': 2.1270259922576255e-05, 'lacunes': 2.1270259922576255e-05, 'empêchera': 4.254051984515251e-05, 'beau': 4.254051984515251e-05, 'invoquer': 4.254051984515251e-05, 'considérations': 4.254051984515251e-05, 'comprend': 4.254051984515251e-05, 'culture': 0.00017016207938061004, 'appris': 2.1270259922576255e-05, 'national': 0.00019143233930318628, 'malaisé': 2.1270259922576255e-05, 'dégager': 2.1270259922576255e-05, 'conception': 2.1270259922576255e-05, 'réussit': 4.254051984515251e-05, 'subtil': 2.1270259922576255e-05, 'examinera': 2.1270259922576255e-05, 'traduira': 2.1270259922576255e-05, 'politisation': 2.1270259922576255e-05, 'rendra': 2.1270259922576255e-05, 'intéressants': 2.1270259922576255e-05, 'assisterons': 2.1270259922576255e-05, 'argumentation': 6.381077976772877e-05, 'prendront': 2.1270259922576255e-05, 'signification': 2.1270259922576255e-05, 'accessibles': 2.1270259922576255e-05, 'donnerons': 2.1270259922576255e-05, 'mire': 2.1270259922576255e-05, 'télévision': 2.1270259922576255e-05, 'bref': 2.1270259922576255e-05, 'carte': 2.1270259922576255e-05, 'bénéficiant': 2.1270259922576255e-05, 'légitimation': 2.1270259922576255e-05, 'observer': 4.254051984515251e-05, 'maximales': 2.1270259922576255e-05, 'évaluer': 4.254051984515251e-05, 'instauration': 2.1270259922576255e-05, 'acceptation': 2.1270259922576255e-05, 'population': 0.00010635129961288127, 'revêt': 6.381077976772877e-05, 'décisive': 2.1270259922576255e-05, '197': 2.1270259922576255e-05, '44': 4.254051984515251e-05, 'traduit': 6.381077976772877e-05, 'administratif': 2.1270259922576255e-05, 'tentatives': 4.254051984515251e-05, 'limite': 2.1270259922576255e-05, 'ledit': 2.1270259922576255e-05, 'vite': 2.1270259922576255e-05, 'profite': 2.1270259922576255e-05, 'accomplir': 4.254051984515251e-05, 'prévoit': 6.381077976772877e-05, 'ajout': 2.1270259922576255e-05, 'écrites': 2.1270259922576255e-05, 'exclusive': 4.254051984515251e-05, 'auteur': 2.1270259922576255e-05, 'autrement': 6.381077976772877e-05, 'préliminaire': 2.1270259922576255e-05, 'exclu': 2.1270259922576255e-05, 'contesté': 2.1270259922576255e-05, 'reconnaissant': 2.1270259922576255e-05, 'contributions': 4.254051984515251e-05, 'compliments': 2.1270259922576255e-05, 'concentrerai': 2.1270259922576255e-05, 'attendues': 4.254051984515251e-05, 'surprenantes': 2.1270259922576255e-05, 'surpris': 4.254051984515251e-05, 'véhémence': 2.1270259922576255e-05, 'prononcé': 4.254051984515251e-05, 'commencé': 2.1270259922576255e-05, 'accusé': 2.1270259922576255e-05, 'écouter': 2.1270259922576255e-05, 'désire': 2.1270259922576255e-05, 'réfuter': 4.254051984515251e-05, 'semblait': 2.1270259922576255e-05, 'valoir': 2.1270259922576255e-05, 'progressé': 2.1270259922576255e-05, 'félicite': 8.508103969030502e-05, 'constructive': 4.254051984515251e-05, 'issu': 2.1270259922576255e-05, 'présentés': 6.381077976772877e-05, 'signés': 2.1270259922576255e-05, 'mien': 2.1270259922576255e-05, 'arguments': 2.1270259922576255e-05, 'étouffer': 2.1270259922576255e-05, 'élargir': 4.254051984515251e-05, 'essentielles': 6.381077976772877e-05, 'importantes': 8.508103969030502e-05, 'sujettes': 2.1270259922576255e-05, 'simplifiées': 2.1270259922576255e-05, 'définissons': 2.1270259922576255e-05, '%,': 2.1270259922576255e-05, 'considérer': 4.254051984515251e-05, 'prime': 2.1270259922576255e-05, 'sujette': 4.254051984515251e-05, 'habituelles': 2.1270259922576255e-05, 'trente': 2.1270259922576255e-05, 'marge': 4.254051984515251e-05, 'ténue': 2.1270259922576255e-05, 'inversons': 2.1270259922576255e-05, 'supposons': 2.1270259922576255e-05, 'controversée': 2.1270259922576255e-05, 'gagnerons': 2.1270259922576255e-05, 'servira': 2.1270259922576255e-05, 'réfute': 4.254051984515251e-05, 'régime': 8.508103969030502e-05, 'courre': 2.1270259922576255e-05, 'danger': 4.254051984515251e-05, 'quelconque': 4.254051984515251e-05, 'trappe': 6.381077976772877e-05, 'donnera': 4.254051984515251e-05, 'effectué': 4.254051984515251e-05, 'produire': 4.254051984515251e-05, 'interviendrait': 2.1270259922576255e-05, 'stipulé': 2.1270259922576255e-05, 'fort': 4.254051984515251e-05, 'réserves': 4.254051984515251e-05, 'procédé': 2.1270259922576255e-05, 'décide': 2.1270259922576255e-05, 'guère': 2.1270259922576255e-05, 'inviterais': 2.1270259922576255e-05, 'méfiants': 2.1270259922576255e-05, 'mal': 6.381077976772877e-05, 'délibérément': 4.254051984515251e-05, 'occuper': 4.254051984515251e-05, 'passait': 2.1270259922576255e-05, 'nécessite': 4.254051984515251e-05, 'détaillé': 2.1270259922576255e-05, 'élection': 4.254051984515251e-05, 'rothley': 4.254051984515251e-05, 'traditions': 2.1270259922576255e-05, 'nationales': 4.254051984515251e-05, 'divergent': 2.1270259922576255e-05, 'divergences': 6.381077976772877e-05, 'convaincu': 4.254051984515251e-05, 'divergeaient': 2.1270259922576255e-05, 'estimaient': 4.254051984515251e-05, 'budgétaires': 6.381077976772877e-05, 'agissait': 4.254051984515251e-05, 'contrainte': 2.1270259922576255e-05, 'garder': 8.508103969030502e-05, 'financières': 2.1270259922576255e-05, 'exposé': 8.508103969030502e-05, 'motifs': 8.508103969030502e-05, 'contenir': 2.1270259922576255e-05, 'compatible': 4.254051984515251e-05, 'satisfera': 2.1270259922576255e-05, 'acceptable': 2.1270259922576255e-05, 'aborde': 4.254051984515251e-05, 'aviez': 2.1270259922576255e-05, 'concernées': 4.254051984515251e-05, 'palacio': 8.508103969030502e-05, 'vallelersundi': 2.1270259922576255e-05, 'interviens': 2.1270259922576255e-05, 'brièvement': 2.1270259922576255e-05, 'indiquer': 2.1270259922576255e-05, 'constatera': 2.1270259922576255e-05, 'mentionnés': 2.1270259922576255e-05, 'désaccord': 6.381077976772877e-05, 'persiste': 2.1270259922576255e-05, 'fournies': 2.1270259922576255e-05, 'réglementaires': 2.1270259922576255e-05, 'interroge': 2.1270259922576255e-05, 'proche': 8.508103969030502e-05, 'ordonné': 2.1270259922576255e-05, 'améliorent': 4.254051984515251e-05, 'sensiblement': 6.381077976772877e-05, 'existant': 4.254051984515251e-05, 'permette': 4.254051984515251e-05, 'concentrons': 2.1270259922576255e-05, 'signaler': 6.381077976772877e-05, 'prodi': 2.1270259922576255e-05, 'organes': 2.1270259922576255e-05, 'entretient': 2.1270259922576255e-05, 'stratégique': 6.381077976772877e-05, 'traitée': 4.254051984515251e-05, 'directement': 4.254051984515251e-05, 'commissaires': 2.1270259922576255e-05, 'évolué': 2.1270259922576255e-05, 'répond': 4.254051984515251e-05, 'mille': 2.1270259922576255e-05, 'parvenus': 4.254051984515251e-05, 'internationales': 2.1270259922576255e-05, 'marquées': 2.1270259922576255e-05, 'totale': 2.1270259922576255e-05, 'efforçons': 2.1270259922576255e-05, 'informer': 2.1270259922576255e-05, 'systématique': 2.1270259922576255e-05, 'normal': 2.1270259922576255e-05, 'tension': 2.1270259922576255e-05, 'moments': 2.1270259922576255e-05, 'parviendrons': 2.1270259922576255e-05, 'clos': 8.508103969030502e-05, '12h30': 2.1270259922576255e-05, '0195': 2.1270259922576255e-05, '0213': 2.1270259922576255e-05, 'italie': 0.00012762155953545753, 'italiennes': 6.381077976772877e-05, 'soulagé': 2.1270259922576255e-05, 'immunités': 0.00012762155953545753, 'missions': 2.1270259922576255e-05, 'confiée': 4.254051984515251e-05, 'consistait': 2.1270259922576255e-05, 'éprouvaient': 2.1270259922576255e-05, 'poursuites': 6.381077976772877e-05, 'judiciaires': 8.508103969030502e-05, 'violant': 2.1270259922576255e-05, 'entamées': 2.1270259922576255e-05, 'détaillées': 2.1270259922576255e-05, 'démarches': 4.254051984515251e-05, 'lever': 6.381077976772877e-05, 'réception': 2.1270259922576255e-05, 'reçue': 2.1270259922576255e-05, 'provoquant': 2.1270259922576255e-05, 'avérait': 2.1270259922576255e-05, 'privilégié': 2.1270259922576255e-05, 'bénéficie': 4.254051984515251e-05, 'protéger': 0.00010635129961288127, 'librement': 2.1270259922576255e-05, 'éventualité': 2.1270259922576255e-05, 'prouver': 2.1270259922576255e-05, 'législateurs': 2.1270259922576255e-05, 'actifs': 2.1270259922576255e-05, 'scène': 2.1270259922576255e-05, 'conduite': 2.1270259922576255e-05, 'laisserait': 2.1270259922576255e-05, 'désirer': 2.1270259922576255e-05, 'protocole': 0.00014889181945803377, '1965': 4.254051984515251e-05, 'détention': 2.1270259922576255e-05, 'liées': 4.254051984515251e-05, 'opinions': 0.00014889181945803377, 'exercice': 0.00017016207938061004, 'formes': 4.254051984515251e-05, 'reconnues': 2.1270259922576255e-05, 'exemption': 2.1270259922576255e-05, 'poursuite': 2.1270259922576255e-05, 'longuement': 2.1270259922576255e-05, 'étudié': 2.1270259922576255e-05, 'concernait': 4.254051984515251e-05, 'engagées': 4.254051984515251e-05, 'exprimaient': 2.1270259922576255e-05, 'violaient': 2.1270259922576255e-05, 'visée': 2.1270259922576255e-05, 'pareil': 2.1270259922576255e-05, 'inhérent': 2.1270259922576255e-05, 'permettant': 6.381077976772877e-05, 'violées': 2.1270259922576255e-05, 'adoptant': 2.1270259922576255e-05, 'exception': 2.1270259922576255e-05, 'examinant': 2.1270259922576255e-05, 'lucidité': 2.1270259922576255e-05, 'sincérité': 2.1270259922576255e-05, 'impression': 2.1270259922576255e-05, 'speroni': 4.254051984515251e-05, 'posées': 6.381077976772877e-05, 'demandait': 2.1270259922576255e-05, 'exprimée': 4.254051984515251e-05, 'fonctions': 8.508103969030502e-05, 'marra': 2.1270259922576255e-05, 'publiés': 2.1270259922576255e-05, 'provoqué': 2.1270259922576255e-05, 'actions': 0.00019143233930318628, 'allégations': 2.1270259922576255e-05, 'paraît': 2.1270259922576255e-05, 'estimait': 2.1270259922576255e-05, 'divergeait': 2.1270259922576255e-05, 'litigieuses': 2.1270259922576255e-05, 'indépendamment': 4.254051984515251e-05, 'véracité': 2.1270259922576255e-05, 'légal': 2.1270259922576255e-05, 'faites': 6.381077976772877e-05, 'devienne': 2.1270259922576255e-05, 'imaginer': 4.254051984515251e-05, 'interprétation': 0.00014889181945803377, 'candidat': 2.1270259922576255e-05, 'titulaire': 2.1270259922576255e-05, 'vaut': 2.1270259922576255e-05, 'recommande': 2.1270259922576255e-05, 'agissions': 2.1270259922576255e-05, 'suggérée': 2.1270259922576255e-05, 'soumettions': 2.1270259922576255e-05, 'rayer': 2.1270259922576255e-05, 'adéquate': 2.1270259922576255e-05, 'émettre': 2.1270259922576255e-05, 'jugement': 2.1270259922576255e-05, 'république': 2.1270259922576255e-05, 'italienne': 4.254051984515251e-05, 'entouré': 2.1270259922576255e-05, 'juges': 4.254051984515251e-05, 'contestée': 2.1270259922576255e-05, 'dilemme': 2.1270259922576255e-05, 'exacerbé': 2.1270259922576255e-05, 'faiblesses': 2.1270259922576255e-05, 'acceptées': 4.254051984515251e-05, 'délibération': 2.1270259922576255e-05, 'comportent': 4.254051984515251e-05, 'incluons': 2.1270259922576255e-05, 'courte': 2.1270259922576255e-05, 'précise': 6.381077976772877e-05, 'moderne': 4.254051984515251e-05, 'enclins': 2.1270259922576255e-05, 'vivre': 2.1270259922576255e-05, 'crime': 2.1270259922576255e-05, 'pluraliste': 2.1270259922576255e-05, 'admettons': 2.1270259922576255e-05, 'permettons': 2.1270259922576255e-05, 'motivé': 2.1270259922576255e-05, 'dresser': 2.1270259922576255e-05, 'indicatif': 2.1270259922576255e-05, 'devoirs': 4.254051984515251e-05, 'délimités': 2.1270259922576255e-05, 'quatrièmement': 4.254051984515251e-05, 'critères': 6.381077976772877e-05, 'utilisera': 2.1270259922576255e-05, 'formuler': 4.254051984515251e-05, 'degré': 8.508103969030502e-05, 'cinquièmement': 4.254051984515251e-05, 'prévue': 4.254051984515251e-05, 'rares': 4.254051984515251e-05, 'occasions': 2.1270259922576255e-05, 'forcé': 2.1270259922576255e-05, 'défendre': 4.254051984515251e-05, 'mettrons': 2.1270259922576255e-05, 'fédéral': 2.1270259922576255e-05, 'régimes': 4.254051984515251e-05, 'subordonné': 2.1270259922576255e-05, 'comprennent': 2.1270259922576255e-05, 'clarification': 2.1270259922576255e-05, 'formalisation': 2.1270259922576255e-05, 'répondant': 2.1270259922576255e-05, 'distincte': 2.1270259922576255e-05, 'connexe': 2.1270259922576255e-05, 'radicale': 4.254051984515251e-05, 'dépendra': 2.1270259922576255e-05, 'abordera': 2.1270259922576255e-05, 'formulation': 6.381077976772877e-05, 'professeur': 2.1270259922576255e-05, 'somme': 2.1270259922576255e-05, 'déployé': 2.1270259922576255e-05, 'réalisation': 6.381077976772877e-05, 'approche': 0.0002765133789934913, 'contenue': 2.1270259922576255e-05, 'soirée': 2.1270259922576255e-05, 'ésotérique': 2.1270259922576255e-05, 'incohérente': 2.1270259922576255e-05, 'confuse': 4.254051984515251e-05, 'trouveraient': 6.381077976772877e-05, 'distinguer': 4.254051984515251e-05, 'présentent': 6.381077976772877e-05, 'similitudes': 2.1270259922576255e-05, 'possèdent': 2.1270259922576255e-05, 'attributs': 2.1270259922576255e-05, 'distincts': 2.1270259922576255e-05, 'significatives': 4.254051984515251e-05, 'explique': 2.1270259922576255e-05, 'remettre': 2.1270259922576255e-05, 'compréhension': 4.254051984515251e-05, 'émanent': 2.1270259922576255e-05, 'cig': 2.1270259922576255e-05, 'incluses': 2.1270259922576255e-05, 'futur': 2.1270259922576255e-05, 'cohérence': 2.1270259922576255e-05, 'défaut': 4.254051984515251e-05, 'concerneront': 2.1270259922576255e-05, 'amorcé': 2.1270259922576255e-05, 'hautement': 6.381077976772877e-05, 'aile': 8.508103969030502e-05, 'appartiens': 2.1270259922576255e-05, 'diffèrent': 2.1270259922576255e-05, 'substantiellement': 2.1270259922576255e-05, 'émises': 2.1270259922576255e-05, 'traitant': 2.1270259922576255e-05, 'concentrant': 2.1270259922576255e-05, 'habileté': 2.1270259922576255e-05, 'retourner': 2.1270259922576255e-05, 'andrew': 4.254051984515251e-05, 'innovations': 4.254051984515251e-05, 'contient': 2.1270259922576255e-05, 'attester': 2.1270259922576255e-05, 'communiquée': 2.1270259922576255e-05, 'requérir': 2.1270259922576255e-05, 'positif': 4.254051984515251e-05, 'votera': 2.1270259922576255e-05, 'contredise': 2.1270259922576255e-05, 'essence': 2.1270259922576255e-05, 'impliquer': 2.1270259922576255e-05, 'oui': 2.1270259922576255e-05, 'indécis': 2.1270259922576255e-05, 'restons': 2.1270259922576255e-05, 'doctrine': 2.1270259922576255e-05, 'confusion': 2.1270259922576255e-05, 'difficulté': 2.1270259922576255e-05, 'résultent': 2.1270259922576255e-05, 'absence': 4.254051984515251e-05, 'défini': 4.254051984515251e-05, 'protège': 4.254051984515251e-05, 'arroger': 2.1270259922576255e-05, 'juger': 4.254051984515251e-05, 'transformant': 2.1270259922576255e-05, 'franchement': 4.254051984515251e-05, 'pénible': 2.1270259922576255e-05, 'négatives': 2.1270259922576255e-05, 'dangereuses': 2.1270259922576255e-05, 'alinéa': 4.254051984515251e-05, '),': 4.254051984515251e-05, 'telles': 6.381077976772877e-05, 'arrêtés': 2.1270259922576255e-05, 'irresponsabilité': 0.00014889181945803377, 'visés': 2.1270259922576255e-05, 'recevable': 2.1270259922576255e-05, 'éventuellement': 2.1270259922576255e-05, 'rassure': 2.1270259922576255e-05, 'rassurer': 2.1270259922576255e-05, 'élaborée': 2.1270259922576255e-05, 'compliquée': 2.1270259922576255e-05, 'laisse': 2.1270259922576255e-05, 'préjudiciables': 2.1270259922576255e-05, 'impensables': 2.1270259922576255e-05, 'neil': 2.1270259922576255e-05, 'normaux': 2.1270259922576255e-05, 'voterai': 2.1270259922576255e-05, 'demanderai': 2.1270259922576255e-05, 'efforce': 2.1270259922576255e-05, 'protections': 2.1270259922576255e-05, 'arbitraire': 2.1270259922576255e-05, 'convenir': 4.254051984515251e-05, 'résout': 2.1270259922576255e-05, 'branle': 2.1270259922576255e-05, 'déterminer': 4.254051984515251e-05, 'concerné': 4.254051984515251e-05, 'explicitement': 2.1270259922576255e-05, 'attribuée': 2.1270259922576255e-05, 'réputée': 2.1270259922576255e-05, 'appartenir': 2.1270259922576255e-05, '13': 4.254051984515251e-05, 'embrouille': 2.1270259922576255e-05, 'obscurcir': 2.1270259922576255e-05, 'autonomie': 6.381077976772877e-05, 'indépendance': 0.00017016207938061004, 'parlent': 2.1270259922576255e-05, 'repose': 2.1270259922576255e-05, 'protégés': 2.1270259922576255e-05, 'directions': 2.1270259922576255e-05, 'conditionner': 2.1270259922576255e-05, 'partiels': 2.1270259922576255e-05, 'prémunir': 2.1270259922576255e-05, 'attaques': 2.1270259922576255e-05, 'menaçant': 2.1270259922576255e-05, 'pouvant': 6.381077976772877e-05, 'privés': 2.1270259922576255e-05, 'faisabilité': 2.1270259922576255e-05, 'indirecte': 2.1270259922576255e-05, 'écoutes': 4.254051984515251e-05, 'téléphoniques': 4.254051984515251e-05, 'polémique': 2.1270259922576255e-05, 'indirectes': 2.1270259922576255e-05, 'eurent': 2.1270259922576255e-05, 'mépris': 2.1270259922576255e-05, 'vérité': 2.1270259922576255e-05, 'acerbe': 2.1270259922576255e-05, 'magistrats': 4.254051984515251e-05, 'utilisent': 2.1270259922576255e-05, 'menant': 2.1270259922576255e-05, 'inévitable': 2.1270259922576255e-05, 'inconsciente': 2.1270259922576255e-05, 'partiale': 2.1270259922576255e-05, 'cachent': 2.1270259922576255e-05, 'jouissent': 2.1270259922576255e-05, 'théorisent': 2.1270259922576255e-05, 'séminaires': 2.1270259922576255e-05, 'fixant': 4.254051984515251e-05, 'ordres': 2.1270259922576255e-05, 'officiels': 2.1270259922576255e-05, 'particularité': 2.1270259922576255e-05, 'poursuivis': 2.1270259922576255e-05, 'concrètement': 2.1270259922576255e-05, 'prérogatives': 4.254051984515251e-05, 'analogie': 4.254051984515251e-05, 'italien': 4.254051984515251e-05, 'prévoient': 6.381077976772877e-05, 'effectives': 2.1270259922576255e-05, 'signalées': 4.254051984515251e-05, 'marras': 2.1270259922576255e-05, 'ex': 2.1270259922576255e-05, 'couvertes': 2.1270259922576255e-05, 'compétent': 4.254051984515251e-05, 'documentation': 2.1270259922576255e-05, 'rentre': 2.1270259922576255e-05, 'hypothèses': 2.1270259922576255e-05, 'partager': 2.1270259922576255e-05, 'arrangement': 2.1270259922576255e-05, 'précieux': 2.1270259922576255e-05, 'instar': 2.1270259922576255e-05, 'garantisse': 2.1270259922576255e-05, 'indifféremment': 2.1270259922576255e-05, 'résoudre': 8.508103969030502e-05, 'apparues': 2.1270259922576255e-05, 'législature': 2.1270259922576255e-05, 'fut': 4.254051984515251e-05, 'donnée': 4.254051984515251e-05, 'présidence': 0.00012762155953545753, 'considérée': 4.254051984515251e-05, 'irrecevable': 2.1270259922576255e-05, 'transmise': 4.254051984515251e-05, 'intéressé': 2.1270259922576255e-05, 'quitte': 2.1270259922576255e-05, 'considéra': 2.1270259922576255e-05, 'émanait': 2.1270259922576255e-05, 'étrangère': 2.1270259922576255e-05, 'représentations': 2.1270259922576255e-05, 'diplomatiques': 2.1270259922576255e-05, 'représentée': 2.1270259922576255e-05, 'communiquer': 6.381077976772877e-05, 'déferrer': 2.1270259922576255e-05, 'justifiée': 2.1270259922576255e-05, 'persécutés': 2.1270259922576255e-05, 'absolue': 2.1270259922576255e-05, 'interpréter': 2.1270259922576255e-05, 'développée': 4.254051984515251e-05, 'tutelle': 2.1270259922576255e-05, 'estiment': 2.1270259922576255e-05, 'privilège': 2.1270259922576255e-05, 'injustement': 2.1270259922576255e-05, 'nié': 2.1270259922576255e-05, 'interprété': 2.1270259922576255e-05, 'visé': 4.254051984515251e-05, 'retenu': 2.1270259922576255e-05, 'adoptée': 0.00010635129961288127, 'comprise': 2.1270259922576255e-05, 'réviser': 6.381077976772877e-05, 'élargies': 2.1270259922576255e-05, 'défendus': 2.1270259922576255e-05, 'capacité': 8.508103969030502e-05, 'obstinément': 2.1270259922576255e-05, 'bafouée': 2.1270259922576255e-05, 'témoigne': 2.1270259922576255e-05, 'contenues': 2.1270259922576255e-05, 'comprendraient': 2.1270259922576255e-05, 'devint': 2.1270259922576255e-05, 'émettrai': 2.1270259922576255e-05, 'livrer': 2.1270259922576255e-05, 'observations': 6.381077976772877e-05, 'dossier': 4.254051984515251e-05, 'compliqué': 4.254051984515251e-05, 'formulerai': 2.1270259922576255e-05, 'abstraction': 4.254051984515251e-05, 'statuer': 2.1270259922576255e-05, 'seconde': 0.00010635129961288127, 'observation': 4.254051984515251e-05, 'tend': 2.1270259922576255e-05, 'équité': 2.1270259922576255e-05, 'auquel': 4.254051984515251e-05, 'attachés': 2.1270259922576255e-05, 'harmonisation': 4.254051984515251e-05, 'souhaiterais': 0.00010635129961288127, 'préférer': 2.1270259922576255e-05, 'collective': 4.254051984515251e-05, 'agissant': 8.508103969030502e-05, 'évite': 2.1270259922576255e-05, 'joué': 2.1270259922576255e-05, 'associe': 2.1270259922576255e-05, 'évoquées': 2.1270259922576255e-05, 'close': 2.1270259922576255e-05, '0158': 2.1270259922576255e-05, 'figueiredo': 0.00017016207938061004, 'social': 0.00025524311907091507, 'régions': 4.254051984515251e-05, 'conjoint': 8.508103969030502e-05, 'inclusion': 0.00014889181945803377, 'apportées': 2.1270259922576255e-05, 'jeunesse': 2.1270259922576255e-05, 'éducation': 0.00014889181945803377, 'médias': 4.254051984515251e-05, 'sports': 2.1270259922576255e-05, 'konstantinos': 2.1270259922576255e-05, 'alyssandrakis': 2.1270259922576255e-05, 'chances': 0.00012762155953545753, 'joke': 2.1270259922576255e-05, 'swiebel': 4.254051984515251e-05, 'premiers': 6.381077976772877e-05, 'plans': 0.0003403241587612201, 'lisbonne': 8.508103969030502e-05, 'mars': 2.1270259922576255e-05, 'pauvreté': 0.0008295401369804739, 'communs': 4.254051984515251e-05, 'définis': 4.254051984515251e-05, 'promouvoir': 8.508103969030502e-05, 'ressources': 0.00012762155953545753, 'biens': 2.1270259922576255e-05, 'décentes': 2.1270259922576255e-05, 'risques': 0.00010635129961288127, 'vulnérables': 6.381077976772877e-05, 'mobiliser': 6.381077976772877e-05, 'acteurs': 6.381077976772877e-05, 'limitations': 2.1270259922576255e-05, 'diversité': 2.1270259922576255e-05, 'approches': 2.1270259922576255e-05, 'pointe': 2.1270259922576255e-05, 'défis': 0.00012762155953545753, 'urgent': 2.1270259922576255e-05, 'exhaustive': 2.1270259922576255e-05, 'causes': 6.381077976772877e-05, 'engagée': 8.508103969030502e-05, 'intentions': 4.254051984515251e-05, 'proclamées': 2.1270259922576255e-05, 'cohésion': 0.00010635129961288127, 'rappelle': 4.254051984515251e-05, 'revêtent': 6.381077976772877e-05, 'centraux': 2.1270259922576255e-05, 'identifiés': 2.1270259922576255e-05, 'développer': 8.508103969030502e-05, 'insertion': 4.254051984515251e-05, 'revenu': 0.00014889181945803377, 'adéquats': 2.1270259922576255e-05, 'dignes': 4.254051984515251e-05, 'inégalités': 2.1270259922576255e-05, 'enseignement': 0.00012762155953545753, 'familiale': 2.1270259922576255e-05, 'logement': 8.508103969030502e-05, 'transports': 0.0002339728591483388, 'sociaux': 0.00021270259922576254, 'soins': 2.1270259922576255e-05, 'divertissement': 2.1270259922576255e-05, 'prestation': 2.1270259922576255e-05, 'réhabiliter': 2.1270259922576255e-05, 'zones': 6.381077976772877e-05, 'touchées': 2.1270259922576255e-05, 'carences': 2.1270259922576255e-05, 'multiples': 4.254051984515251e-05, 'fondamental': 6.381077976772877e-05, 'procèdent': 2.1270259922576255e-05, 'redistribution': 4.254051984515251e-05, 'intégration': 0.00021270259922576254, 'intégrée': 0.00010635129961288127, 'pluridimensionnelle': 4.254051984515251e-05, 'fondée': 2.1270259922576255e-05, 'communautaire': 8.508103969030502e-05, 'ronde': 6.381077976772877e-05, 'tiendra': 4.254051984515251e-05, 'octobre': 8.508103969030502e-05, 'danoise': 6.381077976772877e-05, 'cherchant': 2.1270259922576255e-05, 'cibles': 2.1270259922576255e-05, 'accompagnées': 2.1270259922576255e-05, 'valeurs': 2.1270259922576255e-05, 'respectives': 2.1270259922576255e-05, 'crédits': 4.254051984515251e-05, 'assigné': 2.1270259922576255e-05, 'communautaires': 2.1270259922576255e-05, 'gouvernements': 0.00012762155953545753, 'principaux': 4.254051984515251e-05, 'mécanismes': 8.508103969030502e-05, 'fiscaux': 2.1270259922576255e-05, 'universel': 2.1270259922576255e-05, 'besoins': 6.381077976772877e-05, 'exposées': 4.254051984515251e-05, 'monétaires': 2.1270259922576255e-05, 'concurrence': 0.00019143233930318628, 'agricole': 2.1270259922576255e-05, 'pacte': 4.254051984515251e-05, 'stabilité': 4.254051984515251e-05, 'forment': 2.1270259922576255e-05, 'triangle': 4.254051984515251e-05, 'cohérent': 2.1270259922576255e-05, 'évaluée': 2.1270259922576255e-05, 'réduction': 2.1270259922576255e-05, 'significative': 4.254051984515251e-05, 'scandale': 2.1270259922576255e-05, '18': 0.00012762155953545753, '60': 6.381077976772877e-05, 'indicateurs': 0.00021270259922576254, 'crédibles': 2.1270259922576255e-05, 'pertinents': 2.1270259922576255e-05, 'mesurer': 4.254051984515251e-05, 'quotidienne': 2.1270259922576255e-05, 'avertissement': 4.254051984515251e-05, 'évolution': 6.381077976772877e-05, 'escamoter': 2.1270259922576255e-05, 'corrélation': 2.1270259922576255e-05, 'dépenses': 4.254051984515251e-05, 'publiques': 4.254051984515251e-05, 'transferts': 4.254051984515251e-05, 'pensions': 4.254051984515251e-05, 'retraite': 4.254051984515251e-05, 'menacés': 2.1270259922576255e-05, 'pourcentage': 2.1270259922576255e-05, 'atteindrait': 2.1270259922576255e-05, '26': 4.254051984515251e-05, 'prenions': 2.1270259922576255e-05, 'exclus': 0.00010635129961288127, 'cacher': 2.1270259922576255e-05, 'aboutir': 2.1270259922576255e-05, 'remis': 2.1270259922576255e-05, 'positive': 4.254051984515251e-05, 'concrétisation': 2.1270259922576255e-05, 'effective': 2.1270259922576255e-05, 'circonstancié': 2.1270259922576255e-05, 'liminaire': 2.1270259922576255e-05, 'quasi': 2.1270259922576255e-05, 'souligne': 4.254051984515251e-05, 'sport': 2.1270259922576255e-05, 'facteurs': 0.00012762155953545753, 'sortent': 2.1270259922576255e-05, 'qualifiés': 2.1270259922576255e-05, 'relevons': 2.1270259922576255e-05, 'prévention': 2.1270259922576255e-05, 'éducatif': 2.1270259922576255e-05, 'culturel': 2.1270259922576255e-05, 'gratuit': 4.254051984515251e-05, 'condition': 4.254051984515251e-05, 'préalable': 4.254051984515251e-05, 'invite': 2.1270259922576255e-05, 'dispenser': 2.1270259922576255e-05, 'durant': 2.1270259922576255e-05, 'inculquer': 2.1270259922576255e-05, 'connaissances': 2.1270259922576255e-05, 'numériques': 2.1270259922576255e-05, 'profonde': 2.1270259922576255e-05, 'agents': 2.1270259922576255e-05, 'chômage': 2.1270259922576255e-05, 'renforcée': 2.1270259922576255e-05, 'analphabétisme': 4.254051984515251e-05, 'maîtrise': 2.1270259922576255e-05, 'immigrés': 4.254051984515251e-05, 'programmes': 6.381077976772877e-05, 'accueil': 4.254051984515251e-05, 'conclut': 2.1270259922576255e-05, 'exige': 4.254051984515251e-05, 'reviendrons': 2.1270259922576255e-05, 'félicitées': 2.1270259922576255e-05, 'document': 2.1270259922576255e-05, 'intégrale': 2.1270259922576255e-05, 'remplir': 2.1270259922576255e-05, 'double': 2.1270259922576255e-05, 'productivité': 4.254051984515251e-05, 'surmontées': 2.1270259922576255e-05, 'augmentant': 2.1270259922576255e-05, 'gain': 2.1270259922576255e-05, 'convenu': 2.1270259922576255e-05, 'défavorisés': 2.1270259922576255e-05, 'raisonnement': 2.1270259922576255e-05, 'menée': 2.1270259922576255e-05, 'vain': 2.1270259922576255e-05, 'cherchons': 2.1270259922576255e-05, 'affirmation': 2.1270259922576255e-05, 'inégale': 2.1270259922576255e-05, 'payé': 4.254051984515251e-05, 'hommes': 6.381077976772877e-05, 'pauvres': 4.254051984515251e-05, 'dépendance': 2.1270259922576255e-05, 'combattue': 2.1270259922576255e-05, 'rémunéré': 2.1270259922576255e-05, 'durable': 4.254051984515251e-05, 'inégalité': 2.1270259922576255e-05, 'sexes': 2.1270259922576255e-05, 'facteur': 4.254051984515251e-05, 'joue': 6.381077976772877e-05, 'âgées': 6.381077976772877e-05, 'mères': 2.1270259922576255e-05, 'vulnérabilité': 2.1270259922576255e-05, 'diminuera': 2.1270259922576255e-05, 'analysées': 2.1270259922576255e-05, 'surcharge': 2.1270259922576255e-05, 'impayé': 2.1270259922576255e-05, 'revenus': 8.508103969030502e-05, 'vulnérable': 2.1270259922576255e-05, 'combinaison': 2.1270259922576255e-05, 'domestiques': 2.1270259922576255e-05, 'émancipation': 2.1270259922576255e-05, 'vent': 2.1270259922576255e-05, 'poupe': 2.1270259922576255e-05, 'avérer': 2.1270259922576255e-05, 'piège': 2.1270259922576255e-05, 'accent': 2.1270259922576255e-05, 'trouvant': 4.254051984515251e-05, 'partiel': 4.254051984515251e-05, 'congés': 2.1270259922576255e-05, 'incapacité': 2.1270259922576255e-05, 'comparaisons': 4.254051984515251e-05, 'fructueuses': 2.1270259922576255e-05, 'impatiente': 2.1270259922576255e-05, 'utilisés': 4.254051984515251e-05, 'asexués': 2.1270259922576255e-05, 'exposent': 2.1270259922576255e-05, 'foyer': 2.1270259922576255e-05, 'délicat': 4.254051984515251e-05, 'exagéré': 2.1270259922576255e-05, 'naviguons': 2.1270259922576255e-05, 'ambiguïté': 2.1270259922576255e-05, 'envisageable': 2.1270259922576255e-05, 'millionnaires': 2.1270259922576255e-05, 'argent': 4.254051984515251e-05, 'sévit': 2.1270259922576255e-05, 'tiers': 0.00010635129961288127, 'comparés': 2.1270259922576255e-05, 'difficiles': 2.1270259922576255e-05, 'comparé': 2.1270259922576255e-05, 'aisé': 2.1270259922576255e-05, 'vertu': 2.1270259922576255e-05, 'responsabilités': 6.381077976772877e-05, 'assumées': 2.1270259922576255e-05, 'conseils': 2.1270259922576255e-05, 'accords': 4.254051984515251e-05, 'résolu': 2.1270259922576255e-05, 'géographique': 2.1270259922576255e-05, 'élevé': 2.1270259922576255e-05, 'impossible': 4.254051984515251e-05, 'échanger': 4.254051984515251e-05, 'bons': 4.254051984515251e-05, 'amélioré': 4.254051984515251e-05, 'enfant': 2.1270259922576255e-05, 'dotée': 2.1270259922576255e-05, 'idéologiques': 2.1270259922576255e-05, \"'?\": 2.1270259922576255e-05, 'sages': 4.254051984515251e-05, 'leçons': 4.254051984515251e-05, 'facture': 2.1270259922576255e-05, 'négligeant': 2.1270259922576255e-05, 'véritable': 2.1270259922576255e-05, 'range': 2.1270259922576255e-05, 'défend': 2.1270259922576255e-05, 'sessions': 2.1270259922576255e-05, 'précédentes': 2.1270259922576255e-05, 'concertée': 2.1270259922576255e-05, 'admet': 2.1270259922576255e-05, 'affectées': 2.1270259922576255e-05, 'mette': 2.1270259922576255e-05, 'professe': 2.1270259922576255e-05, 'restrictions': 2.1270259922576255e-05, 'actuelles': 8.508103969030502e-05, 'examinées': 2.1270259922576255e-05, 'conjointe': 4.254051984515251e-05, 'coordonnée': 2.1270259922576255e-05, 'reconnue': 2.1270259922576255e-05, 'explicite': 2.1270259922576255e-05, 'acquis': 6.381077976772877e-05, 'concrétiser': 4.254051984515251e-05, 'figurent': 4.254051984515251e-05, 'cruciaux': 4.254051984515251e-05, 'proclamer': 2.1270259922576255e-05, 'assume': 4.254051984515251e-05, 'surmonter': 2.1270259922576255e-05, 'écueils': 2.1270259922576255e-05, 'croisade': 2.1270259922576255e-05, 'résistances': 2.1270259922576255e-05, 'dirigeants': 2.1270259922576255e-05, 'fonctionnaires': 2.1270259922576255e-05, 'chargés': 2.1270259922576255e-05, 'modifient': 2.1270259922576255e-05, 'organisations': 2.1270259922576255e-05, 'syndicales': 2.1270259922576255e-05, 'organisation': 6.381077976772877e-05, 'argumentés': 2.1270259922576255e-05, 'planification': 8.508103969030502e-05, 'bilan': 2.1270259922576255e-05, 'heurte': 2.1270259922576255e-05, 'manifeste': 2.1270259922576255e-05, 'éparpillement': 2.1270259922576255e-05, 'appropriés': 2.1270259922576255e-05, 'empressement': 2.1270259922576255e-05, 'tienne': 2.1270259922576255e-05, 'restructurations': 2.1270259922576255e-05, 'distinguent': 2.1270259922576255e-05, 'privatisation': 2.1270259922576255e-05, 'secteur': 0.0003615944186837963, 'énoncé': 2.1270259922576255e-05, 'libéralisation': 6.381077976772877e-05, 'clairs': 4.254051984515251e-05, 'sectorielles': 2.1270259922576255e-05, 'renforcera': 2.1270259922576255e-05, 'crédibilité': 2.1270259922576255e-05, 'insécurité': 2.1270259922576255e-05, 'mouvements': 4.254051984515251e-05, 'extrême': 2.1270259922576255e-05, 'droite': 2.1270259922576255e-05, 'projets': 0.00010635129961288127, 'envisagés': 2.1270259922576255e-05, 'assainissement': 2.1270259922576255e-05, 'finances': 2.1270259922576255e-05, 'conservera': 2.1270259922576255e-05, 'particulières': 4.254051984515251e-05, 'phase': 4.254051984515251e-05, 'enjeux': 4.254051984515251e-05, 'régissent': 2.1270259922576255e-05, 'conversion': 2.1270259922576255e-05, 'opérationnels': 2.1270259922576255e-05, 'méthodes': 4.254051984515251e-05, 'correspondante': 2.1270259922576255e-05, '2003': 4.254051984515251e-05, 'substantiel': 2.1270259922576255e-05, 'concis': 2.1270259922576255e-05, 'feux': 2.1270259922576255e-05, 'tenaient': 2.1270259922576255e-05, 'remarquer': 4.254051984515251e-05, 'admettrais': 2.1270259922576255e-05, 'pronk': 6.381077976772877e-05, 'déterminantes': 2.1270259922576255e-05, 'intercaler': 2.1270259922576255e-05, 'songez': 2.1270259922576255e-05, 'royaume': 4.254051984515251e-05, 'uni': 4.254051984515251e-05, 'diplôme': 2.1270259922576255e-05, 'rémunération': 2.1270259922576255e-05, 'inférieure': 2.1270259922576255e-05, 'homologues': 2.1270259922576255e-05, 'masculins': 2.1270259922576255e-05, 'carrière': 4.254051984515251e-05, 'bengali': 2.1270259922576255e-05, 'pakistanaise': 2.1270259922576255e-05, 'jeune': 2.1270259922576255e-05, 'blanc': 2.1270259922576255e-05, 'qualification': 2.1270259922576255e-05, 'interruptions': 2.1270259922576255e-05, 'contrats': 4.254051984515251e-05, 'durée': 4.254051984515251e-05, 'charges': 2.1270259922576255e-05, 'électives': 2.1270259922576255e-05, 'justifient': 4.254051984515251e-05, 'apportera': 6.381077976772877e-05, 'emplois': 4.254051984515251e-05, 'précaires': 2.1270259922576255e-05, 'atypiques': 2.1270259922576255e-05, 'impact': 2.1270259922576255e-05, 'reconnaît': 2.1270259922576255e-05, 'connaissant': 2.1270259922576255e-05, 'remédier': 2.1270259922576255e-05, 'conclusions': 6.381077976772877e-05, 'gagne': 2.1270259922576255e-05, 'réflexions': 4.254051984515251e-05, 'évoqués': 2.1270259922576255e-05, 'passées': 2.1270259922576255e-05, 'changé': 2.1270259922576255e-05, 'glissements': 2.1270259922576255e-05, 'inquiétant': 2.1270259922576255e-05, 'revient': 4.254051984515251e-05, 'priorité': 0.00010635129961288127, 'crains': 4.254051984515251e-05, 'compter': 6.381077976772877e-05, 'mobilisation': 2.1270259922576255e-05, 'venant': 2.1270259922576255e-05, 'associations': 2.1270259922576255e-05, 'placent': 2.1270259922576255e-05, 'combat': 2.1270259922576255e-05, 'ur': 4.254051984515251e-05, 'contradictions': 2.1270259922576255e-05, 'numéro': 2.1270259922576255e-05, 'détiennent': 2.1270259922576255e-05, 'dure': 2.1270259922576255e-05, 'distance': 2.1270259922576255e-05, 'marquée': 2.1270259922576255e-05, 'coutume': 2.1270259922576255e-05, 'lourds': 6.381077976772877e-05, 'soutienne': 2.1270259922576255e-05, 'voterons': 2.1270259922576255e-05, 'éthiques': 2.1270259922576255e-05, 'xxie': 4.254051984515251e-05, 'siècle': 6.381077976772877e-05, 'opportune': 2.1270259922576255e-05, 'pluridimensionnel': 2.1270259922576255e-05, 'influe': 2.1270259922576255e-05, 'perception': 2.1270259922576255e-05, 'fléau': 2.1270259922576255e-05, 'répercussions': 4.254051984515251e-05, 'macro': 2.1270259922576255e-05, 'stratégies': 2.1270259922576255e-05, 'consacrées': 2.1270259922576255e-05, 'courent': 4.254051984515251e-05, 'touchés': 2.1270259922576255e-05, 'chômeurs': 2.1270259922576255e-05, 'handicapés': 2.1270259922576255e-05, 'migrants': 2.1270259922576255e-05, 'création': 0.00010635129961288127, 'privilégient': 2.1270259922576255e-05, 'croissance': 0.00010635129961288127, 'maîtresse': 2.1270259922576255e-05, 'rempart': 2.1270259922576255e-05, 'incluant': 2.1270259922576255e-05, 'qualifications': 2.1270259922576255e-05, 'informatique': 2.1270259922576255e-05, 'envisager': 2.1270259922576255e-05, 'implication': 2.1270259922576255e-05, 'locales': 2.1270259922576255e-05, 'régionales': 2.1270259922576255e-05, 'partenaires': 4.254051984515251e-05, 'souviendront': 2.1270259922576255e-05, 'fixés': 2.1270259922576255e-05, 'sommets': 4.254051984515251e-05, 'stockholm': 4.254051984515251e-05, 'fixé': 4.254051984515251e-05, 'constaté': 2.1270259922576255e-05, 'inchangés': 2.1270259922576255e-05, 'vivent': 2.1270259922576255e-05, 'dessous': 4.254051984515251e-05, 'correspond': 2.1270259922576255e-05, 'aggravantes': 2.1270259922576255e-05, 'luxembourgeois': 2.1270259922576255e-05, 'équivaut': 2.1270259922576255e-05, 'portugais': 2.1270259922576255e-05, 'coût': 4.254051984515251e-05, 'supérieur': 2.1270259922576255e-05, 'moyenne': 6.381077976772877e-05, 'finlande': 2.1270259922576255e-05, 'danemark': 2.1270259922576255e-05, 'élevés': 4.254051984515251e-05, 'inférieur': 2.1270259922576255e-05, 'citons': 2.1270259922576255e-05, 'philosophie': 4.254051984515251e-05, 'trouverait': 4.254051984515251e-05, 'anéantie': 4.254051984515251e-05, 'rappellerai': 2.1270259922576255e-05, 'huit': 6.381077976772877e-05, 'ilda': 4.254051984515251e-05, 'approuvés': 2.1270259922576255e-05, 'passion': 6.381077976772877e-05, 'conviction': 4.254051984515251e-05, 'sembler': 2.1270259922576255e-05, 'chahuté': 2.1270259922576255e-05, 'recevront': 2.1270259922576255e-05, 'rejetés': 4.254051984515251e-05, 'tombe': 2.1270259922576255e-05, 'plat': 2.1270259922576255e-05, 'bastos': 2.1270259922576255e-05, 'traitées': 2.1270259922576255e-05, 'éloquence': 2.1270259922576255e-05, 'ascendant': 2.1270259922576255e-05, 'descendant': 2.1270259922576255e-05, 'attaquer': 2.1270259922576255e-05, 'conjointes': 2.1270259922576255e-05, 'faisait': 2.1270259922576255e-05, 'considérant': 4.254051984515251e-05, 'vigoureusement': 2.1270259922576255e-05, 'dessus': 2.1270259922576255e-05, 'attire': 2.1270259922576255e-05, 'assemblé': 2.1270259922576255e-05, 'attribue': 2.1270259922576255e-05, 'temporaire': 4.254051984515251e-05, 'intérimaire': 2.1270259922576255e-05, 'soutiens': 6.381077976772877e-05, 'fondations': 2.1270259922576255e-05, 'réalités': 2.1270259922576255e-05, 'apparaître': 4.254051984515251e-05, 'contribuent': 2.1270259922576255e-05, 'multidimensionnelle': 2.1270259922576255e-05, 'soulignant': 2.1270259922576255e-05, 'briser': 2.1270259922576255e-05, 'cycle': 2.1270259922576255e-05, 'persistante': 2.1270259922576255e-05, 'congénitale': 2.1270259922576255e-05, 'marginalisation': 2.1270259922576255e-05, 'luxembourg': 4.254051984515251e-05, 'analogue': 2.1270259922576255e-05, 'démarré': 2.1270259922576255e-05, 'endiguer': 2.1270259922576255e-05, 'articulées': 2.1270259922576255e-05, 'handicapées': 2.1270259922576255e-05, 'autonomes': 2.1270259922576255e-05, 'distribuer': 2.1270259922576255e-05, 'bulletins': 2.1270259922576255e-05, 'péninsule': 2.1270259922576255e-05, 'ibérique': 2.1270259922576255e-05, 'récemment': 2.1270259922576255e-05, 'barcelone': 4.254051984515251e-05, 'dates': 4.254051984515251e-05, 'lieux': 4.254051984515251e-05, 'souvenirs': 2.1270259922576255e-05, 'température': 2.1270259922576255e-05, 'développement': 8.508103969030502e-05, 'intraitable': 2.1270259922576255e-05, 'réfléchissant': 2.1270259922576255e-05, 'lisant': 2.1270259922576255e-05, '19': 2.1270259922576255e-05, '22': 4.254051984515251e-05, '%)': 2.1270259922576255e-05, 'vit': 2.1270259922576255e-05, 'critère': 4.254051984515251e-05, 'communément': 2.1270259922576255e-05, 'inférieurs': 2.1270259922576255e-05, 'maintient': 4.254051984515251e-05, 'taux': 4.254051984515251e-05, 'pib': 2.1270259922576255e-05, 'lutter': 6.381077976772877e-05, 'contestées': 2.1270259922576255e-05, 'concessions': 2.1270259922576255e-05, 'réciproques': 2.1270259922576255e-05, 'fonde': 2.1270259922576255e-05, 'douter': 2.1270259922576255e-05, 'miser': 2.1270259922576255e-05, 'technologies': 2.1270259922576255e-05, 'technologique': 2.1270259922576255e-05, 'environnementale': 2.1270259922576255e-05, 'amélioration': 6.381077976772877e-05, 'allocations': 2.1270259922576255e-05, 'termine': 2.1270259922576255e-05, 'exécution': 4.254051984515251e-05, 'impulsion': 2.1270259922576255e-05, 'administrations': 2.1270259922576255e-05, 'final': 4.254051984515251e-05, 'fondamentales': 2.1270259922576255e-05, 'isocèle': 2.1270259922576255e-05, 'équilibrés': 4.254051984515251e-05, 'concernent': 8.508103969030502e-05, 'définit': 2.1270259922576255e-05, 'dépasse': 2.1270259922576255e-05, '65': 2.1270259922576255e-05, 'souscrivant': 2.1270259922576255e-05, 'venons': 2.1270259922576255e-05, 'devenu': 2.1270259922576255e-05, 'dimension': 2.1270259922576255e-05, 'évaluation': 8.508103969030502e-05, 'incidences': 2.1270259922576255e-05, 'effort': 2.1270259922576255e-05, 'conformément': 2.1270259922576255e-05, 'séparation': 4.254051984515251e-05, 'prudents': 2.1270259922576255e-05, 'décentralise': 2.1270259922576255e-05, 'exerce': 2.1270259922576255e-05, 'cadres': 2.1270259922576255e-05, 'législatifs': 2.1270259922576255e-05, 'significatifs': 2.1270259922576255e-05, 'agencés': 2.1270259922576255e-05, 'excellentes': 2.1270259922576255e-05, 'acquises': 2.1270259922576255e-05, 'transmises': 2.1270259922576255e-05, 'apportez': 2.1270259922576255e-05, 'souscris': 2.1270259922576255e-05, 'ouvertement': 2.1270259922576255e-05, 'participatifs': 2.1270259922576255e-05, 'chiffrés': 2.1270259922576255e-05, 'indispensables': 4.254051984515251e-05, 'régional': 2.1270259922576255e-05, 'local': 2.1270259922576255e-05, 'adéquation': 2.1270259922576255e-05, 'réalisés': 2.1270259922576255e-05, 'évalués': 2.1270259922576255e-05, 'prochains': 2.1270259922576255e-05, 'centrer': 2.1270259922576255e-05, 'génération': 2.1270259922576255e-05, 'soumise': 2.1270259922576255e-05, 'laeken': 4.254051984515251e-05, 'concret': 2.1270259922576255e-05, 'outils': 2.1270259922576255e-05, 'mentionner': 2.1270259922576255e-05, 'étendu': 2.1270259922576255e-05, 'adhésion': 6.381077976772877e-05, 'signons': 2.1270259922576255e-05, 'semestre': 2.1270259922576255e-05, 'décembre': 4.254051984515251e-05, 'jouent': 2.1270259922576255e-05, 'printemps': 2.1270259922576255e-05, 'déterminants': 2.1270259922576255e-05, 'arrêter': 2.1270259922576255e-05, 'finales': 2.1270259922576255e-05, '0186': 2.1270259922576255e-05, 'stockmann': 0.00021270259922576254, 'régionale': 6.381077976772877e-05, 'tourisme': 6.381077976772877e-05, 'modifiant': 2.1270259922576255e-05, 'cee': 2.1270259922576255e-05, 'nº': 2.1270259922576255e-05, '95': 4.254051984515251e-05, '93': 4.254051984515251e-05, 'janvier': 2.1270259922576255e-05, '1993': 4.254051984515251e-05, 'créneaux': 0.0012124048155868464, 'horaires': 0.0009997022163610839, 'aéroports': 0.0002765133789934913, 'bougent': 2.1270259922576255e-05, 'ciel': 6.381077976772877e-05, 'heureusement': 2.1270259922576255e-05, 'transport': 0.00014889181945803377, 'aérien': 0.00038286467860637255, '11': 6.381077976772877e-05, 'septembre': 6.381077976772877e-05, 'semblent': 2.1270259922576255e-05, 'pratiquement': 2.1270259922576255e-05, 'oubliées': 2.1270259922576255e-05, 'jusque': 2.1270259922576255e-05, 'doublera': 2.1270259922576255e-05, '2015': 4.254051984515251e-05, 'capacités': 0.00010635129961288127, 'saturés': 4.254051984515251e-05, 'infrastructures': 8.508103969030502e-05, 'aéroportuaires': 0.00014889181945803377, 'sérieusement': 2.1270259922576255e-05, 'doubler': 2.1270259922576255e-05, 'pistes': 2.1270259922576255e-05, 'générer': 2.1270259922576255e-05, 'supplémentaires': 2.1270259922576255e-05, 'optimal': 2.1270259922576255e-05, 'décollage': 2.1270259922576255e-05, 'atterrissage': 2.1270259922576255e-05, 'slots': 2.1270259922576255e-05, 'appliqué': 2.1270259922576255e-05, 'imprécisions': 2.1270259922576255e-05, 'garantissait': 2.1270259922576255e-05, 'défavorisait': 2.1270259922576255e-05, 'arrivants': 0.0002765133789934913, 'autorisait': 2.1270259922576255e-05, 'mauvaises': 2.1270259922576255e-05, 'évolutions': 2.1270259922576255e-05, 'gris': 2.1270259922576255e-05, 'débattu': 4.254051984515251e-05, 'résultant': 2.1270259922576255e-05, 'réglementation': 6.381077976772877e-05, 'ciblée': 2.1270259922576255e-05, 'uniformes': 4.254051984515251e-05, 'échelle': 2.1270259922576255e-05, 'reconnaissance': 2.1270259922576255e-05, 'coordonné': 2.1270259922576255e-05, 'flexibilité': 0.00010635129961288127, 'transporteurs': 0.00040413493852894884, 'aériens': 0.0004254051984515251, 'utilisation': 0.00021270259922576254, 'propriété': 0.00010635129961288127, 'précisé': 2.1270259922576255e-05, 'intègrent': 2.1270259922576255e-05, 'indiscutable': 2.1270259922576255e-05, 'insignifiant': 2.1270259922576255e-05, 'renforcé': 4.254051984515251e-05, 'dégagé': 2.1270259922576255e-05, 'réparer': 2.1270259922576255e-05, 'dommages': 2.1270259922576255e-05, 'habilité': 2.1270259922576255e-05, 'respectent': 2.1270259922576255e-05, 'facilitateurs': 2.1270259922576255e-05, 'incompatibilités': 2.1270259922576255e-05, 'légitimes': 6.381077976772877e-05, 'pensons': 6.381077976772877e-05, 'reprogrammer': 2.1270259922576255e-05, 'optimiser': 2.1270259922576255e-05, 'progressivement': 2.1270259922576255e-05, 'élargi': 2.1270259922576255e-05, 'sert': 2.1270259922576255e-05, 'perd': 2.1270259922576255e-05, 'parer': 2.1270259922576255e-05, 'retiré': 2.1270259922576255e-05, 'lier': 2.1270259922576255e-05, 'père': 4.254051984515251e-05, 'aéronef': 2.1270259922576255e-05, 'démarche': 2.1270259922576255e-05, 'écologiques': 2.1270259922576255e-05, 'généré': 2.1270259922576255e-05, 'arrivant': 2.1270259922576255e-05, 'proposée': 2.1270259922576255e-05, 'plu': 2.1270259922576255e-05, 'correcte': 2.1270259922576255e-05, 'antagonisme': 2.1270259922576255e-05, 'observé': 2.1270259922576255e-05, 'liaisons': 4.254051984515251e-05, 'inhérente': 2.1270259922576255e-05, 'conforter': 2.1270259922576255e-05, 'affiné': 2.1270259922576255e-05, 'simplifié': 2.1270259922576255e-05, 'transfert': 4.254051984515251e-05, 'édictées': 2.1270259922576255e-05, 'assorties': 2.1270259922576255e-05, 'retirés': 2.1270259922576255e-05, 'abusive': 2.1270259922576255e-05, 'amendes': 2.1270259922576255e-05, 'infligées': 2.1270259922576255e-05, 'prie': 2.1270259922576255e-05, 'instauré': 2.1270259922576255e-05, 'renouvellement': 2.1270259922576255e-05, 'surcroît': 2.1270259922576255e-05, 'précipitation': 2.1270259922576255e-05, 'consacrée': 2.1270259922576255e-05, 'modèles': 2.1270259922576255e-05, 'accéléré': 2.1270259922576255e-05, 'recherche': 4.254051984515251e-05, 'terminé': 4.254051984515251e-05, 'inclut': 2.1270259922576255e-05, 'intégrer': 2.1270259922576255e-05, 'optimisation': 2.1270259922576255e-05, 'future': 4.254051984515251e-05, 'rencontrer': 2.1270259922576255e-05, 'séminaire': 2.1270259922576255e-05, 'petites': 2.1270259922576255e-05, 'compagnies': 0.00021270259922576254, 'aériennes': 0.00017016207938061004, 'soutenaient': 2.1270259922576255e-05, 'acceptaient': 2.1270259922576255e-05, 'croyaient': 2.1270259922576255e-05, 'prématuré': 2.1270259922576255e-05, 'gouffre': 2.1270259922576255e-05, 'parties': 8.508103969030502e-05, '.,': 2.1270259922576255e-05, 'mettrai': 2.1270259922576255e-05, 'engendre': 2.1270259922576255e-05, 'injustifiée': 2.1270259922576255e-05, 'réduiront': 2.1270259922576255e-05, 'destinés': 2.1270259922576255e-05, 'conserver': 2.1270259922576255e-05, 'profitent': 2.1270259922576255e-05, 'passagers': 8.508103969030502e-05, 'suppression': 4.254051984515251e-05, 'préjudiciable': 2.1270259922576255e-05, 'ferait': 2.1270259922576255e-05, 'écrouler': 2.1270259922576255e-05, 'redéposé': 2.1270259922576255e-05, 'allocation': 4.254051984515251e-05, 'créneau': 8.508103969030502e-05, 'unilatéralement': 2.1270259922576255e-05, '168': 2.1270259922576255e-05, 'coordonnés': 2.1270259922576255e-05, 'alloués': 2.1270259922576255e-05, 'exploitant': 2.1270259922576255e-05, 'redéfinition': 2.1270259922576255e-05, 'nécessiterait': 2.1270259922576255e-05, 'allusion': 4.254051984515251e-05, 'nulle': 2.1270259922576255e-05, 'départ': 2.1270259922576255e-05, 'possession': 6.381077976772877e-05, 'forte': 2.1270259922576255e-05, 'rencontrera': 2.1270259922576255e-05, 'remises': 2.1270259922576255e-05, 'naïf': 2.1270259922576255e-05, 'vision': 2.1270259922576255e-05, 'conclus': 2.1270259922576255e-05, 'amène': 2.1270259922576255e-05, 'négociable': 2.1270259922576255e-05, 'échéant': 4.254051984515251e-05, 'aea': 2.1270259922576255e-05, 'iata': 2.1270259922576255e-05, 'quatorze': 2.1270259922576255e-05, 'prévision': 2.1270259922576255e-05, 'pénurie': 2.1270259922576255e-05, 'désapprouve': 2.1270259922576255e-05, 'formellement': 2.1270259922576255e-05, 'mythe': 2.1270259922576255e-05, 'vivace': 2.1270259922576255e-05, 'réalisent': 2.1270259922576255e-05, 'bénéfices': 2.1270259922576255e-05, 'perte': 2.1270259922576255e-05, 'ba': 2.1270259922576255e-05, 'heathrow': 2.1270259922576255e-05, 'lancement': 6.381077976772877e-05, 'opérations': 2.1270259922576255e-05, 'offert': 2.1270259922576255e-05, 'aboutira': 2.1270259922576255e-05, 'efficient': 2.1270259922576255e-05, 'industrie': 6.381077976772877e-05, 'aéroportuaire': 8.508103969030502e-05, 'qualités': 2.1270259922576255e-05, 'documenté': 2.1270259922576255e-05, 'négligeable': 4.254051984515251e-05, 'accordée': 6.381077976772877e-05, 'souple': 2.1270259922576255e-05, 'entreprises': 2.1270259922576255e-05, 'commerciaux': 4.254051984515251e-05, 'exploitation': 2.1270259922576255e-05, 'aéronefs': 4.254051984515251e-05, 'minimale': 2.1270259922576255e-05, 'occasionner': 2.1270259922576255e-05, 'trafic': 8.508103969030502e-05, 'apporté': 2.1270259922576255e-05, 'précisant': 2.1270259922576255e-05, 'dépendante': 2.1270259922576255e-05, 'demandés': 2.1270259922576255e-05, 'affaiblir': 2.1270259922576255e-05, 'entrepris': 2.1270259922576255e-05, 'engorgement': 2.1270259922576255e-05, 'concilier': 2.1270259922576255e-05, 'laborieuse': 2.1270259922576255e-05, '57': 6.381077976772877e-05, 'remette': 2.1270259922576255e-05, 'détaillée': 2.1270259922576255e-05, 'refonte': 2.1270259922576255e-05, 'mi': 2.1270259922576255e-05, 'parcours': 4.254051984515251e-05, 'vérifie': 2.1270259922576255e-05, 'semblerait': 2.1270259922576255e-05, 'airs': 2.1270259922576255e-05, 'apparence': 2.1270259922576255e-05, 'trompeuse': 2.1270259922576255e-05, 'suscite': 2.1270259922576255e-05, 'crée': 2.1270259922576255e-05, 'constatation': 2.1270259922576255e-05, 'touche': 2.1270259922576255e-05, 'penche': 2.1270259922576255e-05, 'hypothèse': 2.1270259922576255e-05, 'unanimité': 4.254051984515251e-05, 'attendre': 4.254051984515251e-05, 'tournent': 2.1270259922576255e-05, 'risquerait': 2.1270259922576255e-05, 'apports': 2.1270259922576255e-05, 'réseau': 2.1270259922576255e-05, 'recevraient': 2.1270259922576255e-05, 'classe': 2.1270259922576255e-05, 'opérateurs': 4.254051984515251e-05, 'retrouvons': 2.1270259922576255e-05, 'largement': 2.1270259922576255e-05, 'vice': 8.508103969030502e-05, 'présidente': 8.508103969030502e-05, 'permets': 2.1270259922576255e-05, 'foster': 6.381077976772877e-05, 'apprécie': 2.1270259922576255e-05, 'minoritaire': 2.1270259922576255e-05, 'illégaux': 2.1270259922576255e-05, 'servent': 2.1270259922576255e-05, 'respectueuse': 2.1270259922576255e-05, 'rejettera': 2.1270259922576255e-05, 'axé': 2.1270259922576255e-05, 'octroyés': 2.1270259922576255e-05, 'britanniques': 4.254051984515251e-05, 'partageront': 2.1270259922576255e-05, 'recourir': 2.1270259922576255e-05, 'attribuer': 6.381077976772877e-05, 'augmenter': 2.1270259922576255e-05, 'écologique': 2.1270259922576255e-05, 'fidèle': 2.1270259922576255e-05, 'applicable': 2.1270259922576255e-05, 'récession': 2.1270259922576255e-05, 'croyons': 2.1270259922576255e-05, 'profitable': 2.1270259922576255e-05, 'illustrant': 2.1270259922576255e-05, 'chute': 4.254051984515251e-05, 'monopoles': 4.254051984515251e-05, 'marchés': 2.1270259922576255e-05, 'circulation': 2.1270259922576255e-05, 'marchandises': 2.1270259922576255e-05, 'sait': 2.1270259922576255e-05, 'hôtesse': 2.1270259922576255e-05, 'gestion': 2.1270259922576255e-05, 'favoriser': 2.1270259922576255e-05, 'su': 2.1270259922576255e-05, 'dominantes': 2.1270259922576255e-05, 'dynamiques': 2.1270259922576255e-05, 'cherchent': 2.1270259922576255e-05, 'maximaliser': 2.1270259922576255e-05, 'bénéfice': 2.1270259922576255e-05, 'innovateur': 2.1270259922576255e-05, 'dégage': 2.1270259922576255e-05, 'value': 2.1270259922576255e-05, 'baisse': 2.1270259922576255e-05, 'prix': 4.254051984515251e-05, 'légèrement': 2.1270259922576255e-05, 'aviation': 2.1270259922576255e-05, 'constante': 2.1270259922576255e-05, 'choisie': 2.1270259922576255e-05, 'libèrent': 2.1270259922576255e-05, 'court': 2.1270259922576255e-05, 'protectionnisme': 2.1270259922576255e-05, 'ennemi': 2.1270259922576255e-05, 'pauvre': 2.1270259922576255e-05, 'portefeuille': 2.1270259922576255e-05, 'contribuables': 2.1270259922576255e-05, 'payer': 2.1270259922576255e-05, 'luxe': 2.1270259922576255e-05, 'sabena': 2.1270259922576255e-05, 'abrogation': 2.1270259922576255e-05, 'bilatéraux': 2.1270259922576255e-05, 'scandaleuse': 2.1270259922576255e-05, 'promptitude': 2.1270259922576255e-05, 'terminerai': 2.1270259922576255e-05, 'déréglementation': 6.381077976772877e-05, 'ministère': 2.1270259922576255e-05, 'commerce': 2.1270259922576255e-05, 'consommation': 2.1270259922576255e-05, 'nommé': 2.1270259922576255e-05, 'norman': 2.1270259922576255e-05, 'tebbitt': 2.1270259922576255e-05, 'trouvions': 2.1270259922576255e-05, 'ciels': 2.1270259922576255e-05, 'directeur': 0.00010635129961288127, 'britannique': 2.1270259922576255e-05, 'regret': 2.1270259922576255e-05, 'quitté': 2.1270259922576255e-05, 'londres': 6.381077976772877e-05, '21': 2.1270259922576255e-05, 'monopole': 2.1270259922576255e-05, 'relie': 2.1270259922576255e-05, 'voyageons': 2.1270259922576255e-05, 'habile': 2.1270259922576255e-05, 'parvenu': 2.1270259922576255e-05, 'rapides': 2.1270259922576255e-05, 'investissements': 4.254051984515251e-05, 'compagnie': 4.254051984515251e-05, 'taxi': 2.1270259922576255e-05, 'aérienne': 2.1270259922576255e-05, 'lancé': 6.381077976772877e-05, 'déstabiliser': 4.254051984515251e-05, 'tomber': 2.1270259922576255e-05, 'accompagnement': 2.1270259922576255e-05, 'prévoir': 2.1270259922576255e-05, 'financiers': 2.1270259922576255e-05, 'fonds': 4.254051984515251e-05, 'transition': 2.1270259922576255e-05, 'prudente': 2.1270259922576255e-05, 'mettra': 2.1270259922576255e-05, 'fonctionné': 2.1270259922576255e-05, 'pressions': 2.1270259922576255e-05, 'accrues': 4.254051984515251e-05, 'exercées': 2.1270259922576255e-05, 'études': 4.254051984515251e-05, 'signalent': 2.1270259922576255e-05, 'uniforme': 2.1270259922576255e-05, 'étapes': 4.254051984515251e-05, 'abonde': 2.1270259922576255e-05, 'répété': 2.1270259922576255e-05, 'déficiences': 4.254051984515251e-05, 'interprétées': 2.1270259922576255e-05, 'sachons': 2.1270259922576255e-05, 'sortir': 2.1270259922576255e-05, 'décoller': 4.254051984515251e-05, 'atterrir': 4.254051984515251e-05, 'survoler': 2.1270259922576255e-05, 'traverser': 2.1270259922576255e-05, 'aides': 2.1270259922576255e-05, 'fournis': 2.1270259922576255e-05, 'endroits': 2.1270259922576255e-05, 'deva': 2.1270259922576255e-05, 'employons': 2.1270259922576255e-05, 'transparents': 2.1270259922576255e-05, 'agirons': 2.1270259922576255e-05, 'chocs': 2.1270259922576255e-05, 'excessifs': 2.1270259922576255e-05, 'insupportables': 2.1270259922576255e-05, 'souhaitons': 2.1270259922576255e-05, 'fragiliser': 2.1270259922576255e-05, 'attente': 2.1270259922576255e-05, 'préparons': 2.1270259922576255e-05, 'garantissent': 2.1270259922576255e-05, 'choc': 2.1270259922576255e-05, 'transparentes': 2.1270259922576255e-05, 'optique': 2.1270259922576255e-05, 'apprécions': 2.1270259922576255e-05, 'pondérée': 2.1270259922576255e-05, 'pragmatique': 2.1270259922576255e-05, '35': 4.254051984515251e-05, 'confèrent': 2.1270259922576255e-05, 'revanche': 2.1270259922576255e-05, 'rejetons': 2.1270259922576255e-05, '54': 2.1270259922576255e-05, '55': 2.1270259922576255e-05, 'affecter': 2.1270259922576255e-05, 'noir': 2.1270259922576255e-05, 'faux': 2.1270259922576255e-05, 'rett': 2.1270259922576255e-05, '28': 2.1270259922576255e-05, 'modifieraient': 2.1270259922576255e-05, 'décharge': 2.1270259922576255e-05, 'obligations': 4.254051984515251e-05, 'majeures': 2.1270259922576255e-05, 'tenus': 2.1270259922576255e-05, 'négligence': 2.1270259922576255e-05, 'délibérée': 2.1270259922576255e-05, 'incompatible': 2.1270259922576255e-05, 'néglige': 2.1270259922576255e-05, '23': 2.1270259922576255e-05, 'accepte': 2.1270259922576255e-05, '25': 2.1270259922576255e-05, 'opérationnelle': 2.1270259922576255e-05, 'exclut': 2.1270259922576255e-05, '43': 2.1270259922576255e-05, 'négatif': 2.1270259922576255e-05, 'intermodalité': 2.1270259922576255e-05, 'pohjamo': 2.1270259922576255e-05, 'respecter': 4.254051984515251e-05, '38': 2.1270259922576255e-05, '46': 2.1270259922576255e-05, 'redondants': 2.1270259922576255e-05, 'incohérents': 2.1270259922576255e-05, 'mondiales': 2.1270259922576255e-05, 'jarzembowski': 2.1270259922576255e-05, 'soutiendrez': 2.1270259922576255e-05, '0187': 2.1270259922576255e-05, 'mastorakis': 8.508103969030502e-05, '[': 2.1270259922576255e-05, '15121': 2.1270259922576255e-05, 'c5': 2.1270259922576255e-05, '0115': 2.1270259922576255e-05, '0327': 2.1270259922576255e-05, 'cod': 2.1270259922576255e-05, ')]': 2.1270259922576255e-05, 'instituant': 4.254051984515251e-05, 'agence': 0.0005317564980644063, 'maritime': 0.0004254051984515251, 'concluons': 2.1270259922576255e-05, 'collaboré': 4.254051984515251e-05, 'cherchait': 2.1270259922576255e-05, 'assistance': 6.381077976772877e-05, 'composition': 4.254051984515251e-05, 'représenter': 2.1270259922576255e-05, 'experts': 2.1270259922576255e-05, 'externes': 2.1270259922576255e-05, 'repris': 2.1270259922576255e-05, 'prévoyant': 2.1270259922576255e-05, 'expresse': 2.1270259922576255e-05, 'visites': 2.1270259922576255e-05, 'consultatif': 2.1270259922576255e-05, 'nommer': 2.1270259922576255e-05, 'disposent': 2.1270259922576255e-05, 'couverts': 2.1270259922576255e-05, 'révocation': 4.254051984515251e-05, 'incorporés': 2.1270259922576255e-05, 'représenté': 2.1270259922576255e-05, 'professionnels': 0.00010635129961288127, 'nommés': 4.254051984515251e-05, 'consultation': 2.1270259922576255e-05, 'suivront': 2.1270259922576255e-05, 'reformulation': 2.1270259922576255e-05, 'secteurs': 6.381077976772877e-05, 'qualifiée': 2.1270259922576255e-05, 'cinquièmes': 2.1270259922576255e-05, 'précède': 2.1270259922576255e-05, 'constatons': 2.1270259922576255e-05, 'initiale': 2.1270259922576255e-05, 'conservés': 2.1270259922576255e-05, 'marin': 6.381077976772877e-05, 'jugé': 2.1270259922576255e-05, 'opportun': 2.1270259922576255e-05, 'introduite': 2.1270259922576255e-05, 'singulière': 2.1270259922576255e-05, 'spécial': 2.1270259922576255e-05, 'assuré': 2.1270259922576255e-05, 'devient': 2.1270259922576255e-05, 'malaisée': 2.1270259922576255e-05, 'maritimes': 4.254051984515251e-05, 'proximité': 2.1270259922576255e-05, 'vols': 2.1270259922576255e-05, 'directs': 2.1270259922576255e-05, 'insulaire': 2.1270259922576255e-05, 'histoire': 2.1270259922576255e-05, 'millénaire': 2.1270259922576255e-05, 'possédant': 2.1270259922576255e-05, 'flotte': 2.1270259922576255e-05, 'commerciale': 2.1270259922576255e-05, 'annonçait': 2.1270259922576255e-05, 'décortiqué': 2.1270259922576255e-05, 'reflet': 2.1270259922576255e-05, 'caractérisé': 2.1270259922576255e-05, 'né': 2.1270259922576255e-05, 'surgi': 2.1270259922576255e-05, 'accidents': 2.1270259922576255e-05, 'produits': 2.1270259922576255e-05, 'côtes': 2.1270259922576255e-05, 'agences': 2.1270259922576255e-05, 'assistons': 2.1270259922576255e-05, ').': 2.1270259922576255e-05, 'partagé': 2.1270259922576255e-05, 'traduite': 2.1270259922576255e-05, 'passons': 2.1270259922576255e-05, 'conflictuels': 2.1270259922576255e-05, 'compliqués': 2.1270259922576255e-05, 'cabotage': 2.1270259922576255e-05, 'apparemment': 2.1270259922576255e-05, 'navigation': 2.1270259922576255e-05, 'plaisance': 2.1270259922576255e-05, 'motos': 2.1270259922576255e-05, 'nautiques': 2.1270259922576255e-05, 'canots': 2.1270259922576255e-05, 'suscitent': 2.1270259922576255e-05, 'capable': 2.1270259922576255e-05, 'interconnexion': 2.1270259922576255e-05, 'recommandation': 4.254051984515251e-05, 'clauses': 2.1270259922576255e-05, 'restrictives': 2.1270259922576255e-05, 'énoncées': 2.1270259922576255e-05, 'talent': 4.254051984515251e-05, 'guidé': 2.1270259922576255e-05, 'naufrage': 6.381077976772877e-05, 'erika': 0.00019143233930318628, 'parvenant': 2.1270259922576255e-05, 'hommage': 2.1270259922576255e-05, 'désastres': 2.1270259922576255e-05, 'navires': 2.1270259922576255e-05, 'eaux': 2.1270259922576255e-05, 'reproduisent': 4.254051984515251e-05, 'lois': 2.1270259922576255e-05, 'fleurissaient': 2.1270259922576255e-05, 'respectées': 2.1270259922576255e-05, 'coordonnera': 2.1270259922576255e-05, 'suivra': 2.1270259922576255e-05, 'fera': 4.254051984515251e-05, 'fournira': 2.1270259922576255e-05, 'travaillera': 2.1270259922576255e-05, 'mers': 4.254051984515251e-05, 'sûres': 4.254051984515251e-05, 'côtières': 2.1270259922576255e-05, 'resté': 2.1270259922576255e-05, 'xixe': 2.1270259922576255e-05, 'acceptant': 2.1270259922576255e-05, 'apporterons': 2.1270259922576255e-05, 'serons': 2.1270259922576255e-05, 'terribles': 6.381077976772877e-05, 'catastrophes': 2.1270259922576255e-05, 'jouera': 2.1270259922576255e-05, 'sauver': 2.1270259922576255e-05, 'vies': 4.254051984515251e-05, 'côtier': 2.1270259922576255e-05, 'soulignait': 2.1270259922576255e-05, 'boucler': 2.1270259922576255e-05, 'acceptés': 2.1270259922576255e-05, 'apportait': 2.1270259922576255e-05, 'disposé': 2.1270259922576255e-05, 'soulignaient': 2.1270259922576255e-05, 'ripoll': 2.1270259922576255e-05, 'watts': 2.1270259922576255e-05, 'débattons': 2.1270259922576255e-05, 'impliquent': 2.1270259922576255e-05, 'pollution': 6.381077976772877e-05, 'riverains': 2.1270259922576255e-05, 'flore': 2.1270259922576255e-05, 'faune': 2.1270259922576255e-05, 'six': 2.1270259922576255e-05, 'ii': 4.254051984515251e-05, 'sixième': 2.1270259922576255e-05, 'suspens': 2.1270259922576255e-05, 'augmentation': 2.1270259922576255e-05, 'pétrolière': 2.1270259922576255e-05, 'obligerait': 2.1270259922576255e-05, 'paquets': 2.1270259922576255e-05, 'intervenus': 2.1270259922576255e-05, 'tren': 2.1270259922576255e-05, 'professionnalisme': 2.1270259922576255e-05, 'rapidité': 2.1270259922576255e-05, 'demandent': 2.1270259922576255e-05, 'déversements': 2.1270259922576255e-05, 'pétrole': 2.1270259922576255e-05, 'dureté': 2.1270259922576255e-05, 'bénéficieront': 2.1270259922576255e-05, 'fixons': 2.1270259922576255e-05, 'sièges': 2.1270259922576255e-05, 'mettent': 2.1270259922576255e-05, 'prochain': 2.1270259922576255e-05, 'installée': 2.1270259922576255e-05})\n",
      "IDF d'un mot : ('reprise', 0.05340159263124044)\n"
     ]
    }
   ],
   "source": [
    "print(\"TF d'un document :\", list(all_docs_tf.items())[0])\n",
    "print(\"IDF d'un mot :\", list(idf.items())[0])\n"
   ]
  },
  {
   "cell_type": "markdown",
   "id": "b0e20960",
   "metadata": {},
   "source": [
    "# Exercice 7 : Calcul du taux de similarité cosinus\n",
    "Objectif :\n",
    "\n",
    "    - Représenter chaque document et chaque requête comme un vecteur pondéré TF-IDF.\n",
    "    - Calculer la similarité cosinus entre la requête et chaque document.\n",
    "    - Le cosinus donne un score entre 0 et 1 :\n",
    "        -  1 = document parfaitement similaire\n",
    "        - 0 = document totalement différent"
   ]
  },
  {
   "cell_type": "code",
   "execution_count": null,
   "id": "f5f54b71",
   "metadata": {},
   "outputs": [],
   "source": [
    "import math\n",
    "\n",
    "# 1. Fonction pour convertir une requête en vecteur TF-IDF\n",
    "def indexer_requete(requete, idf):\n",
    "    mots = decouper_mots(requete)\n",
    "    tf_requete = {}\n",
    "    for mot in mots:\n",
    "        mot = mot.lower()\n",
    "        if mot not in tf_requete:\n",
    "            tf_requete[mot] = 0\n",
    "        tf_requete[mot] += 1\n",
    "    total_mots = len(mots)\n",
    "    for mot in tf_requete:\n",
    "        tf = tf_requete[mot] / total_mots\n",
    "        idf_mot = idf.get(mot, 0)\n",
    "        tf_requete[mot] = tf * idf_mot\n",
    "    return tf_requete\n",
    "\n",
    "# 2. Fonction pour calculer le produit scalaire\n",
    "def produit_scalaire(vec1, vec2):\n",
    "    return sum(vec1.get(mot, 0) * vec2.get(mot, 0) for mot in vec1)\n",
    "\n",
    "# 3. Fonction pour calculer la norme d'un vecteur\n",
    "def norme(vec):\n",
    "    return math.sqrt(sum(val**2 for val in vec.values()))\n",
    "\n",
    "# 4. Fonction pour calculer la similarité cosinus\n",
    "def calculer_sim_cosinus(vec1, vec2):\n",
    "    num = produit_scalaire(vec1, vec2)\n",
    "    den = norme(vec1) * norme(vec2)\n",
    "    if den == 0:\n",
    "        return 0.0\n",
    "    return num / den\n",
    "\n",
    "# 5. Fonction principale : calculer la similarité entre la requête et tous les documents\n",
    "def calculer_ponderation_cosinus(requete, index_inverse, all_docs_tf, idf):\n",
    "    requete_vec = indexer_requete(requete, idf)\n",
    "    similarities = {}\n",
    "    \n",
    "    for doc, tf_doc in all_docs_tf.items():\n",
    "        doc_vec = {mot: tf_doc[mot] * idf.get(mot, 0) for mot in tf_doc}\n",
    "        sim = calculer_sim_cosinus(requete_vec, doc_vec)\n",
    "        similarities[doc] = sim\n",
    "    \n",
    "    return similarities\n"
   ]
  },
  {
   "cell_type": "markdown",
   "id": "d036d07b",
   "metadata": {},
   "source": [
    "#Exemple: Affichage des documents triés par similarité décroissante"
   ]
  },
  {
   "cell_type": "code",
   "execution_count": null,
   "id": "31ad2d35",
   "metadata": {},
   "outputs": [
    {
     "name": "stdout",
     "output_type": "stream",
     "text": [
      "Top documents les plus similaires :\n",
      "Sim: 0.0012 | ep-00-01-21-fr.txt\n",
      "Sim: 0.0011 | ep-00-01-18-fr.txt\n",
      "Sim: 0.0011 | ep-02-12-05-fr.txt\n",
      "Sim: 0.0011 | ep-03-09-25-fr.txt\n",
      "Sim: 0.0010 | ep-01-12-11-fr.txt\n",
      "Sim: 0.0010 | ep-00-12-13-fr.txt\n",
      "Sim: 0.0010 | ep-02-10-22-fr.txt\n",
      "Sim: 0.0010 | ep-02-11-18-fr.txt\n",
      "Sim: 0.0010 | ep-01-04-03-fr.txt\n",
      "Sim: 0.0009 | ep-01-10-23-fr.txt\n"
     ]
    }
   ],
   "source": [
    "\n",
    "requete = \"Commission Européenne\"\n",
    "similarites = calculer_ponderation_cosinus(requete, index_inverse, all_docs_tf, idf)\n",
    "docs_trouves_pond_liste = sorted(similarites.items(), key=lambda x: x[1], reverse=True)\n",
    "print(\"Top documents les plus similaires :\")\n",
    "for chemin, sim in docs_trouves_pond_liste[:10]:\n",
    "    print(f\"Sim: {sim:.4f} | {chemin.split('/')[-1]}\")\n"
   ]
  },
  {
   "cell_type": "markdown",
   "id": "a91dc228",
   "metadata": {},
   "source": [
    "# Exercice 8 : Classement par pertinence (Ranking final)\n",
    "Objectif :\n",
    "\n",
    "    - Maintenant qu’on sait calculer les similarités cosinus,\n",
    "    - On veut trier proprement les documents selon leur score de similarité (ordre décroissant).\n",
    "    - Affichage des 10 premiers résultats."
   ]
  },
  {
   "cell_type": "markdown",
   "id": "9fbfe03a",
   "metadata": {},
   "source": [
    "*On suppose que `similarites` contient {document: score} déjà calculé à l'exercice 7*\n",
    "\n",
    "Trier les documents selon la similarité cosinus décroissante et on affiche le classement"
   ]
  },
  {
   "cell_type": "code",
   "execution_count": 40,
   "id": "12f0f898",
   "metadata": {},
   "outputs": [
    {
     "name": "stdout",
     "output_type": "stream",
     "text": [
      "Top 10 documents les plus pertinents :\n",
      "\n",
      "Score: 0.0012 | Document: ep-00-01-21-fr.txt\n",
      "Score: 0.0011 | Document: ep-00-01-18-fr.txt\n",
      "Score: 0.0011 | Document: ep-02-12-05-fr.txt\n",
      "Score: 0.0011 | Document: ep-03-09-25-fr.txt\n",
      "Score: 0.0010 | Document: ep-01-12-11-fr.txt\n",
      "Score: 0.0010 | Document: ep-00-12-13-fr.txt\n",
      "Score: 0.0010 | Document: ep-02-10-22-fr.txt\n",
      "Score: 0.0010 | Document: ep-02-11-18-fr.txt\n",
      "Score: 0.0010 | Document: ep-01-04-03-fr.txt\n",
      "Score: 0.0009 | Document: ep-01-10-23-fr.txt\n"
     ]
    }
   ],
   "source": [
    "docs_trouves_pond_liste = sorted(similarites.items(), key=lambda x: x[1], reverse=True)\n",
    "\n",
    "print(\"Top 10 documents les plus pertinents :\\n\")\n",
    "for chemin, sim in docs_trouves_pond_liste[:10]:\n",
    "    print(f\"Score: {sim:.4f} | Document: {chemin.split('/')[-1]}\")"
   ]
  },
  {
   "cell_type": "markdown",
   "id": "ce9ec4e5",
   "metadata": {},
   "source": [
    "# Exercice 9 : Structuration de l’espace de recherche\n",
    "\n",
    "Avec ce que nous avons fais, on remarque que le moteur de recherche est précis mais lent\n",
    "\n",
    "Pourquoi ?\n",
    "Parce qu’actuellement, à chaque requête, on compare la requête à TOUS les documents → lourd si on a 10 000 ou 1 000 000 documents.\n",
    "\n",
    "Nous devons donc utiliser une méthode d'accélération comme :\n",
    "    - KD-Tree\n",
    "    - K-Means (clustering)\n",
    "    - LSH (Locality Sensitive Hashing)\n",
    "\n",
    "Puis comparer avec le moteur de recherche simple en terme de :\n",
    "    - Temps\n",
    "    - Résultats\n",
    "\n",
    "Mon choix ce base sur l'utiliser KMeans clustering car:\n",
    " KD-Tree c'est plutôt pour la recherche sur des vecteurs, ici c’est mieux de clusteriser les documents TF-IDF"
   ]
  },
  {
   "cell_type": "markdown",
   "id": "6afce080",
   "metadata": {},
   "source": [
    " # KMeans"
   ]
  },
  {
   "cell_type": "markdown",
   "id": "f92847ab",
   "metadata": {},
   "source": [
    "Etape 1. Regrouper les documents en clusters\n",
    "\n",
    "Importation de bibliotheque necessaire "
   ]
  },
  {
   "cell_type": "code",
   "execution_count": 41,
   "id": "11482538",
   "metadata": {},
   "outputs": [],
   "source": [
    "from sklearn.cluster import KMeans\n",
    "import numpy as np"
   ]
  },
  {
   "cell_type": "markdown",
   "id": "3b428b9b",
   "metadata": {},
   "source": [
    "On convertis tous les documents en vecteurs TF-IDF (sous forme d'une matrice numpy)"
   ]
  },
  {
   "cell_type": "code",
   "execution_count": 42,
   "id": "740d6dc4",
   "metadata": {},
   "outputs": [],
   "source": [
    "documents = list(all_docs_tf.keys())"
   ]
  },
  {
   "cell_type": "markdown",
   "id": "1ce6113f",
   "metadata": {},
   "source": [
    "Création d'une matrice où chaque ligne est un document, chaque colonne un mot. Et si le mot n'est pas dans un document, on met 0"
   ]
  },
  {
   "cell_type": "code",
   "execution_count": null,
   "id": "a93a0b05",
   "metadata": {},
   "outputs": [
    {
     "name": "stdout",
     "output_type": "stream",
     "text": [
      "Matrice de documents créée : (363, 82144)\n"
     ]
    }
   ],
   "source": [
    "vocabulaire = list(idf.keys())\n",
    "doc_vectors = []\n",
    "\n",
    "for doc in documents:\n",
    "    vecteur = []\n",
    "    tf_doc = all_docs_tf[doc]\n",
    "    for mot in vocabulaire:\n",
    "        tfidf_value = tf_doc.get(mot, 0) * idf.get(mot, 0)\n",
    "        vecteur.append(tfidf_value)\n",
    "    doc_vectors.append(vecteur)\n",
    "    \n",
    "doc_vectors = np.array(doc_vectors)\n",
    "print(\"Matrice de documents créée :\", doc_vectors.shape)\n"
   ]
  },
  {
   "cell_type": "markdown",
   "id": "e91629ab",
   "metadata": {},
   "source": [
    "Etape 2. Appliquons K-Means clustering"
   ]
  },
  {
   "cell_type": "code",
   "execution_count": null,
   "id": "1e98e45a",
   "metadata": {},
   "outputs": [
    {
     "name": "stdout",
     "output_type": "stream",
     "text": [
      "Documents regroupés en clusters.\n"
     ]
    }
   ],
   "source": [
    "nombre_clusters = 10\n",
    "kmeans = KMeans(n_clusters=nombre_clusters, random_state=42)\n",
    "kmeans.fit(doc_vectors)\n",
    "\n",
    "cluster_labels = kmeans.labels_\n",
    "doc_to_cluster = {doc: cluster for doc, cluster in zip(documents, cluster_labels)}\n",
    "print(\"Documents regroupés en clusters.\")"
   ]
  },
  {
   "cell_type": "markdown",
   "id": "6e16992e",
   "metadata": {},
   "source": [
    "Etape 3. Recherche plus rapide :\n",
    "\n",
    "Quand une requête arrive :\n",
    "- On convertit la requête en vecteur TF-IDF\n",
    "- On cherche seulement dans le cluster le plus proche, pas dans tous les documents.\n",
    "\n"
   ]
  },
  {
   "cell_type": "markdown",
   "id": "41138d46",
   "metadata": {},
   "source": [
    "#Exemple de recherche  rapide "
   ]
  },
  {
   "cell_type": "code",
   "execution_count": 45,
   "id": "60066f82",
   "metadata": {},
   "outputs": [
    {
     "name": "stdout",
     "output_type": "stream",
     "text": [
      "\n",
      "Top documents trouvés dans le cluster :\n",
      "\n",
      "Score: 0.0012 | Document: ep-00-01-21-fr.txt\n",
      "Score: 0.0011 | Document: ep-02-12-05-fr.txt\n",
      "Score: 0.0011 | Document: ep-03-09-25-fr.txt\n",
      "Score: 0.0010 | Document: ep-01-12-11-fr.txt\n",
      "Score: 0.0010 | Document: ep-00-12-13-fr.txt\n",
      "Score: 0.0010 | Document: ep-02-10-22-fr.txt\n",
      "Score: 0.0010 | Document: ep-02-11-18-fr.txt\n",
      "Score: 0.0010 | Document: ep-01-04-03-fr.txt\n",
      "Score: 0.0009 | Document: ep-01-10-23-fr.txt\n",
      "Score: 0.0009 | Document: ep-00-04-11-fr.txt\n"
     ]
    }
   ],
   "source": [
    "def recherche_clusterisee(requete, all_docs_tf, idf, doc_to_cluster, cluster_labels, doc_vectors):\n",
    "    requete_vec = indexer_requete(requete, idf)\n",
    "    requete_vecteur = []\n",
    "\n",
    "    for mot in vocabulaire:\n",
    "        requete_vecteur.append(requete_vec.get(mot, 0))\n",
    "    requete_vecteur = np.array(requete_vecteur).reshape(1, -1)\n",
    "\n",
    "    cluster_requete = kmeans.predict(requete_vecteur)[0]\n",
    "\n",
    "    candidats = [doc for doc, cluster in doc_to_cluster.items() if cluster == cluster_requete]\n",
    "\n",
    "    similarities = {}\n",
    "    for doc in candidats:\n",
    "        tf_doc = all_docs_tf[doc]\n",
    "        doc_vec = {mot: tf_doc[mot] * idf.get(mot, 0) for mot in tf_doc}\n",
    "        sim = calculer_sim_cosinus(requete_vec, doc_vec)\n",
    "        similarities[doc] = sim\n",
    "\n",
    "    return similarities\n",
    "\n",
    "requete = \"Commission Européenne\"\n",
    "similarites_cluster = recherche_clusterisee(requete, all_docs_tf, idf, doc_to_cluster, cluster_labels, doc_vectors)\n",
    "\n",
    "docs_trouves_pond_liste = sorted(similarites_cluster.items(), key=lambda x: x[1], reverse=True)\n",
    "\n",
    "print(\"\\nTop documents trouvés dans le cluster :\\n\")\n",
    "for chemin, sim in docs_trouves_pond_liste[:10]:\n",
    "    print(f\"Score: {sim:.4f} | Document: {chemin.split('/')[-1]}\")\n"
   ]
  },
  {
   "cell_type": "markdown",
   "id": "6b9eddae",
   "metadata": {},
   "source": [
    "Remarque :\n",
    "- La recherche est beaucoup plus rapide car on compare seulement aux documents du bon cluster.\n",
    "- un bon classement par pertinence.\n",
    "\n",
    "Avant\n",
    "  - Chercher dans tous les documents \n",
    "  - Lent pour grande base     \n",
    "Après\n",
    " - Chercher dans UN cluster\n",
    " - Rapide même pour grande base"
   ]
  }
 ],
 "metadata": {
  "kernelspec": {
   "display_name": "donne",
   "language": "python",
   "name": "python3"
  },
  "language_info": {
   "codemirror_mode": {
    "name": "ipython",
    "version": 3
   },
   "file_extension": ".py",
   "mimetype": "text/x-python",
   "name": "python",
   "nbconvert_exporter": "python",
   "pygments_lexer": "ipython3",
   "version": "3.10.16"
  }
 },
 "nbformat": 4,
 "nbformat_minor": 5
}
